{
 "cells": [
  {
   "cell_type": "markdown",
   "metadata": {
    "collapsed": false
   },
   "source": [
    "## 데이터 읽기"
   ]
  },
  {
   "cell_type": "code",
   "execution_count": 29,
   "metadata": {
    "collapsed": true
   },
   "outputs": [],
   "source": [
    "import numpy as np\n",
    "import gzip, cPickle\n",
    "from glob import glob\n",
    "\n",
    "# 개별 데이터를 읽어서 하나의 데이터셋으로 만들어줌.\n",
    "def dir_to_dataset(glob_files):\n",
    "    for file_count, file_name in enumerate( sorted(glob(glob_files)) ):\n",
    "        print(file_name)\n",
    "        pklPartial=gzip.open(file_name)\n",
    "        pklT= cPickle.load(pklPartial)\n",
    "        if file_count==0:\n",
    "            dataSet0=pklT[0]\n",
    "            dataSet1=pklT[1]\n",
    "        else:\n",
    "            dataSet0 = np.concatenate((dataSet0,pklT[0]))\n",
    "            dataSet1 = np.append(dataSet1,pklT[1])\n",
    "        pklPartial.close()\n",
    "        print len(dataSet0), len(dataSet1) \n",
    "\n",
    "    dataSet1=dataSet1-1\n",
    "    #print np.amax(dataSet1)\n",
    "    dataSet= (dataSet0, dataSet1)\n",
    "    return dataSet"
   ]
  },
  {
   "cell_type": "code",
   "execution_count": 56,
   "metadata": {
    "collapsed": false
   },
   "outputs": [
    {
     "name": "stdout",
     "output_type": "stream",
     "text": [
      "total 80\n",
      "drwxr-xr-x  5 root root  4096 May 16 03:47 .\n",
      "drwxr-xr-x 84 root root  4096 May 16 01:07 ..\n",
      "drwxr-xr-x  2 root root  4096 May 16 01:07 .ipynb_checkpoints\n",
      "drwxrwxr-x  2 1000 1000  4096 May 12 02:08 data\n",
      "-rw-r--r--  1 root root 65527 May 16 03:47 test.ipynb\n",
      "total 707896\n",
      "-rw-r--r-- 1 1000 1000 32351820 Jan 25 07:18 mrna_20160125-200855_type1_00.pkl.gz\n",
      "-rw-r--r-- 1 1000 1000 32096294 Jan 25 07:19 mrna_20160125-200855_type1_01.pkl.gz\n",
      "-rw-r--r-- 1 1000 1000 32032107 Jan 25 07:20 mrna_20160125-200855_type1_02.pkl.gz\n",
      "-rw-r--r-- 1 1000 1000 32024240 Jan 25 07:21 mrna_20160125-200855_type1_03.pkl.gz\n",
      "-rw-r--r-- 1 1000 1000 31956428 Jan 25 07:21 mrna_20160125-200855_type1_04.pkl.gz\n",
      "-rw-r--r-- 1 1000 1000 32039357 Jan 25 07:22 mrna_20160125-200855_type1_05.pkl.gz\n",
      "-rw-r--r-- 1 1000 1000 32070663 Jan 25 07:23 mrna_20160125-200855_type1_06.pkl.gz\n",
      "-rw-r--r-- 1 1000 1000 32204918 Jan 25 07:24 mrna_20160125-200855_type1_07.pkl.gz\n",
      "-rw-r--r-- 1 1000 1000 32198752 Jan 25 07:25 mrna_20160125-200855_type1_08.pkl.gz\n",
      "-rw-r--r-- 1 1000 1000 32179649 Jan 25 07:26 mrna_20160125-200855_type1_09.pkl.gz\n",
      "-rw-r--r-- 1 1000 1000 32127906 Jan 25 07:27 mrna_20160125-200855_type1_10.pkl.gz\n",
      "-rw-r--r-- 1 1000 1000 32073768 Jan 25 07:28 mrna_20160125-200855_type1_11.pkl.gz\n",
      "-rw-r--r-- 1 1000 1000 31934600 Jan 25 07:28 mrna_20160125-200855_type1_12.pkl.gz\n",
      "-rw-r--r-- 1 1000 1000 32026200 Jan 25 07:29 mrna_20160125-200855_type1_13.pkl.gz\n",
      "-rw-r--r-- 1 1000 1000 32055890 Jan 25 07:30 mrna_20160125-200855_type1_14.pkl.gz\n",
      "-rw-r--r-- 1 1000 1000 28513728 Jan 25 07:31 mrna_20160125-200855_type1_15.pkl.gz\n",
      "-rw-r--r-- 1 1000 1000 31922694 Jan 25 07:32 mrna_20160125-200855_type2_00.pkl.gz\n",
      "-rw-r--r-- 1 1000 1000 32040832 Jan 25 07:33 mrna_20160125-200855_type2_01.pkl.gz\n",
      "-rw-r--r-- 1 1000 1000 32037288 Jan 25 07:34 mrna_20160125-200855_type2_02.pkl.gz\n",
      "-rw-r--r-- 1 1000 1000 11443611 Jan 25 07:34 mrna_20160125-200855_type2_03.pkl.gz\n",
      "-rw-r--r-- 1 1000 1000 32089986 Jan 25 07:35 mrna_20160125-200855_type3_00.pkl.gz\n",
      "-rw-r--r-- 1 1000 1000 31963722 Jan 25 07:36 mrna_20160125-200855_type3_01.pkl.gz\n",
      "-rw-r--r-- 1 1000 1000 32017167 Jan 25 07:37 mrna_20160125-200855_type3_02.pkl.gz\n",
      "-rw-r--r-- 1 1000 1000 11435459 Jan 25 07:37 mrna_20160125-200855_type3_03.pkl.gz\n"
     ]
    }
   ],
   "source": [
    "# 현재 디렉토리 확인\n",
    "! ls -al\n",
    "! ls -l  data "
   ]
  },
  {
   "cell_type": "code",
   "execution_count": 30,
   "metadata": {
    "collapsed": false
   },
   "outputs": [
    {
     "data": {
      "text/plain": [
       "'/work'"
      ]
     },
     "execution_count": 30,
     "metadata": {},
     "output_type": "execute_result"
    }
   ],
   "source": [
    "# 미리 데이터를 다운로드 받은 폴더를 작업폴더로 설정\n",
    "import os\n",
    "os.getcwd()"
   ]
  },
  {
   "cell_type": "code",
   "execution_count": 31,
   "metadata": {
    "collapsed": false
   },
   "outputs": [
    {
     "name": "stdout",
     "output_type": "stream",
     "text": [
      "./data/mrna_20160125-200855_type1_00.pkl.gz\n",
      "500 500\n",
      "./data/mrna_20160125-200855_type1_01.pkl.gz\n",
      "1000 1000\n",
      "./data/mrna_20160125-200855_type1_02.pkl.gz\n",
      "1500 1500\n",
      "./data/mrna_20160125-200855_type1_03.pkl.gz\n",
      "2000 2000\n",
      "./data/mrna_20160125-200855_type1_04.pkl.gz\n",
      "2500 2500\n",
      "./data/mrna_20160125-200855_type1_05.pkl.gz\n",
      "3000 3000\n",
      "./data/mrna_20160125-200855_type1_06.pkl.gz\n",
      "3500 3500\n",
      "./data/mrna_20160125-200855_type1_07.pkl.gz\n",
      "4000 4000\n",
      "./data/mrna_20160125-200855_type1_08.pkl.gz\n",
      "4500 4500\n",
      "./data/mrna_20160125-200855_type1_09.pkl.gz\n",
      "5000 5000\n",
      "./data/mrna_20160125-200855_type1_10.pkl.gz\n",
      "5500 5500\n",
      "./data/mrna_20160125-200855_type1_11.pkl.gz\n",
      "6000 6000\n",
      "./data/mrna_20160125-200855_type1_12.pkl.gz\n",
      "6500 6500\n",
      "./data/mrna_20160125-200855_type1_13.pkl.gz\n",
      "7000 7000\n",
      "./data/mrna_20160125-200855_type1_14.pkl.gz\n",
      "7500 7500\n",
      "./data/mrna_20160125-200855_type1_15.pkl.gz\n",
      "7945 7945\n"
     ]
    }
   ],
   "source": [
    "trainDataSets = dir_to_dataset('./data/*type1*')"
   ]
  },
  {
   "cell_type": "code",
   "execution_count": 32,
   "metadata": {
    "collapsed": false
   },
   "outputs": [
    {
     "name": "stdout",
     "output_type": "stream",
     "text": [
      "./data/mrna_20160125-200855_type3_00.pkl.gz\n",
      "500 500\n",
      "./data/mrna_20160125-200855_type3_01.pkl.gz\n",
      "1000 1000\n",
      "./data/mrna_20160125-200855_type3_02.pkl.gz\n",
      "1500 1500\n",
      "./data/mrna_20160125-200855_type3_03.pkl.gz\n",
      "1679 1679\n"
     ]
    }
   ],
   "source": [
    "testDataSets = dir_to_dataset('./data/*type3*')"
   ]
  },
  {
   "cell_type": "markdown",
   "metadata": {},
   "source": [
    "## 학습용 데이터 확인 ( EDA )"
   ]
  },
  {
   "cell_type": "code",
   "execution_count": 33,
   "metadata": {
    "collapsed": false
   },
   "outputs": [],
   "source": [
    "trainX, trainY = trainDataSets\n",
    "testX, testY     = testDataSets"
   ]
  },
  {
   "cell_type": "code",
   "execution_count": 34,
   "metadata": {
    "collapsed": false
   },
   "outputs": [
    {
     "name": "stdout",
     "output_type": "stream",
     "text": [
      "trainX= (7945, 20502)\n",
      "trainY= (7945,) 34\n"
     ]
    }
   ],
   "source": [
    "print \"trainX=\" , trainX.shape\n",
    "print \"trainY=\" ,trainY.shape,  len( np.unique(trainY) )"
   ]
  },
  {
   "cell_type": "code",
   "execution_count": 8,
   "metadata": {
    "collapsed": false
   },
   "outputs": [
    {
     "name": "stdout",
     "output_type": "stream",
     "text": [
      "type of cancer: [ 0  1  2  3  4  5  6  7  8  9 10 11 12 13 14 15 16 17 18 19 20 21 22 23 24\n",
      " 25 26 27 28 29 30 31 32 33]\n"
     ]
    },
    {
     "data": {
      "image/png": "[encoded data removed]",
      "text/plain": [
       "<matplotlib.figure.Figure at 0x7f85f264ef90>"
      ]
     },
     "metadata": {},
     "output_type": "display_data"
    }
   ],
   "source": [
    "import matplotlib.pyplot as plt\n",
    "%matplotlib inline\n",
    "\n",
    "print \"type of cancer:\", np.unique(trainY)\n",
    "plt.hist( trainY, 34)\n",
    "plt.show()"
   ]
  },
  {
   "cell_type": "markdown",
   "metadata": {},
   "source": [
    "- 암종류가 고루 분포가 되지 않아서 모델의 신뢰도는 낮을것으로 보여짐.\n",
    "- 일단, 첫번째 시도이므로 그냥 진행해보자."
   ]
  },
  {
   "cell_type": "code",
   "execution_count": 18,
   "metadata": {
    "collapsed": false
   },
   "outputs": [
    {
     "data": {
      "image/png": "[encoded data removed]",
      "text/plain": [
       "<matplotlib.figure.Figure at 0x7fd7c6f6ab50>"
      ]
     },
     "metadata": {},
     "output_type": "display_data"
    }
   ],
   "source": [
    "# 암 종류별 feaure들의 분포\n",
    "plt.plot(trainY, trainX, 'ro')\n",
    "plt.xlabel('type of cancer')\n",
    "plt.ylabel('gene expression')\n",
    "plt.show()"
   ]
  },
  {
   "cell_type": "markdown",
   "metadata": {},
   "source": [
    "- 이상치가 존재하고, 이상치 제거 필요하지만 일단 그냥 진행~~~"
   ]
  },
  {
   "cell_type": "markdown",
   "metadata": {},
   "source": [
    "## X 변수들의 normalize"
   ]
  },
  {
   "cell_type": "code",
   "execution_count": 35,
   "metadata": {
    "collapsed": true
   },
   "outputs": [],
   "source": [
    "def normalize(v):\n",
    "    norm=np.linalg.norm(v)\n",
    "    if norm==0: \n",
    "        return v\n",
    "    return v/norm"
   ]
  },
  {
   "cell_type": "code",
   "execution_count": 36,
   "metadata": {
    "collapsed": false
   },
   "outputs": [],
   "source": [
    "trainX = normalize( trainX )\n",
    "testX = normalize( testX )"
   ]
  },
  {
   "cell_type": "code",
   "execution_count": 29,
   "metadata": {
    "collapsed": false
   },
   "outputs": [
    {
     "data": {
      "image/png": "[encoded data removed]",
      "text/plain": [
       "<matplotlib.figure.Figure at 0x7f172adb8310>"
      ]
     },
     "metadata": {},
     "output_type": "display_data"
    }
   ],
   "source": [
    "import matplotlib.pyplot as plt\n",
    "%matplotlib inline\n",
    "\n",
    "plt.plot(testY, normTestX, 'ro')\n",
    "plt.xlabel('type of cancer')\n",
    "plt.ylabel('gene expression')\n",
    "plt.show()"
   ]
  },
  {
   "cell_type": "markdown",
   "metadata": {},
   "source": [
    "## 학습용 데이터로 변환"
   ]
  },
  {
   "cell_type": "code",
   "execution_count": 37,
   "metadata": {
    "collapsed": true
   },
   "outputs": [],
   "source": [
    "def dense_to_one_hot(labels_dense, num_classes):\n",
    "    \"\"\"Convert class labels from scalars to one-hot vectors.\"\"\"\n",
    "    num_labels = labels_dense.shape[0]\n",
    "    index_offset = np.arange(num_labels) * num_classes\n",
    "    labels_one_hot = np.zeros((num_labels, num_classes))\n",
    "    labels_one_hot.flat[index_offset + labels_dense.ravel()] = 1\n",
    "    return labels_one_hot"
   ]
  },
  {
   "cell_type": "code",
   "execution_count": 38,
   "metadata": {
    "collapsed": false
   },
   "outputs": [],
   "source": [
    "trainY = dense_to_one_hot(trainY , 34  )"
   ]
  },
  {
   "cell_type": "code",
   "execution_count": 39,
   "metadata": {
    "collapsed": true
   },
   "outputs": [],
   "source": [
    "testY = dense_to_one_hot(testY , 34  )"
   ]
  },
  {
   "cell_type": "markdown",
   "metadata": {},
   "source": [
    "## 모형 훈련시키기"
   ]
  },
  {
   "cell_type": "code",
   "execution_count": 40,
   "metadata": {
    "collapsed": true
   },
   "outputs": [],
   "source": [
    "def mini_batch( x, y, index, batch_size) : \n",
    "    miniX =  x[index * batch_size: (index + 1) * batch_size]\n",
    "    miniY =  y[index * batch_size: (index + 1) * batch_size]\n",
    "    return miniX, miniY"
   ]
  },
  {
   "cell_type": "code",
   "execution_count": 41,
   "metadata": {
    "collapsed": false
   },
   "outputs": [
    {
     "data": {
      "text/plain": [
       "(array([[  6.31549969e-07,   0.00000000e+00,   7.91521624e-09, ...,\n",
       "           1.75083178e-05,   1.50388140e-07,   0.00000000e+00],\n",
       "        [  1.06954141e-06,   0.00000000e+00,   2.02695415e-08, ...,\n",
       "           9.33913360e-06,   5.34605524e-07,   0.00000000e+00],\n",
       "        [  3.00522450e-07,   0.00000000e+00,   1.20462422e-08, ...,\n",
       "           1.02272141e-05,   3.42714040e-06,   0.00000000e+00],\n",
       "        [  1.89998517e-06,   5.01555379e-09,   5.01555379e-09, ...,\n",
       "           9.56913506e-06,   6.01832546e-07,   0.00000000e+00],\n",
       "        [  2.04789508e-06,   0.00000000e+00,   0.00000000e+00, ...,\n",
       "           3.71292621e-06,   4.31732902e-08,   0.00000000e+00]]),\n",
       " array([[ 0.,  0.,  0.,  0.,  0.,  0.,  0.,  0.,  0.,  0.,  0.,  0.,  0.,\n",
       "          0.,  0.,  0.,  0.,  0.,  0.,  0.,  0.,  0.,  0.,  0.,  0.,  0.,\n",
       "          0.,  0.,  0.,  0.,  0.,  1.,  0.,  0.],\n",
       "        [ 0.,  0.,  0.,  0.,  0.,  0.,  0.,  0.,  0.,  0.,  0.,  0.,  0.,\n",
       "          0.,  0.,  0.,  0.,  0.,  0.,  0.,  0.,  0.,  0.,  0.,  0.,  0.,\n",
       "          0.,  0.,  0.,  1.,  0.,  0.,  0.,  0.],\n",
       "        [ 0.,  0.,  1.,  0.,  0.,  0.,  0.,  0.,  0.,  0.,  0.,  0.,  0.,\n",
       "          0.,  0.,  0.,  0.,  0.,  0.,  0.,  0.,  0.,  0.,  0.,  0.,  0.,\n",
       "          0.,  0.,  0.,  0.,  0.,  0.,  0.,  0.],\n",
       "        [ 0.,  0.,  1.,  0.,  0.,  0.,  0.,  0.,  0.,  0.,  0.,  0.,  0.,\n",
       "          0.,  0.,  0.,  0.,  0.,  0.,  0.,  0.,  0.,  0.,  0.,  0.,  0.,\n",
       "          0.,  0.,  0.,  0.,  0.,  0.,  0.,  0.],\n",
       "        [ 0.,  0.,  0.,  0.,  0.,  0.,  0.,  0.,  0.,  0.,  0.,  0.,  0.,\n",
       "          0.,  0.,  0.,  0.,  0.,  0.,  0.,  0.,  0.,  0.,  0.,  0.,  0.,\n",
       "          0.,  0.,  0.,  0.,  0.,  1.,  0.,  0.]]))"
      ]
     },
     "execution_count": 41,
     "metadata": {},
     "output_type": "execute_result"
    }
   ],
   "source": [
    "mini_batch( trainX, trainY, 0 , 5 )"
   ]
  },
  {
   "cell_type": "code",
   "execution_count": 44,
   "metadata": {
    "collapsed": false
   },
   "outputs": [
    {
     "name": "stdout",
     "output_type": "stream",
     "text": [
      "Epoch: 0001 cost= 3.519620268\n",
      "Epoch: 0006 cost= 3.461448220\n",
      "Epoch: 0011 cost= 3.416634031\n",
      "Epoch: 0016 cost= 3.382825396\n",
      "Epoch: 0021 cost= 3.357569688\n",
      "Epoch: 0026 cost= 3.338636018\n",
      "Epoch: 0031 cost= 3.324235291\n",
      "Epoch: 0036 cost= 3.313062360\n",
      "Epoch: 0041 cost= 3.304217405\n",
      "Epoch: 0046 cost= 3.297091768\n",
      "Epoch: 0051 cost= 3.291269405\n",
      "Epoch: 0056 cost= 3.286458100\n",
      "Epoch: 0061 cost= 3.282445675\n",
      "Epoch: 0066 cost= 3.279073404\n",
      "Epoch: 0071 cost= 3.276219697\n",
      "Epoch: 0076 cost= 3.273789632\n",
      "Epoch: 0081 cost= 3.271708335\n",
      "Epoch: 0086 cost= 3.269915937\n",
      "Epoch: 0091 cost= 3.268364288\n",
      "Epoch: 0096 cost= 3.267014543\n",
      "Optimization Finished!\n",
      "Accuracy: 0.111376\n"
     ]
    }
   ],
   "source": [
    "#-*- coding: utf-8 -*-\n",
    "\n",
    "nX = 20502\n",
    "nY = 34\n",
    "batch_size = 100\n",
    "training_epochs = 100\n",
    "display_step = 5\n",
    "learning_rate = 0.01\n",
    "\n",
    "# minibatches 횟수를 계산\n",
    "n_train_batches = int( trainX.shape[0] / batch_size)\n",
    "\n",
    "import tensorflow as tf\n",
    "\n",
    "x = tf.placeholder(tf.float32, [None, nX])\n",
    "W = tf.Variable(tf.zeros([nX, nY]))\n",
    "b = tf.Variable(tf.zeros([nY]))\n",
    "\n",
    "y = tf.nn.softmax(tf.matmul(x, W) + b)  #  y = W * x + b, 예측값\n",
    "y_ = tf.placeholder(tf.float32, [None, nY]) # 실제값 저장용\n",
    "\n",
    "cross_entropy = tf.reduce_mean(-tf.reduce_sum(y_ * tf.log(y), reduction_indices=[1]))      # 손실함수 \n",
    "train_step = tf.train.GradientDescentOptimizer( learning_rate ).minimize(cross_entropy)    # 최적화 함수\n",
    "\n",
    "# 변수의 초기화\n",
    "init = tf.initialize_all_variables()\n",
    "with tf.Session() as sess:\n",
    "    sess.run(init)\n",
    "    # mini배치 사이즈를 batch_size으로 해서 training_epochs번 반복해서 학습함.\n",
    "    for epoch  in range(training_epochs):\n",
    "        avg_cost = 0.\n",
    "        for minibatch_index in range(n_train_batches):\n",
    "            batch_xs, batch_ys = mini_batch( trainX, trainY, minibatch_index , batch_size )        \n",
    "            sess.run(train_step, feed_dict={x: batch_xs, y_: batch_ys})\n",
    "            avg_cost +=  sess.run( cross_entropy, feed_dict={x: batch_xs, y_ : batch_ys} ) / n_train_batches \n",
    "            \n",
    "        # Display logs per epoch step\n",
    "        if epoch % display_step == 0:\n",
    "            print \"Epoch:\", '%04d' % (epoch+1), \"cost=\", \"{:.9f}\".format(avg_cost)\n",
    "\n",
    "    print \"Optimization Finished!\"      \n",
    "    \n",
    "    ## 모델 평가\n",
    "    # 예측값과 실제값이 차이 여부를 확인하는 함수 정의\n",
    "    correct_prediction = tf.equal(tf.argmax(y,1), tf.argmax(y_,1))\n",
    "    # 정확도 계산하는 함수 정의\n",
    "    accuracy = tf.reduce_mean(tf.cast(correct_prediction, \"float\"))        \n",
    "    print \"Accuracy:\",  sess.run(accuracy, feed_dict={x: testX, y_: testY})     "
   ]
  },
  {
   "cell_type": "code",
   "execution_count": null,
   "metadata": {
    "collapsed": true
   },
   "outputs": [],
   "source": []
  }
 ],
 "metadata": {
  "kernelspec": {
   "display_name": "Python 2",
   "language": "python",
   "name": "python2"
  },
  "language_info": {
   "codemirror_mode": {
    "name": "ipython",
    "version": 2
   },
   "file_extension": ".py",
   "mimetype": "text/x-python",
   "name": "python",
   "nbconvert_exporter": "python",
   "pygments_lexer": "ipython2",
   "version": "2.7.6"
  }
 },
 "nbformat": 4,
 "nbformat_minor": 0
}
