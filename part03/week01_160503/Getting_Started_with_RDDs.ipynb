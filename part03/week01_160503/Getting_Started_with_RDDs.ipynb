{
 "cells": [
  {
   "cell_type": "markdown",
   "metadata": {},
   "source": [
    "# Getting Started With RDDs\n",
    "\n",
    "일단 먼저 sc를 입력하여 Pyspark 가 init 되어 있는지 확인합니다.\n",
    "\n",
    "sc를 입력했을때, Pyspark 뭐시기가 나오면 됩니다, 근데 안된다면 밑에 두번째있는 주석을 빼고 실행해주시면 됩니다"
   ]
  },
  {
   "cell_type": "code",
   "execution_count": 3,
   "metadata": {
    "collapsed": false
   },
   "outputs": [
    {
     "data": {
      "text/plain": [
       "<pyspark.context.SparkContext at 0x7f5af36c4450>"
      ]
     },
     "execution_count": 3,
     "metadata": {},
     "output_type": "execute_result"
    }
   ],
   "source": [
    "sc"
   ]
  },
  {
   "cell_type": "code",
   "execution_count": 1,
   "metadata": {
    "collapsed": false
   },
   "outputs": [],
   "source": [
    "#from pyspark import SparkContext"
   ]
  },
  {
   "cell_type": "code",
   "execution_count": 1,
   "metadata": {
    "collapsed": false
   },
   "outputs": [],
   "source": [
    "#sc = SparkContext()"
   ]
  },
  {
   "cell_type": "markdown",
   "metadata": {},
   "source": [
    "그러면 Read.txt 파일을 만들어서 읽어보겠습니다\n",
    "\n",
    "Read.txt 파일 안에는 인디안 송의 일부가 들어있습니다.\n",
    "\n",
    "# 인디안 송\n",
    "\n",
    "One little\n",
    "\n",
    "two little\n",
    "\n",
    "three little indians\n",
    "\n",
    "for little\n",
    "\n",
    "five little\n",
    "\n",
    "six little indians\n",
    "\n",
    "seven little\n",
    "\n",
    "eight little\n",
    "\n",
    "nine little indians\n",
    "\n",
    "ten little indians\n",
    "\n",
    "END!\n",
    "\n",
    "# TXT File 만들기\n",
    "\n",
    "%%writefile 을 사용하여 Read.txt 파일을 만들고, cat을 사용하여 파일을 읽어보겠습니다."
   ]
  },
  {
   "cell_type": "code",
   "execution_count": 4,
   "metadata": {
    "collapsed": false
   },
   "outputs": [
    {
     "name": "stdout",
     "output_type": "stream",
     "text": [
      "Writing Read.txt\n"
     ]
    }
   ],
   "source": [
    "%%writefile Read.txt\n",
    "One little\n",
    "two little\n",
    "three little indians\n",
    "for little\n",
    "five little\n",
    "six little indians\n",
    "seven little\n",
    "eight little\n",
    "nine little indians\n",
    "ten little indians\n",
    "End"
   ]
  },
  {
   "cell_type": "code",
   "execution_count": 5,
   "metadata": {
    "collapsed": false
   },
   "outputs": [
    {
     "name": "stdout",
     "output_type": "stream",
     "text": [
      "One little\r\n",
      "two little\r\n",
      "three little indians\r\n",
      "for little\r\n",
      "five little\r\n",
      "six little indians\r\n",
      "seven little\r\n",
      "eight little\r\n",
      "nine little indians\r\n",
      "ten little indians\r\n",
      "End"
     ]
    }
   ],
   "source": [
    "cat Read.txt"
   ]
  },
  {
   "cell_type": "markdown",
   "metadata": {},
   "source": [
    "잘 읽혀 졌으면, 이제 RDD를 만들고, 택스트파일에서 indians 가 들어간 문장에서 첫번째인 것을 뽑아보겠습니다.\n",
    "\n",
    "textFile() method 를 사용하여 읽고, filter() mehod 를 사용해서 필터링을 해주면 됩니다\n",
    "\n",
    "그리고 .first() method 를 사용해서 첫번째인 문장을 보여주면 됩니다"
   ]
  },
  {
   "cell_type": "code",
   "execution_count": 6,
   "metadata": {
    "collapsed": false
   },
   "outputs": [
    {
     "data": {
      "text/plain": [
       "u'three little indians'"
      ]
     },
     "execution_count": 6,
     "metadata": {},
     "output_type": "execute_result"
    }
   ],
   "source": [
    "lines = sc.textFile(\"Read.txt\") # Read.txt 를 읽고,\n",
    "pythonLines = lines.filter(lambda line: \"indians\" in line)\n",
    "pythonLines.first()"
   ]
  },
  {
   "cell_type": "markdown",
   "metadata": {},
   "source": [
    "# Read It from Memory\n",
    "\n",
    "In practice, you will often use persist to load a subset of your data into memory and\n",
    "\n",
    "query it repeatedly. For example, if we knew that we wanted to compute multiple results\n",
    "\n",
    "about the README lines that contain “indians”, we could write\n",
    "\n",
    "근데 이걸 해본 결과 에러가 납니다 :'( 이유는 모르겠네요 ㅠㅠ "
   ]
  },
  {
   "cell_type": "code",
   "execution_count": 7,
   "metadata": {
    "collapsed": false
   },
   "outputs": [
    {
     "data": {
      "text/plain": [
       "4"
      ]
     },
     "execution_count": 7,
     "metadata": {},
     "output_type": "execute_result"
    }
   ],
   "source": [
    "pythonLines.count()"
   ]
  },
  {
   "cell_type": "code",
   "execution_count": 8,
   "metadata": {
    "collapsed": false
   },
   "outputs": [
    {
     "data": {
      "text/plain": [
       "u'three little indians'"
      ]
     },
     "execution_count": 8,
     "metadata": {},
     "output_type": "execute_result"
    }
   ],
   "source": [
    "pythonLines.first()"
   ]
  },
  {
   "cell_type": "markdown",
   "metadata": {},
   "source": [
    "# 정리를 하자면...\n",
    "\n",
    "1. 외부 데이터에서 RDD 를 생성한다\n",
    "\n",
    "2. filter() 함수 같은걸 사용해서, transformations 를 한다\n",
    "\n",
    "3. Spark 한테 persist 함수를 사용해서 재사용할것인지 물어본다\n",
    "\n",
    "4. count() 나 first() 함수 같은것을 사용하여, Action 을 취해준다 \n",
    "\n",
    "# RDD 를 생성해봅시다!\n",
    "\n",
    "RDD 를 생성하려면, parallelize method 혹은, textFile method 를 사용해서 생성합니다\n",
    "\n",
    "마치...\n",
    "\n",
    "lines = sc.parallelize([\"pandas\", \"i like pandas\"]) 같이 써도 되고\n",
    "\n",
    "liens = sc.textFile(\"어이/거기/README.md/위치/알려주이소\") 같이 써도 됩니다\n",
    "\n",
    "# Transformations Code...\n",
    "\n",
    "Transforamations 는 RDD의 오퍼레이션 으로써, 새로운 RDD 를 만들어 주는 역할을 합니다\n",
    "\n",
    "이것(Transformations)은 데이터의 이합집산, 지지고 볶는 흐름을 이야기합니다\n",
    "\n",
    "Actions 는 '자 모든 Transformations 된 결과를 내놓아라~' 하는 명령어 입니다\n",
    "\n",
    "trans → trans → trans → ... → action 같은 구성이 됩니다\n",
    "\n",
    "그러면 여기서 예시로 Log.txt 에서 Error 을 필터링 해보도록 하겠습니다.\n",
    "\n",
    "우리는 가짜의 log.txt 파일을 만들어 보겠습니다"
   ]
  },
  {
   "cell_type": "code",
   "execution_count": 9,
   "metadata": {
    "collapsed": false
   },
   "outputs": [
    {
     "name": "stdout",
     "output_type": "stream",
     "text": [
      "Writing log.txt\n"
     ]
    }
   ],
   "source": [
    "%%writefile log.txt\n",
    "error -- Connect to Google.com -- 401\n",
    "pass -- Connect to Googler.com -- 200\n",
    "error -- Download File From Apache.com -- 200\n",
    "error -- Connect to Naver.com -- 404\n",
    "pass -- Download File From Jeasus.com -- 200\n",
    "pass -- Connect to AntiVerichip.com -- 404"
   ]
  },
  {
   "cell_type": "code",
   "execution_count": 10,
   "metadata": {
    "collapsed": false,
    "scrolled": true
   },
   "outputs": [
    {
     "name": "stdout",
     "output_type": "stream",
     "text": [
      "error -- Connect to Google.com -- 401\r\n",
      "pass -- Connect to Googler.com -- 200\r\n",
      "error -- Download File From Apache.com -- 200\r\n",
      "error -- Connect to Naver.com -- 404\r\n",
      "pass -- Download File From Jeasus.com -- 200\r\n",
      "pass -- Connect to AntiVerichip.com -- 404"
     ]
    }
   ],
   "source": [
    "cat log.txt"
   ]
  },
  {
   "cell_type": "code",
   "execution_count": 11,
   "metadata": {
    "collapsed": false
   },
   "outputs": [
    {
     "data": {
      "text/plain": [
       "u'error -- Connect to Google.com -- 401'"
      ]
     },
     "execution_count": 11,
     "metadata": {},
     "output_type": "execute_result"
    }
   ],
   "source": [
    "inputRDD = sc.textFile(\"log.txt\")\n",
    "errorsRDD = inputRDD.filter(lambda x: \"error\" in x)\n",
    "errorsRDD.first()"
   ]
  },
  {
   "cell_type": "markdown",
   "metadata": {},
   "source": [
    "우리는 로그 택스트 파일을 읽어서 inputRDD 파일을 읽어보았습니다.\n",
    "\n",
    "그러면 union 함수를 사용해서 badLinesRDD 함수를 하나 만든 후에, 거기에 errorsRDD 와 warningsRDD 2개를 badLinesRDD 로 Union 시켜보도록 하겠습니다\n",
    "\n",
    "이때 union 함수를 사용하게 됩니다\n",
    "\n",
    "![유니온함수](http://www.yongbi.net/attach/1/1389250610.png)\n",
    "\n",
    "그러면 저기 로그 파일을 살짝! 바꿔서 Warning 을 만들고, Union을 시켜보도록 하겠습니다"
   ]
  },
  {
   "cell_type": "code",
   "execution_count": 12,
   "metadata": {
    "collapsed": false
   },
   "outputs": [
    {
     "name": "stdout",
     "output_type": "stream",
     "text": [
      "Writing log2.txt\n"
     ]
    }
   ],
   "source": [
    "%%writefile log2.txt\n",
    "error -- Connect to Google.com -- 401\n",
    "pass -- Connect to Googler.com -- 200\n",
    "warning -- Try Download File from SomeVideos.com -- 451\n",
    "pass -- Try Download File From Apache.com -- 200\n",
    "error -- Connect to Naver.com -- 404\n",
    "pass -- Try Download File From Jeasus.com -- 200\n",
    "pass -- Connect to AAAJESUS.com -- 404\n",
    "warning -- Connect to Somewhere.com -- 451 "
   ]
  },
  {
   "cell_type": "code",
   "execution_count": 13,
   "metadata": {
    "collapsed": false
   },
   "outputs": [
    {
     "name": "stdout",
     "output_type": "stream",
     "text": [
      "error -- Connect to Google.com -- 401\r\n",
      "pass -- Connect to Googler.com -- 200\r\n",
      "warning -- Try Download File from SomeVideos.com -- 451\r\n",
      "pass -- Try Download File From Apache.com -- 200\r\n",
      "error -- Connect to Naver.com -- 404\r\n",
      "pass -- Try Download File From Jeasus.com -- 200\r\n",
      "pass -- Connect to AntiVerichip.com -- 404\r\n",
      "warning -- Connect to Uporn.com -- 451 "
     ]
    }
   ],
   "source": [
    "cat log2.txt"
   ]
  },
  {
   "cell_type": "code",
   "execution_count": 15,
   "metadata": {
    "collapsed": false
   },
   "outputs": [
    {
     "name": "stdout",
     "output_type": "stream",
     "text": [
      "3\n",
      "error -- Connect to Google.com -- 401\n",
      "error -- Download File From Apache.com -- 200\n",
      "error -- Connect to Naver.com -- 404\n"
     ]
    }
   ],
   "source": [
    "indputRDD = sc.textFile(\"log2.txt\")\n",
    "errorsRDD = inputRDD.filter(lambda x: \"error\" in x)\n",
    "warningsRDD = inputRDD.filter(lambda x: \"warning\" in x)\n",
    "badLinesRDD = errorsRDD.union(warningsRDD)\n",
    "print badLinesRDD.count()\n",
    "for line in badLinesRDD.take(10):\n",
    "    print line"
   ]
  },
  {
   "cell_type": "markdown",
   "metadata": {},
   "source": [
    "# Passing Functions to Spark\n",
    "\n",
    "## 파이썬으로 함수를 넘기는 방법\n",
    "- 람다 표기법을 이용하는 방식\n",
    "- 모듈 상의 탑레벨 함수(Top-level function)\n",
    "- 파이썬 클래스 안에서 함수를 정의하여, 클래스 안에서 그 함수를 스파크로 넘기는 방식\n",
    "\n",
    "## 1. 람다 표기법을 이용하는 방식\n",
    "     word = rdd.filter(lambda s: \"error\" in s)\n",
    "     \n",
    "## 2. 모듈 상의 탑레벨 함수를 사용하는 방법\n",
    "     def containsError(s):\n",
    "     return \"error\" in s\n",
    "     word = rdd.filter(containsError)\n",
    "     \n",
    "## 3. 파이썬 클래스 안에서 함수를 정의하여, 클래스 안에서 그 함수를 스파크로 넘기는 방식\n",
    "     class SearchFunctions(object):\n",
    "        def __init__(self, query):\n",
    "           self.query = query\n",
    "     def isMatch(self, s):\n",
    "        return query in s\n",
    "     def getMatchesFunctionReference(self, rdd):\n",
    "        # Problem: references all of \"self\" in \"self.isMatch\"\n",
    "        return rdd.filter(self.isMatch)\n",
    "     def getMatchesMemberReference(self, rdd):\n",
    "        # Problem: references all of \"self\" in \"self.query\"\n",
    "        return rdd.filter(lambda x: self.query in x)\n",
    "\n",
    "문제는 객체 전체가 스파크로 넘어가게 되므로, 메모리를 과 사용할수 있게 된다 그래서 이런 문제를 피하기 위해서는...\n",
    "\n",
    "     class WordFunctions(object):\n",
    "     ...\n",
    "     def getMatchesNoReference(self, rdd):\n",
    "         # Safe: extract only the field we need into a local variable\n",
    "         query = self.query\n",
    "         return rdd.filter(lambda x: query in x)\n",
    "\n",
    "와 같은 코드를 사용하여 로컬 변수 x  의 값만 넘겨주어 메모리의 과 사용을 방지할수 있다\n",
    "\n",
    "# Some Transformations\n",
    "\n",
    "BASIC RDD Transformations on an RDD Containing {1, 2, 3, 3}\n",
    "\n",
    "Function Name | 설명\n",
    "------------- | ------------- \n",
    "map(func) | 새로운 Distributed Dataset 을 선택된 값들 중에서 리턴해준다 \n",
    "filter(func) | 람다식에 조건에 따라서 참인 결과값을 리턴해준다 \n",
    "distinct(func) | 중복되는 값이 있으면 한 번만 나오게 해 준다 \n",
    "flatmap(func) | flatMap 은 map 함수와 비슷하지만, 들어간 값이 다 나오지 않는다\n",
    "\n",
    "# 1.  Map()\n",
    "- Map() 함수를 집어넣었을때 하나가 들어가면 다 나온다."
   ]
  },
  {
   "cell_type": "code",
   "execution_count": 16,
   "metadata": {
    "collapsed": false
   },
   "outputs": [
    {
     "name": "stdout",
     "output_type": "stream",
     "text": [
      "1 \n",
      "4 \n",
      "9 \n",
      "16 \n"
     ]
    }
   ],
   "source": [
    "nums = sc.parallelize([1, 2, 3, 4])\n",
    "squared = nums.map(lambda x: x * x).collect()\n",
    "for num in squared:\n",
    "    print \"%i \" % (num)"
   ]
  },
  {
   "cell_type": "markdown",
   "metadata": {},
   "source": [
    "# 2. Flatmap Example\n",
    "- Map() 함수와 같지만, 모든 값을 집어넣었을때 값의 갯수가 다르다"
   ]
  },
  {
   "cell_type": "code",
   "execution_count": 17,
   "metadata": {
    "collapsed": false
   },
   "outputs": [
    {
     "data": {
      "text/plain": [
       "'hello'"
      ]
     },
     "execution_count": 17,
     "metadata": {},
     "output_type": "execute_result"
    }
   ],
   "source": [
    "lines = sc.parallelize([\"hello world\", \"hi\"])\n",
    "words = lines.flatMap(lambda line: line.split(\" \"))\n",
    "words.first() # returns \"hello\""
   ]
  },
  {
   "cell_type": "markdown",
   "metadata": {},
   "source": [
    "Two-RDD transformations on RDDs containing {1, 2, 3} and {3, 4, 5}\n",
    "\n",
    "Fiunction Name|Purpose|Example|Result\n",
    "------------|-----------\n",
    "Union|RDD A 와 RDD B 의 합집합|rdd.union(other)|{1, 2, 3, 3, 4, 5}\n",
    "Intersection|RDD A와 RDD B 의 교집합|rdd.intersection(other)|{3}\n",
    "Subtract|RDD A에 있는것들중에서 RDD B 에 공통되어 있는것들을 삭제|rdd.substract(other)|{1, 2}\n",
    "Cartesian|각각에 있는것들중에서 합치기|rdd.cartesian(other)|{(1, 3), (1, 4), (3,5)}"
   ]
  },
  {
   "cell_type": "markdown",
   "metadata": {},
   "source": [
    "# Actions\n",
    "\n",
    "- Reduce 함수 는 RDD 값들을 병렬로 병합연산해주는 역할을 한다, 같은 타입을 리턴해준다\n",
    "\n",
    "      sum = rdd.reduce(lambda x, y: x + y)\n",
    "     \n",
    "\n",
    "- Aggregate 함수 는 Reduce 함수와 유사하나 다른 타입을 리턴해준다.\n",
    "\n",
    "      sumCount = nums.aggregate((0, 0),\n",
    "        (lambda x, y: (x[0] + y, x[1] + 1),\n",
    "        (lambda x, y: (x[0] + y[0], x[1] + y[1]))))\n",
    "      return sumCount[0] / float(sumCount[1])\n",
    "      \n",
    "그 외의 많은 함수는 [여기](http://pubdata.tistory.com/38)서 읽어볼수 있습니다"
   ]
  },
  {
   "cell_type": "code",
   "execution_count": null,
   "metadata": {
    "collapsed": true
   },
   "outputs": [],
   "source": []
  }
 ],
 "metadata": {
  "kernelspec": {
   "display_name": "Python 3",
   "language": "python",
   "name": "python3"
  },
  "language_info": {
   "codemirror_mode": {
    "name": "ipython",
    "version": 3
   },
   "file_extension": ".py",
   "mimetype": "text/x-python",
   "name": "python",
   "nbconvert_exporter": "python",
   "pygments_lexer": "ipython3",
   "version": "3.5.1+"
  }
 },
 "nbformat": 4,
 "nbformat_minor": 0
}
