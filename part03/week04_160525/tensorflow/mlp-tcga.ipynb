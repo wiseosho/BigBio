{
 "metadata": {
  "name": "",
  "signature": "sha256:b95591ade8d63e8fa29b084df9f42e2c663f9c949f1dbf252f7adcebe5b3c04d"
 },
 "nbformat": 3,
 "nbformat_minor": 0,
 "worksheets": [
  {
   "cells": [
    {
     "cell_type": "code",
     "collapsed": false,
     "input": [
      "\"\"\"Trains and Evaluates the TCGA network using a feed dictionary.\"\"\"\n",
      "# pylint: disable=missing-docstring\n",
      "from __future__ import absolute_import\n",
      "from __future__ import division\n",
      "from __future__ import print_function\n",
      "import time\n",
      "\n",
      "from six.moves import xrange  # pylint: disable=redefined-builtin\n",
      "import tensorflow as tf\n",
      "import numpy as np\n",
      "\n",
      "#from tensorflow.examples.tutorials.tcga import tcga\n",
      "#from tensorflow.examples.tutorials.tcga import input_data\n",
      "\n",
      "import tcga\n",
      "import input_data"
     ],
     "language": "python",
     "metadata": {},
     "outputs": [],
     "prompt_number": 1
    },
    {
     "cell_type": "code",
     "collapsed": false,
     "input": [
      "# Basic model parameters as external flags.\n",
      "flags = tf.app.flags\n",
      "FLAGS = flags.FLAGS\n",
      "flags.DEFINE_float('learning_rate', 0.01, 'Initial learning rate.')\n",
      "flags.DEFINE_integer('max_steps',10000, 'Number of steps to run trainer.')\n",
      "flags.DEFINE_integer('hidden1', 256, 'Number of units in hidden layer 1.')\n",
      "flags.DEFINE_integer('hidden2', 256, 'Number of units in hidden layer 2.')\n",
      "flags.DEFINE_integer('hidden3', 256, 'Number of units in hidden layer 2.')\n",
      "flags.DEFINE_integer('batch_size', 128, 'Batch size.  '\n",
      "                     'Must divide evenly into the dataset sizes.')\n",
      "flags.DEFINE_string('train_dir', 'data', 'Directory to put the training data.')\n",
      "flags.DEFINE_string('log_dir', 'log', 'Directory to put log.')\n",
      "flags.DEFINE_boolean('fake_data', False, 'If true, uses fake data '\n",
      "                     'for unit testing.')"
     ],
     "language": "python",
     "metadata": {},
     "outputs": [],
     "prompt_number": 2
    },
    {
     "cell_type": "code",
     "collapsed": false,
     "input": [
      "def placeholder_inputs(batch_size):\n",
      "  \"\"\"Generate placeholder variables to represent the input tensors.\n",
      "\n",
      "  These placeholders are used as inputs by the rest of the model building\n",
      "  code and will be fed from the downloaded data in the .run() loop, below.\n",
      "\n",
      "  Args:\n",
      "    batch_size: The batch size will be baked into both placeholders.\n",
      "\n",
      "  Returns:\n",
      "    images_placeholder: Images placeholder.\n",
      "    labels_placeholder: Labels placeholder.\n",
      "  \"\"\"\n",
      "  # Note that the shapes of the placeholders match the shapes of the full\n",
      "  # image and label tensors, except the first dimension is now batch_size\n",
      "  # rather than the full size of the train or test data sets.\n",
      "  images_placeholder = tf.placeholder(tf.float32, shape=(batch_size,\n",
      "                                                         tcga.IMAGE_PIXELS))\n",
      "  labels_placeholder = tf.placeholder(tf.int32, shape=(batch_size))\n",
      "  return images_placeholder, labels_placeholder"
     ],
     "language": "python",
     "metadata": {},
     "outputs": [],
     "prompt_number": 3
    },
    {
     "cell_type": "code",
     "collapsed": false,
     "input": [
      "def fill_feed_dict(data_set, images_pl, labels_pl):\n",
      "  \"\"\"Fills the feed_dict for training the given step.\n",
      "\n",
      "  A feed_dict takes the form of:\n",
      "  feed_dict = {\n",
      "      <placeholder>: <tensor of values to be passed for placeholder>,\n",
      "      ....\n",
      "  }\n",
      "\n",
      "  Args:\n",
      "    data_set: The set of images and labels, from input_data.read_data_sets()\n",
      "    images_pl: The images placeholder, from placeholder_inputs().\n",
      "    labels_pl: The labels placeholder, from placeholder_inputs().\n",
      "\n",
      "  Returns:\n",
      "    feed_dict: The feed dictionary mapping from placeholders to values.\n",
      "  \"\"\"\n",
      "  # Create the feed_dict for the placeholders filled with the next\n",
      "  # `batch size ` examples.\n",
      "  images_feed, labels_feed = data_set.next_batch(FLAGS.batch_size,\n",
      "                                                 FLAGS.fake_data)\n",
      "  feed_dict = {\n",
      "      images_pl: images_feed,\n",
      "      labels_pl: labels_feed,\n",
      "  }\n",
      "  return feed_dict"
     ],
     "language": "python",
     "metadata": {},
     "outputs": [],
     "prompt_number": 4
    },
    {
     "cell_type": "code",
     "collapsed": false,
     "input": [
      "def do_eval(sess,\n",
      "            eval_correct,\n",
      "            images_placeholder,\n",
      "            labels_placeholder,\n",
      "            data_set):\n",
      "  \"\"\"Runs one evaluation against the full epoch of data.\n",
      "\n",
      "  Args:\n",
      "    sess: The session in which the model has been trained.\n",
      "    eval_correct: The Tensor that returns the number of correct predictions.\n",
      "    images_placeholder: The images placeholder.\n",
      "    labels_placeholder: The labels placeholder.\n",
      "    data_set: The set of images and labels to evaluate, from\n",
      "      input_data.read_data_sets().\n",
      "  \"\"\"\n",
      "  # And run one epoch of eval.\n",
      "  true_count = 0  # Counts the number of correct predictions.\n",
      "  steps_per_epoch = data_set.num_examples // FLAGS.batch_size\n",
      "  num_examples = steps_per_epoch * FLAGS.batch_size\n",
      "  for step in xrange(steps_per_epoch):\n",
      "    feed_dict = fill_feed_dict(data_set,\n",
      "                               images_placeholder,\n",
      "                               labels_placeholder)\n",
      "    true_count += sess.run(eval_correct, feed_dict=feed_dict)\n",
      "  precision = true_count / num_examples\n",
      "  print('  Num examples: %d  Num correct: %d  Precision @ 1: %0.04f' %\n",
      "        (num_examples, true_count, precision)) \n",
      "  return precision"
     ],
     "language": "python",
     "metadata": {},
     "outputs": [],
     "prompt_number": 5
    },
    {
     "cell_type": "code",
     "collapsed": false,
     "input": [
      "  \"\"\"Train mRNA-TCGA for a number of steps.\"\"\"\n",
      "  # Get the sets of images and labels for training, validation, and\n",
      "  # test on MNIST.\n",
      "  data_sets = input_data.read_data_sets(FLAGS.train_dir, FLAGS.fake_data)\n",
      "  # Tell TensorFlow that the model will be built into the default Graph.\n",
      "  with tf.Graph().as_default():\n",
      "    # Generate placeholders for the images and labels.\n",
      "    images_placeholder, labels_placeholder = placeholder_inputs(\n",
      "        FLAGS.batch_size)\n",
      "\n",
      "    # Build a Graph that computes predictions from the inference model.\n",
      "    logits = tcga.inference(images_placeholder,\n",
      "                             FLAGS.hidden1,\n",
      "                             FLAGS.hidden2,\n",
      "\t\t\t     FLAGS.hidden3)\n",
      "\n",
      "    # Add to the Graph the Ops for loss calculation.\n",
      "    loss = tcga.loss(logits, labels_placeholder)\n",
      "\n",
      "    # Add to the Graph the Ops that calculate and apply gradients.\n",
      "    train_op = tcga.training(loss, FLAGS.learning_rate)\n",
      "\n",
      "    # Add the Op to compare the logits to the labels during evaluation.\n",
      "    eval_correct = tcga.evaluation(logits, labels_placeholder)\n",
      "\n",
      "    \n",
      "    train_accuracy = tf.Variable(0,dtype=tf.float32,name='train_accuracy')\n",
      "    valid_accuracy = tf.Variable(0,dtype=tf.float32,name='validation_accuracy')\n",
      "    test_accuracy = tf.Variable(0,dtype=tf.float32,name='test_accuracy')\n",
      "    tf.scalar_summary('train accuracy',train_accuracy)\n",
      "    tf.scalar_summary('validation accuracy',valid_accuracy)\n",
      "    tf.scalar_summary('test accuracy',test_accuracy)\n",
      "\n",
      "    # Build the summary operation based on the TF collection of Summaries.\n",
      "    summary_op = tf.merge_all_summaries()\n",
      "\n",
      "    # Add the variable initializer Op.\n",
      "    init = tf.initialize_all_variables()\n",
      "\n",
      "    # Create a saver for writing training checkpoints.\n",
      "    saver = tf.train.Saver()\n",
      "\n",
      "    # Create a session for running Ops on the Graph.\n",
      "    sess = tf.Session()\n",
      "  \n",
      "\n",
      "    # Instantiate a SummaryWriter to output summaries and the Graph.\n",
      "    summary_writer = tf.train.SummaryWriter(FLAGS.log_dir, sess.graph)\n",
      "\n",
      "    # And then after everything is built:\n",
      "\n",
      "    # Run the Op to initialize the variables.\n",
      "    sess.run(init)\n",
      "\n",
      "    # Start the training loop.\n",
      "    for step in xrange(FLAGS.max_steps):\n",
      "      start_time = time.time()\n",
      "\n",
      "      # Fill a feed dictionary with the actual set of images and labels\n",
      "      # for this particular training step.\n",
      "      feed_dict = fill_feed_dict(data_sets.train,\n",
      "                                 images_placeholder,\n",
      "                                 labels_placeholder)\n",
      "\n",
      "      # Run one step of the model.  The return values are the activations\n",
      "      # from the `train_op` (which is discarded) and the `loss` Op.  To\n",
      "      # inspect the values of your Ops or variables, you may include them\n",
      "      # in the list passed to sess.run() and the value tensors will be\n",
      "      # returned in the tuple from the call.\n",
      "      _, loss_value = sess.run([train_op, loss],\n",
      "                               feed_dict=feed_dict)\n",
      "\n",
      "      duration = time.time() - start_time\n",
      "\n",
      "      # Write the summaries and print an overview fairly often.\n",
      "      if step % 10 == 0:\n",
      "        # Print status to stdout.\n",
      "        print('Step %d: loss = %.2f (%.3f sec)' % (step, loss_value, duration))\n",
      "        # Update the events file.\n",
      "        summary_str = sess.run(summary_op, feed_dict=feed_dict)\n",
      "        summary_writer.add_summary(summary_str, step)\n",
      "        summary_writer.flush()\n",
      "\n",
      "      # Save a checkpoint and evaluate the model periodically.\n",
      "      if (step + 1) % 10 == 0 or (step + 1) == FLAGS.max_steps:\n",
      "        saver.save(sess, FLAGS.log_dir+'/model.ckpt', global_step=step)\n",
      "        # Evaluate against the training set.\n",
      "        print('Training Data Eval:')\n",
      "        precision=do_eval(sess,\n",
      "                eval_correct,\n",
      "                images_placeholder,\n",
      "                labels_placeholder,\n",
      "                data_sets.train)\n",
      "        update=tf.assign(train_accuracy, np.asscalar(precision))\n",
      "        sess.run(update)\n",
      "        # Evaluate against the validation set.\n",
      "        print('Validation Data Eval:')\n",
      "        precision=do_eval(sess,\n",
      "                eval_correct,\n",
      "                images_placeholder,\n",
      "                labels_placeholder,\n",
      "                data_sets.validation)\n",
      "        update=tf.assign(valid_accuracy, np.asscalar(precision))\n",
      "        sess.run(update)\n",
      "        # Evaluate against the test set.\n",
      "        print('Test Data Eval:')\n",
      "        precision=do_eval(sess,\n",
      "                eval_correct,\n",
      "                images_placeholder,\n",
      "                labels_placeholder,\n",
      "                data_sets.test)\n",
      "        #accuracy=tf.convert_to_tensor(precision)\n",
      "        update=tf.assign(test_accuracy, np.asscalar(precision))\n",
      "        sess.run(update)\n",
      "        #print(sess.run(accuracy,feed_dict=feed_dict))\n",
      "        summary_str = sess.run(summary_op, feed_dict=feed_dict)\n",
      "        summary_writer.add_summary(summary_str, step)\n",
      "        summary_writer.flush()"
     ],
     "language": "python",
     "metadata": {},
     "outputs": [
      {
       "output_type": "stream",
       "stream": "stdout",
       "text": [
        "Number of training dataset: 7945 \n",
        "Number of valiation dataset: 1679 "
       ]
      },
      {
       "output_type": "stream",
       "stream": "stdout",
       "text": [
        "\n",
        "Number of test dataset: 1679 "
       ]
      },
      {
       "output_type": "stream",
       "stream": "stdout",
       "text": [
        "\n",
        "Step 0: loss = 3.53 (0.457 sec)"
       ]
      },
      {
       "output_type": "stream",
       "stream": "stdout",
       "text": [
        "\n",
        "Training Data Eval:"
       ]
      },
      {
       "output_type": "stream",
       "stream": "stdout",
       "text": [
        "\n",
        "  Num examples: 7936  Num correct: 1435  Precision @ 1: 0.1808"
       ]
      },
      {
       "output_type": "stream",
       "stream": "stdout",
       "text": [
        "\n",
        "Validation Data Eval:\n",
        "  Num examples: 1664  Num correct: 321  Precision @ 1: 0.1929"
       ]
      },
      {
       "output_type": "stream",
       "stream": "stdout",
       "text": [
        "\n",
        "Test Data Eval:\n",
        "  Num examples: 1664  Num correct: 317  Precision @ 1: 0.1905"
       ]
      },
      {
       "output_type": "stream",
       "stream": "stdout",
       "text": [
        "\n",
        "Step 10: loss = 3.42 (0.012 sec)\n",
        "Training Data Eval:"
       ]
      },
      {
       "output_type": "stream",
       "stream": "stdout",
       "text": [
        "\n",
        "  Num examples: 7936  Num correct: 2474  Precision @ 1: 0.3117"
       ]
      },
      {
       "output_type": "stream",
       "stream": "stdout",
       "text": [
        "\n",
        "Validation Data Eval:\n",
        "  Num examples: 1664  Num correct: 528  Precision @ 1: 0.3173"
       ]
      },
      {
       "output_type": "stream",
       "stream": "stdout",
       "text": [
        "\n",
        "Test Data Eval:\n",
        "  Num examples: 1664  Num correct: 510  Precision @ 1: 0.3065"
       ]
      },
      {
       "output_type": "stream",
       "stream": "stdout",
       "text": [
        "\n",
        "Step 20: loss = 3.32 (0.013 sec)\n",
        "Training Data Eval:"
       ]
      },
      {
       "output_type": "stream",
       "stream": "stdout",
       "text": [
        "\n",
        "  Num examples: 7936  Num correct: 2483  Precision @ 1: 0.3129"
       ]
      },
      {
       "output_type": "stream",
       "stream": "stdout",
       "text": [
        "\n",
        "Validation Data Eval:\n",
        "  Num examples: 1664  Num correct: 532  Precision @ 1: 0.3197"
       ]
      },
      {
       "output_type": "stream",
       "stream": "stdout",
       "text": [
        "\n",
        "Test Data Eval:\n",
        "  Num examples: 1664  Num correct: 514  Precision @ 1: 0.3089"
       ]
      },
      {
       "output_type": "stream",
       "stream": "stdout",
       "text": [
        "\n",
        "Step 30: loss = 3.09 (0.010 sec)\n",
        "Training Data Eval:"
       ]
      },
      {
       "output_type": "stream",
       "stream": "stdout",
       "text": [
        "\n",
        "  Num examples: 7936  Num correct: 2574  Precision @ 1: 0.3243"
       ]
      },
      {
       "output_type": "stream",
       "stream": "stdout",
       "text": [
        "\n",
        "Validation Data Eval:\n",
        "  Num examples: 1664  Num correct: 539  Precision @ 1: 0.3239"
       ]
      },
      {
       "output_type": "stream",
       "stream": "stdout",
       "text": [
        "\n",
        "Test Data Eval:\n",
        "  Num examples: 1664  Num correct: 534  Precision @ 1: 0.3209"
       ]
      },
      {
       "output_type": "stream",
       "stream": "stdout",
       "text": [
        "\n",
        "Step 40: loss = 3.10 (0.010 sec)\n",
        "Training Data Eval:"
       ]
      },
      {
       "output_type": "stream",
       "stream": "stdout",
       "text": [
        "\n",
        "  Num examples: 7936  Num correct: 2485  Precision @ 1: 0.3131"
       ]
      },
      {
       "output_type": "stream",
       "stream": "stdout",
       "text": [
        "\n",
        "Validation Data Eval:\n",
        "  Num examples: 1664  Num correct: 525  Precision @ 1: 0.3155"
       ]
      },
      {
       "output_type": "stream",
       "stream": "stdout",
       "text": [
        "\n",
        "Test Data Eval:\n",
        "  Num examples: 1664  Num correct: 506  Precision @ 1: 0.3041"
       ]
      },
      {
       "output_type": "stream",
       "stream": "stdout",
       "text": [
        "\n",
        "Step 50: loss = 2.96 (0.009 sec)\n",
        "Training Data Eval:"
       ]
      },
      {
       "output_type": "stream",
       "stream": "stdout",
       "text": [
        "\n",
        "  Num examples: 7936  Num correct: 2673  Precision @ 1: 0.3368"
       ]
      },
      {
       "output_type": "stream",
       "stream": "stdout",
       "text": [
        "\n",
        "Validation Data Eval:\n",
        "  Num examples: 1664  Num correct: 553  Precision @ 1: 0.3323"
       ]
      },
      {
       "output_type": "stream",
       "stream": "stdout",
       "text": [
        "\n",
        "Test Data Eval:\n",
        "  Num examples: 1664  Num correct: 538  Precision @ 1: 0.3233"
       ]
      },
      {
       "output_type": "stream",
       "stream": "stdout",
       "text": [
        "\n",
        "Step 60: loss = 2.88 (0.010 sec)\n",
        "Training Data Eval:"
       ]
      },
      {
       "output_type": "stream",
       "stream": "stdout",
       "text": [
        "\n",
        "  Num examples: 7936  Num correct: 2916  Precision @ 1: 0.3674"
       ]
      },
      {
       "output_type": "stream",
       "stream": "stdout",
       "text": [
        "\n",
        "Validation Data Eval:\n",
        "  Num examples: 1664  Num correct: 608  Precision @ 1: 0.3654"
       ]
      },
      {
       "output_type": "stream",
       "stream": "stdout",
       "text": [
        "\n",
        "Test Data Eval:\n",
        "  Num examples: 1664  Num correct: 601  Precision @ 1: 0.3612"
       ]
      },
      {
       "output_type": "stream",
       "stream": "stdout",
       "text": [
        "\n",
        "Step 70: loss = 2.66 (0.010 sec)\n",
        "Training Data Eval:"
       ]
      },
      {
       "output_type": "stream",
       "stream": "stdout",
       "text": [
        "\n",
        "  Num examples: 7936  Num correct: 3421  Precision @ 1: 0.4311"
       ]
      },
      {
       "output_type": "stream",
       "stream": "stdout",
       "text": [
        "\n",
        "Validation Data Eval:\n",
        "  Num examples: 1664  Num correct: 699  Precision @ 1: 0.4201"
       ]
      },
      {
       "output_type": "stream",
       "stream": "stdout",
       "text": [
        "\n",
        "Test Data Eval:\n",
        "  Num examples: 1664  Num correct: 726  Precision @ 1: 0.4363"
       ]
      },
      {
       "output_type": "stream",
       "stream": "stdout",
       "text": [
        "\n",
        "Step 80: loss = 2.51 (0.011 sec)\n",
        "Training Data Eval:"
       ]
      },
      {
       "output_type": "stream",
       "stream": "stdout",
       "text": [
        "\n",
        "  Num examples: 7936  Num correct: 3334  Precision @ 1: 0.4201"
       ]
      },
      {
       "output_type": "stream",
       "stream": "stdout",
       "text": [
        "\n",
        "Validation Data Eval:\n",
        "  Num examples: 1664  Num correct: 706  Precision @ 1: 0.4243"
       ]
      },
      {
       "output_type": "stream",
       "stream": "stdout",
       "text": [
        "\n",
        "Test Data Eval:\n",
        "  Num examples: 1664  Num correct: 720  Precision @ 1: 0.4327"
       ]
      },
      {
       "output_type": "stream",
       "stream": "stdout",
       "text": [
        "\n",
        "Step 90: loss = 2.48 (0.009 sec)\n",
        "Training Data Eval:"
       ]
      },
      {
       "output_type": "stream",
       "stream": "stdout",
       "text": [
        "\n",
        "  Num examples: 7936  Num correct: 3642  Precision @ 1: 0.4589"
       ]
      },
      {
       "output_type": "stream",
       "stream": "stdout",
       "text": [
        "\n",
        "Validation Data Eval:\n",
        "  Num examples: 1664  Num correct: 765  Precision @ 1: 0.4597"
       ]
      },
      {
       "output_type": "stream",
       "stream": "stdout",
       "text": [
        "\n",
        "Test Data Eval:\n",
        "  Num examples: 1664  Num correct: 778  Precision @ 1: 0.4675"
       ]
      },
      {
       "output_type": "stream",
       "stream": "stdout",
       "text": [
        "\n",
        "Step 100: loss = 2.33 (0.011 sec)\n",
        "Training Data Eval:"
       ]
      },
      {
       "output_type": "stream",
       "stream": "stdout",
       "text": [
        "\n",
        "  Num examples: 7936  Num correct: 4059  Precision @ 1: 0.5115"
       ]
      },
      {
       "output_type": "stream",
       "stream": "stdout",
       "text": [
        "\n",
        "Validation Data Eval:\n",
        "  Num examples: 1664  Num correct: 859  Precision @ 1: 0.5162"
       ]
      },
      {
       "output_type": "stream",
       "stream": "stdout",
       "text": [
        "\n",
        "Test Data Eval:\n",
        "  Num examples: 1664  Num correct: 851  Precision @ 1: 0.5114"
       ]
      },
      {
       "output_type": "stream",
       "stream": "stdout",
       "text": [
        "\n",
        "Step 110: loss = 2.35 (0.009 sec)\n",
        "Training Data Eval:"
       ]
      },
      {
       "output_type": "stream",
       "stream": "stdout",
       "text": [
        "\n",
        "  Num examples: 7936  Num correct: 4403  Precision @ 1: 0.5548"
       ]
      },
      {
       "output_type": "stream",
       "stream": "stdout",
       "text": [
        "\n",
        "Validation Data Eval:\n",
        "  Num examples: 1664  Num correct: 923  Precision @ 1: 0.5547"
       ]
      },
      {
       "output_type": "stream",
       "stream": "stdout",
       "text": [
        "\n",
        "Test Data Eval:\n",
        "  Num examples: 1664  Num correct: 925  Precision @ 1: 0.5559"
       ]
      },
      {
       "output_type": "stream",
       "stream": "stdout",
       "text": [
        "\n",
        "Step 120: loss = 2.21 (0.009 sec)\n",
        "Training Data Eval:"
       ]
      },
      {
       "output_type": "stream",
       "stream": "stdout",
       "text": [
        "\n",
        "  Num examples: 7936  Num correct: 4700  Precision @ 1: 0.5922"
       ]
      },
      {
       "output_type": "stream",
       "stream": "stdout",
       "text": [
        "\n",
        "Validation Data Eval:\n",
        "  Num examples: 1664  Num correct: 980  Precision @ 1: 0.5889"
       ]
      },
      {
       "output_type": "stream",
       "stream": "stdout",
       "text": [
        "\n",
        "Test Data Eval:\n",
        "  Num examples: 1664  Num correct: 995  Precision @ 1: 0.5980"
       ]
      },
      {
       "output_type": "stream",
       "stream": "stdout",
       "text": [
        "\n",
        "Step 130: loss = 2.14 (0.010 sec)\n",
        "Training Data Eval:"
       ]
      },
      {
       "output_type": "stream",
       "stream": "stdout",
       "text": [
        "\n",
        "  Num examples: 7936  Num correct: 4675  Precision @ 1: 0.5891"
       ]
      },
      {
       "output_type": "stream",
       "stream": "stdout",
       "text": [
        "\n",
        "Validation Data Eval:\n",
        "  Num examples: 1664  Num correct: 977  Precision @ 1: 0.5871"
       ]
      },
      {
       "output_type": "stream",
       "stream": "stdout",
       "text": [
        "\n",
        "Test Data Eval:\n",
        "  Num examples: 1664  Num correct: 995  Precision @ 1: 0.5980"
       ]
      },
      {
       "output_type": "stream",
       "stream": "stdout",
       "text": [
        "\n",
        "Step 140: loss = 1.95 (0.012 sec)\n",
        "Training Data Eval:"
       ]
      },
      {
       "output_type": "stream",
       "stream": "stdout",
       "text": [
        "\n",
        "  Num examples: 7936  Num correct: 4730  Precision @ 1: 0.5960"
       ]
      },
      {
       "output_type": "stream",
       "stream": "stdout",
       "text": [
        "\n",
        "Validation Data Eval:\n",
        "  Num examples: 1664  Num correct: 996  Precision @ 1: 0.5986"
       ]
      },
      {
       "output_type": "stream",
       "stream": "stdout",
       "text": [
        "\n",
        "Test Data Eval:\n",
        "  Num examples: 1664  Num correct: 1000  Precision @ 1: 0.6010"
       ]
      },
      {
       "output_type": "stream",
       "stream": "stdout",
       "text": [
        "\n",
        "Step 150: loss = 1.80 (0.010 sec)\n",
        "Training Data Eval:"
       ]
      },
      {
       "output_type": "stream",
       "stream": "stdout",
       "text": [
        "\n",
        "  Num examples: 7936  Num correct: 4997  Precision @ 1: 0.6297"
       ]
      },
      {
       "output_type": "stream",
       "stream": "stdout",
       "text": [
        "\n",
        "Validation Data Eval:\n",
        "  Num examples: 1664  Num correct: 1048  Precision @ 1: 0.6298"
       ]
      },
      {
       "output_type": "stream",
       "stream": "stdout",
       "text": [
        "\n",
        "Test Data Eval:\n",
        "  Num examples: 1664  Num correct: 1055  Precision @ 1: 0.6340"
       ]
      },
      {
       "output_type": "stream",
       "stream": "stdout",
       "text": [
        "\n",
        "Step 160: loss = 1.92 (0.010 sec)\n",
        "Training Data Eval:"
       ]
      },
      {
       "output_type": "stream",
       "stream": "stdout",
       "text": [
        "\n",
        "  Num examples: 7936  Num correct: 5125  Precision @ 1: 0.6458"
       ]
      },
      {
       "output_type": "stream",
       "stream": "stdout",
       "text": [
        "\n",
        "Validation Data Eval:\n",
        "  Num examples: 1664  Num correct: 1084  Precision @ 1: 0.6514"
       ]
      },
      {
       "output_type": "stream",
       "stream": "stdout",
       "text": [
        "\n",
        "Test Data Eval:\n",
        "  Num examples: 1664  Num correct: 1097  Precision @ 1: 0.6593"
       ]
      },
      {
       "output_type": "stream",
       "stream": "stdout",
       "text": [
        "\n",
        "Step 170: loss = 1.66 (0.011 sec)\n",
        "Training Data Eval:"
       ]
      },
      {
       "output_type": "stream",
       "stream": "stdout",
       "text": [
        "\n",
        "  Num examples: 7936  Num correct: 5229  Precision @ 1: 0.6589"
       ]
      },
      {
       "output_type": "stream",
       "stream": "stdout",
       "text": [
        "\n",
        "Validation Data Eval:\n",
        "  Num examples: 1664  Num correct: 1095  Precision @ 1: 0.6581"
       ]
      },
      {
       "output_type": "stream",
       "stream": "stdout",
       "text": [
        "\n",
        "Test Data Eval:\n",
        "  Num examples: 1664  Num correct: 1105  Precision @ 1: 0.6641"
       ]
      },
      {
       "output_type": "stream",
       "stream": "stdout",
       "text": [
        "\n",
        "Step 180: loss = 1.63 (0.010 sec)\n",
        "Training Data Eval:"
       ]
      },
      {
       "output_type": "stream",
       "stream": "stdout",
       "text": [
        "\n",
        "  Num examples: 7936  Num correct: 5182  Precision @ 1: 0.6530"
       ]
      },
      {
       "output_type": "stream",
       "stream": "stdout",
       "text": [
        "\n",
        "Validation Data Eval:\n",
        "  Num examples: 1664  Num correct: 1101  Precision @ 1: 0.6617"
       ]
      },
      {
       "output_type": "stream",
       "stream": "stdout",
       "text": [
        "\n",
        "Test Data Eval:\n",
        "  Num examples: 1664  Num correct: 1099  Precision @ 1: 0.6605"
       ]
      },
      {
       "output_type": "stream",
       "stream": "stdout",
       "text": [
        "\n",
        "Step 190: loss = 1.65 (0.011 sec)\n",
        "Training Data Eval:"
       ]
      },
      {
       "output_type": "stream",
       "stream": "stdout",
       "text": [
        "\n",
        "  Num examples: 7936  Num correct: 5331  Precision @ 1: 0.6717"
       ]
      },
      {
       "output_type": "stream",
       "stream": "stdout",
       "text": [
        "\n",
        "Validation Data Eval:\n",
        "  Num examples: 1664  Num correct: 1111  Precision @ 1: 0.6677"
       ]
      },
      {
       "output_type": "stream",
       "stream": "stdout",
       "text": [
        "\n",
        "Test Data Eval:\n",
        "  Num examples: 1664  Num correct: 1127  Precision @ 1: 0.6773"
       ]
      },
      {
       "output_type": "stream",
       "stream": "stdout",
       "text": [
        "\n",
        "Step 200: loss = 1.40 (0.009 sec)\n",
        "Training Data Eval:"
       ]
      },
      {
       "output_type": "stream",
       "stream": "stdout",
       "text": [
        "\n",
        "  Num examples: 7936  Num correct: 5397  Precision @ 1: 0.6801"
       ]
      },
      {
       "output_type": "stream",
       "stream": "stdout",
       "text": [
        "\n",
        "Validation Data Eval:\n",
        "  Num examples: 1664  Num correct: 1122  Precision @ 1: 0.6743"
       ]
      },
      {
       "output_type": "stream",
       "stream": "stdout",
       "text": [
        "\n",
        "Test Data Eval:\n",
        "  Num examples: 1664  Num correct: 1129  Precision @ 1: 0.6785"
       ]
      },
      {
       "output_type": "stream",
       "stream": "stdout",
       "text": [
        "\n",
        "Step 210: loss = 1.55 (0.010 sec)\n",
        "Training Data Eval:"
       ]
      },
      {
       "output_type": "stream",
       "stream": "stdout",
       "text": [
        "\n",
        "  Num examples: 7936  Num correct: 5358  Precision @ 1: 0.6752"
       ]
      },
      {
       "output_type": "stream",
       "stream": "stdout",
       "text": [
        "\n",
        "Validation Data Eval:\n",
        "  Num examples: 1664  Num correct: 1127  Precision @ 1: 0.6773"
       ]
      },
      {
       "output_type": "stream",
       "stream": "stdout",
       "text": [
        "\n",
        "Test Data Eval:\n",
        "  Num examples: 1664  Num correct: 1133  Precision @ 1: 0.6809"
       ]
      },
      {
       "output_type": "stream",
       "stream": "stdout",
       "text": [
        "\n",
        "Step 220: loss = 1.42 (0.009 sec)\n",
        "Training Data Eval:"
       ]
      },
      {
       "output_type": "stream",
       "stream": "stdout",
       "text": [
        "\n",
        "  Num examples: 7936  Num correct: 5570  Precision @ 1: 0.7019"
       ]
      },
      {
       "output_type": "stream",
       "stream": "stdout",
       "text": [
        "\n",
        "Validation Data Eval:\n",
        "  Num examples: 1664  Num correct: 1167  Precision @ 1: 0.7013"
       ]
      },
      {
       "output_type": "stream",
       "stream": "stdout",
       "text": [
        "\n",
        "Test Data Eval:\n",
        "  Num examples: 1664  Num correct: 1179  Precision @ 1: 0.7085"
       ]
      },
      {
       "output_type": "stream",
       "stream": "stdout",
       "text": [
        "\n",
        "Step 230: loss = 1.21 (0.010 sec)\n",
        "Training Data Eval:"
       ]
      },
      {
       "output_type": "stream",
       "stream": "stdout",
       "text": [
        "\n",
        "  Num examples: 7936  Num correct: 5657  Precision @ 1: 0.7128"
       ]
      },
      {
       "output_type": "stream",
       "stream": "stdout",
       "text": [
        "\n",
        "Validation Data Eval:\n",
        "  Num examples: 1664  Num correct: 1171  Precision @ 1: 0.7037"
       ]
      },
      {
       "output_type": "stream",
       "stream": "stdout",
       "text": [
        "\n",
        "Test Data Eval:\n",
        "  Num examples: 1664  Num correct: 1184  Precision @ 1: 0.7115"
       ]
      },
      {
       "output_type": "stream",
       "stream": "stdout",
       "text": [
        "\n",
        "Step 240: loss = 1.34 (0.009 sec)\n",
        "Training Data Eval:"
       ]
      },
      {
       "output_type": "stream",
       "stream": "stdout",
       "text": [
        "\n",
        "  Num examples: 7936  Num correct: 5748  Precision @ 1: 0.7243"
       ]
      },
      {
       "output_type": "stream",
       "stream": "stdout",
       "text": [
        "\n",
        "Validation Data Eval:\n",
        "  Num examples: 1664  Num correct: 1186  Precision @ 1: 0.7127"
       ]
      },
      {
       "output_type": "stream",
       "stream": "stdout",
       "text": [
        "\n",
        "Test Data Eval:\n",
        "  Num examples: 1664  Num correct: 1197  Precision @ 1: 0.7194"
       ]
      },
      {
       "output_type": "stream",
       "stream": "stdout",
       "text": [
        "\n",
        "Step 250: loss = 1.54 (0.010 sec)\n",
        "Training Data Eval:"
       ]
      },
      {
       "output_type": "stream",
       "stream": "stdout",
       "text": [
        "\n",
        "  Num examples: 7936  Num correct: 5802  Precision @ 1: 0.7311"
       ]
      },
      {
       "output_type": "stream",
       "stream": "stdout",
       "text": [
        "\n",
        "Validation Data Eval:\n",
        "  Num examples: 1664  Num correct: 1197  Precision @ 1: 0.7194"
       ]
      },
      {
       "output_type": "stream",
       "stream": "stdout",
       "text": [
        "\n",
        "Test Data Eval:\n",
        "  Num examples: 1664  Num correct: 1223  Precision @ 1: 0.7350"
       ]
      },
      {
       "output_type": "stream",
       "stream": "stdout",
       "text": [
        "\n",
        "Step 260: loss = 1.46 (0.010 sec)\n",
        "Training Data Eval:"
       ]
      },
      {
       "output_type": "stream",
       "stream": "stdout",
       "text": [
        "\n",
        "  Num examples: 7936  Num correct: 5779  Precision @ 1: 0.7282"
       ]
      },
      {
       "output_type": "stream",
       "stream": "stdout",
       "text": [
        "\n",
        "Validation Data Eval:\n",
        "  Num examples: 1664  Num correct: 1186  Precision @ 1: 0.7127"
       ]
      },
      {
       "output_type": "stream",
       "stream": "stdout",
       "text": [
        "\n",
        "Test Data Eval:\n",
        "  Num examples: 1664  Num correct: 1204  Precision @ 1: 0.7236"
       ]
      },
      {
       "output_type": "stream",
       "stream": "stdout",
       "text": [
        "\n",
        "Step 270: loss = 1.39 (0.010 sec)\n",
        "Training Data Eval:"
       ]
      },
      {
       "output_type": "stream",
       "stream": "stdout",
       "text": [
        "\n",
        "  Num examples: 7936  Num correct: 5817  Precision @ 1: 0.7330"
       ]
      },
      {
       "output_type": "stream",
       "stream": "stdout",
       "text": [
        "\n",
        "Validation Data Eval:\n",
        "  Num examples: 1664  Num correct: 1211  Precision @ 1: 0.7278"
       ]
      },
      {
       "output_type": "stream",
       "stream": "stdout",
       "text": [
        "\n",
        "Test Data Eval:\n",
        "  Num examples: 1664  Num correct: 1227  Precision @ 1: 0.7374"
       ]
      },
      {
       "output_type": "stream",
       "stream": "stdout",
       "text": [
        "\n",
        "Step 280: loss = 1.34 (0.009 sec)\n",
        "Training Data Eval:"
       ]
      },
      {
       "output_type": "stream",
       "stream": "stdout",
       "text": [
        "\n",
        "  Num examples: 7936  Num correct: 5966  Precision @ 1: 0.7518"
       ]
      },
      {
       "output_type": "stream",
       "stream": "stdout",
       "text": [
        "\n",
        "Validation Data Eval:\n",
        "  Num examples: 1664  Num correct: 1225  Precision @ 1: 0.7362"
       ]
      },
      {
       "output_type": "stream",
       "stream": "stdout",
       "text": [
        "\n",
        "Test Data Eval:\n",
        "  Num examples: 1664  Num correct: 1240  Precision @ 1: 0.7452"
       ]
      },
      {
       "output_type": "stream",
       "stream": "stdout",
       "text": [
        "\n",
        "Step 290: loss = 1.25 (0.009 sec)\n",
        "Training Data Eval:"
       ]
      },
      {
       "output_type": "stream",
       "stream": "stdout",
       "text": [
        "\n",
        "  Num examples: 7936  Num correct: 6023  Precision @ 1: 0.7589"
       ]
      },
      {
       "output_type": "stream",
       "stream": "stdout",
       "text": [
        "\n",
        "Validation Data Eval:\n",
        "  Num examples: 1664  Num correct: 1238  Precision @ 1: 0.7440"
       ]
      },
      {
       "output_type": "stream",
       "stream": "stdout",
       "text": [
        "\n",
        "Test Data Eval:\n",
        "  Num examples: 1664  Num correct: 1255  Precision @ 1: 0.7542"
       ]
      },
      {
       "output_type": "stream",
       "stream": "stdout",
       "text": [
        "\n",
        "Step 300: loss = 1.02 (0.009 sec)\n",
        "Training Data Eval:"
       ]
      },
      {
       "output_type": "stream",
       "stream": "stdout",
       "text": [
        "\n",
        "  Num examples: 7936  Num correct: 5987  Precision @ 1: 0.7544"
       ]
      },
      {
       "output_type": "stream",
       "stream": "stdout",
       "text": [
        "\n",
        "Validation Data Eval:\n",
        "  Num examples: 1664  Num correct: 1244  Precision @ 1: 0.7476"
       ]
      },
      {
       "output_type": "stream",
       "stream": "stdout",
       "text": [
        "\n",
        "Test Data Eval:\n",
        "  Num examples: 1664  Num correct: 1250  Precision @ 1: 0.7512"
       ]
      },
      {
       "output_type": "stream",
       "stream": "stdout",
       "text": [
        "\n",
        "Step 310: loss = 1.32 (0.167 sec)"
       ]
      },
      {
       "output_type": "stream",
       "stream": "stdout",
       "text": [
        "\n",
        "Training Data Eval:"
       ]
      },
      {
       "output_type": "stream",
       "stream": "stdout",
       "text": [
        "\n",
        "  Num examples: 7936  Num correct: 6056  Precision @ 1: 0.7631"
       ]
      },
      {
       "output_type": "stream",
       "stream": "stdout",
       "text": [
        "\n",
        "Validation Data Eval:\n",
        "  Num examples: 1664  Num correct: 1247  Precision @ 1: 0.7494"
       ]
      },
      {
       "output_type": "stream",
       "stream": "stdout",
       "text": [
        "\n",
        "Test Data Eval:\n",
        "  Num examples: 1664  Num correct: 1255  Precision @ 1: 0.7542"
       ]
      },
      {
       "output_type": "stream",
       "stream": "stdout",
       "text": [
        "\n",
        "Step 320: loss = 1.02 (0.009 sec)\n",
        "Training Data Eval:"
       ]
      },
      {
       "output_type": "stream",
       "stream": "stdout",
       "text": [
        "\n",
        "  Num examples: 7936  Num correct: 6182  Precision @ 1: 0.7790"
       ]
      },
      {
       "output_type": "stream",
       "stream": "stdout",
       "text": [
        "\n",
        "Validation Data Eval:\n",
        "  Num examples: 1664  Num correct: 1279  Precision @ 1: 0.7686"
       ]
      },
      {
       "output_type": "stream",
       "stream": "stdout",
       "text": [
        "\n",
        "Test Data Eval:\n",
        "  Num examples: 1664  Num correct: 1277  Precision @ 1: 0.7674"
       ]
      },
      {
       "output_type": "stream",
       "stream": "stdout",
       "text": [
        "\n",
        "Step 330: loss = 1.08 (0.010 sec)\n",
        "Training Data Eval:"
       ]
      },
      {
       "output_type": "stream",
       "stream": "stdout",
       "text": [
        "\n",
        "  Num examples: 7936  Num correct: 6156  Precision @ 1: 0.7757"
       ]
      },
      {
       "output_type": "stream",
       "stream": "stdout",
       "text": [
        "\n",
        "Validation Data Eval:\n",
        "  Num examples: 1664  Num correct: 1263  Precision @ 1: 0.7590"
       ]
      },
      {
       "output_type": "stream",
       "stream": "stdout",
       "text": [
        "\n",
        "Test Data Eval:\n",
        "  Num examples: 1664  Num correct: 1266  Precision @ 1: 0.7608"
       ]
      },
      {
       "output_type": "stream",
       "stream": "stdout",
       "text": [
        "\n",
        "Step 340: loss = 1.12 (0.009 sec)\n",
        "Training Data Eval:"
       ]
      }
     ]
    },
    {
     "cell_type": "code",
     "collapsed": false,
     "input": [],
     "language": "python",
     "metadata": {},
     "outputs": []
    }
   ],
   "metadata": {}
  }
 ]
}