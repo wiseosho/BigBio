{
 "cells": [
  {
   "cell_type": "markdown",
   "metadata": {},
   "source": [
    "# mRNA 데이터를 활용한 암종류 예측하기 (TensorFlow 활용)\n",
    "## - 전체 데이터와 차원축소(dimension shrinkage) 기법 활용"
   ]
  },
  {
   "cell_type": "markdown",
   "metadata": {},
   "source": [
    "## 마이크로어레이와 관련된 문제점 \n",
    "\n",
    "* 마이크로어레이 기술이 발달하면서 대용량 유전체 데이터에 대한 분석이 유전체 및 생물정보학 연구에서 중요한 주제로 자리잡기 시작하였다.변수의 종류가 상대적으로 제한적이고 시료의 수가 많던 기존의 데이터 형태에서 변수의 양이 기하급수적으로 늘어난 고차원 데이터(high-dimensional data)의 형태로 바뀌면서 기존의 통계분석 방법론을 곧바로 적용하는 것이 어렵게 되었다. 그 결과, 마이크로어레이 데이터에 적합한 고유의 방법론들이 계속해서 등장하였다.\n",
    "\n",
    "* 마이크로어레이 데이터는 암진단에서 활용가능하다. 예를 들어, 회귀모형과 유전체 정보를 바탕으로 개인의 발암 여부를 예측할 수 있다. 이러한 회귀분석에서 나타나는 문제점은 변수의 수가 데이터의 수보다 많아 회귀계수의 추정이 불가능하다는 점이다."
   ]
  },
  {
   "cell_type": "markdown",
   "metadata": {},
   "source": [
    "### 주성분 분석(PCA: Principal Component Analyis)\n",
    "* 차원 축소의 대표적인 기법이다. 주성분 분석이란, 여러 개의 변수들로 이루어진 다변량 자료에 대하여 서로 독립적인 주(요) 성분을 도출하여 원래 변수들이 가지고 있는 변이(정보)를 축약하고, 다변량 변이의 구조를 분석하는 방법을 말한다. 통계분석과정에서 관련 변수가 많은 경우 효과적으로 변수의 수를 줄일 수 있으면 유용한 분석을 실시할 수 있다.\n",
    "* 주성분 분석은 원래 변수들을 선형결합의 형식으로 변환시켜 주성분이라고 부르는 서로 상관되어 있지 않은(독립적인) 인공적 변수들을 유도한다. 여기서 각 주성분들이 가지는 변이(정보)의 크기(주성분의 분산)을 기준으로 그 중요도의 순서를 생각할 때, 처음 몇 개의 주성분이 원래 자료가 가지고 있는 총 변이(총 정보)의 가능한 많은 부분을 보유하도록 함으로써 차원의 축약을 기할 수 있게 된다."
   ]
  },
  {
   "cell_type": "markdown",
   "metadata": {},
   "source": [
    "## 1. 데이터 준비 및 변수의 차원 축소"
   ]
  },
  {
   "cell_type": "code",
   "execution_count": 1,
   "metadata": {
    "collapsed": false
   },
   "outputs": [],
   "source": [
    "get_ipython().magic(u'matplotlib inline')\n",
    "from datetime import datetime\n",
    "import time\n",
    "import os\n",
    "from pprint import pprint\n",
    "import numpy as np\n",
    "import gzip, cPickle\n",
    "from glob import glob\n",
    "import timeit\n",
    "import sys\n",
    "import matplotlib.pyplot as plt \n",
    "from sklearn.decomposition import PCA\n",
    "import tensorflow as tf"
   ]
  },
  {
   "cell_type": "code",
   "execution_count": 2,
   "metadata": {
    "collapsed": false
   },
   "outputs": [
    {
     "data": {
      "text/plain": [
       "'/Users/joikyeon/Documents/BigBio/mRNA'"
      ]
     },
     "execution_count": 2,
     "metadata": {},
     "output_type": "execute_result"
    }
   ],
   "source": [
    "os.chdir('/Users/joikyeon/Documents/BigBio/mRNA')\n",
    "os.getcwd()"
   ]
  },
  {
   "cell_type": "code",
   "execution_count": 3,
   "metadata": {
    "collapsed": true
   },
   "outputs": [],
   "source": [
    "def dir_to_dataset(glob_files):\n",
    "    for file_count, file_name in enumerate(sorted(glob(glob_files)) ):\n",
    "        print(file_name)\n",
    "        pklPartial=gzip.open(file_name)\n",
    "        pklT= cPickle.load(pklPartial)\n",
    "        if file_count==0:\n",
    "            dataSet0=pklT[0]\n",
    "            dataSet1=pklT[1]\n",
    "        else:\n",
    "            dataSet0 = np.concatenate((dataSet0,pklT[0]))\n",
    "            dataSet1 = np.append(dataSet1,pklT[1])\n",
    "        pklPartial.close()\n",
    "        print len(dataSet0), len(dataSet1) \n",
    "\n",
    "    dataSet1=dataSet1-1\n",
    "    #print np.amax(dataSet1)\n",
    "    dataSet= (dataSet0, dataSet1)\n",
    "    return dataSet"
   ]
  },
  {
   "cell_type": "code",
   "execution_count": 4,
   "metadata": {
    "collapsed": false
   },
   "outputs": [
    {
     "name": "stdout",
     "output_type": "stream",
     "text": [
      "mrna_20160125-200855_type1_00.pkl.gz\n",
      "500 500\n",
      "mrna_20160125-200855_type1_01.pkl.gz\n",
      "1000 1000\n",
      "mrna_20160125-200855_type1_02.pkl.gz\n",
      "1500 1500\n",
      "mrna_20160125-200855_type1_03.pkl.gz\n",
      "2000 2000\n",
      "mrna_20160125-200855_type1_04.pkl.gz\n",
      "2500 2500\n",
      "mrna_20160125-200855_type1_05.pkl.gz\n",
      "3000 3000\n",
      "mrna_20160125-200855_type1_06.pkl.gz\n",
      "3500 3500\n",
      "mrna_20160125-200855_type1_07.pkl.gz\n",
      "4000 4000\n",
      "mrna_20160125-200855_type1_08.pkl.gz\n",
      "4500 4500\n",
      "mrna_20160125-200855_type1_09.pkl.gz\n",
      "5000 5000\n",
      "mrna_20160125-200855_type1_10.pkl.gz\n",
      "5500 5500\n",
      "mrna_20160125-200855_type1_11.pkl.gz\n",
      "6000 6000\n",
      "mrna_20160125-200855_type1_12.pkl.gz\n",
      "6500 6500\n",
      "mrna_20160125-200855_type1_13.pkl.gz\n",
      "7000 7000\n",
      "mrna_20160125-200855_type1_14.pkl.gz\n",
      "7500 7500\n",
      "mrna_20160125-200855_type1_15.pkl.gz\n",
      "7945 7945\n"
     ]
    }
   ],
   "source": [
    "# 위의 함수를 이용하여 train data를 merge함.\n",
    "dataSets = dir_to_dataset('*type1*')"
   ]
  },
  {
   "cell_type": "code",
   "execution_count": 5,
   "metadata": {
    "collapsed": true
   },
   "outputs": [],
   "source": [
    "# feature와 label을 구분\n",
    "X, Y = dataSets"
   ]
  },
  {
   "cell_type": "code",
   "execution_count": 6,
   "metadata": {
    "collapsed": false
   },
   "outputs": [
    {
     "name": "stdout",
     "output_type": "stream",
     "text": [
      "(7945, 20502)\n",
      "(7945,)\n"
     ]
    }
   ],
   "source": [
    "# feature와 label의 차원을 확인\n",
    "print X.shape ; print Y.shape"
   ]
  },
  {
   "cell_type": "code",
   "execution_count": 7,
   "metadata": {
    "collapsed": true
   },
   "outputs": [],
   "source": [
    "# 주성분 분석(PCA)을 통해 차원 축소 (2차원으로)\n",
    "pca=PCA(n_components=2)\n",
    "\n",
    "pX= pca.fit(X).transform(X)"
   ]
  },
  {
   "cell_type": "code",
   "execution_count": 14,
   "metadata": {
    "collapsed": false
   },
   "outputs": [
    {
     "name": "stdout",
     "output_type": "stream",
     "text": [
      "[ 0.34524007  0.07136942]\n"
     ]
    }
   ],
   "source": [
    "print(pca.explained_variance_ratio_)"
   ]
  },
  {
   "cell_type": "code",
   "execution_count": 11,
   "metadata": {
    "collapsed": false
   },
   "outputs": [
    {
     "data": {
      "image/png": "[encoded data removed]",
      "text/plain": [
       "<matplotlib.figure.Figure at 0x10f7df9d0>"
      ]
     },
     "metadata": {},
     "output_type": "display_data"
    }
   ],
   "source": [
    "number = 34\n",
    "cmap = plt.get_cmap('gnuplot')\n",
    "colors = [cmap(i) for i in np.linspace(0, 1, number)]\n",
    "\n",
    "\n",
    "plt.figure(figsize=(17,17))\n",
    "for i, c in enumerate(colors):\n",
    "    plt.scatter(pX[Y == i, 0], pX[Y == i, 1], c=c, label=i)\n",
    "plt.title('PCA of dataset')\n",
    "plt.legend()\n",
    "plt.show()"
   ]
  },
  {
   "cell_type": "markdown",
   "metadata": {
    "collapsed": true
   },
   "source": [
    "## 2. TensorFlow 활용하기"
   ]
  },
  {
   "cell_type": "markdown",
   "metadata": {},
   "source": [
    "## 1) 모형 훈련시키기"
   ]
  },
  {
   "cell_type": "code",
   "execution_count": 16,
   "metadata": {
    "collapsed": false
   },
   "outputs": [
    {
     "name": "stdout",
     "output_type": "stream",
     "text": [
      "(7945, 2)\n",
      "(7945, 20502)\n",
      "(7945,)\n"
     ]
    }
   ],
   "source": [
    "print pX.shape\n",
    "print X.shape\n",
    "print Y.shape"
   ]
  },
  {
   "cell_type": "code",
   "execution_count": 17,
   "metadata": {
    "collapsed": true
   },
   "outputs": [],
   "source": [
    "train_x=pX\n",
    "train_y=Y"
   ]
  },
  {
   "cell_type": "code",
   "execution_count": 18,
   "metadata": {
    "collapsed": false
   },
   "outputs": [
    {
     "name": "stdout",
     "output_type": "stream",
     "text": [
      "[[ 0.  0.  0. ...,  1.  0.  0.]\n",
      " [ 0.  0.  0. ...,  0.  0.  0.]\n",
      " [ 0.  0.  1. ...,  0.  0.  0.]\n",
      " ..., \n",
      " [ 0.  0.  0. ...,  1.  0.  0.]\n",
      " [ 0.  0.  0. ...,  0.  0.  0.]\n",
      " [ 0.  0.  0. ...,  0.  0.  1.]]\n"
     ]
    }
   ],
   "source": [
    "import pandas as pd\n",
    "print(pd.get_dummies(train_y).values)\n",
    "train_y_onehot=pd.get_dummies(train_y).values"
   ]
  },
  {
   "cell_type": "code",
   "execution_count": 19,
   "metadata": {
    "collapsed": false
   },
   "outputs": [
    {
     "data": {
      "text/plain": [
       "(7945, 34)"
      ]
     },
     "execution_count": 19,
     "metadata": {},
     "output_type": "execute_result"
    }
   ],
   "source": [
    "train_y_onehot.shape"
   ]
  },
  {
   "cell_type": "code",
   "execution_count": 20,
   "metadata": {
    "collapsed": false
   },
   "outputs": [
    {
     "data": {
      "text/plain": [
       "(7945, 1)"
      ]
     },
     "execution_count": 20,
     "metadata": {},
     "output_type": "execute_result"
    }
   ],
   "source": [
    "bias=np.ones((train_x.shape[0],1))\n",
    "bias.shape"
   ]
  },
  {
   "cell_type": "code",
   "execution_count": 22,
   "metadata": {
    "collapsed": false
   },
   "outputs": [
    {
     "name": "stdout",
     "output_type": "stream",
     "text": [
      "(7945, 3)\n"
     ]
    }
   ],
   "source": [
    "train_x_final=np.hstack((bias,train_x))\n",
    "print train_x_final.shape"
   ]
  },
  {
   "cell_type": "code",
   "execution_count": 36,
   "metadata": {
    "collapsed": false
   },
   "outputs": [],
   "source": [
    "x_data=train_x_final\n",
    "y_data=train_y_onehot"
   ]
  },
  {
   "cell_type": "code",
   "execution_count": 37,
   "metadata": {
    "collapsed": true
   },
   "outputs": [],
   "source": [
    "X=tf.placeholder(\"float\", [None,3]) \n",
    "Y=tf.placeholder(\"float\", [None,34])"
   ]
  },
  {
   "cell_type": "code",
   "execution_count": 38,
   "metadata": {
    "collapsed": true
   },
   "outputs": [],
   "source": [
    "# 모델의 가중치(weight) 설정\n",
    "W=tf.Variable(tf.zeros([3,34]))"
   ]
  },
  {
   "cell_type": "code",
   "execution_count": 42,
   "metadata": {
    "collapsed": false
   },
   "outputs": [],
   "source": [
    "# 모델 구축\n",
    "hypothesis=tf.nn.softmax(tf.matmul(X,W))"
   ]
  },
  {
   "cell_type": "code",
   "execution_count": 43,
   "metadata": {
    "collapsed": true
   },
   "outputs": [],
   "source": [
    "# learning rate\n",
    "learning_rate=0.01"
   ]
  },
  {
   "cell_type": "code",
   "execution_count": 44,
   "metadata": {
    "collapsed": false
   },
   "outputs": [],
   "source": [
    "# cross entropy cost function 세팅\n",
    "cost = tf.reduce_mean(-tf.reduce_sum(Y*tf.log(hypothesis), reduction_indices=[1]))"
   ]
  },
  {
   "cell_type": "code",
   "execution_count": 45,
   "metadata": {
    "collapsed": true
   },
   "outputs": [],
   "source": [
    "# Gradient Descent\n",
    "optimizer=tf.train.GradientDescentOptimizer(learning_rate).minimize(cost)"
   ]
  },
  {
   "cell_type": "code",
   "execution_count": 46,
   "metadata": {
    "collapsed": true
   },
   "outputs": [],
   "source": [
    "# 변수 초기화(Initialize variable)\n",
    "init=tf.initialize_all_variables()"
   ]
  },
  {
   "cell_type": "code",
   "execution_count": 49,
   "metadata": {
    "collapsed": false
   },
   "outputs": [
    {
     "name": "stdout",
     "output_type": "stream",
     "text": [
      "0 nan [[ -2.22358140e-04   8.97673599e-05   8.10935919e-04  -2.09909213e-05\n",
      "   -2.52559053e-04   1.87948623e-04  -2.51301739e-04  -1.20429431e-04\n",
      "   -2.26132790e-04  -1.40567747e-04   2.06840850e-04  -2.12289815e-04\n",
      "    2.47123215e-04  -8.40373923e-06  -1.39308788e-04   1.76619578e-04\n",
      "    8.09560879e-05   2.34534178e-04   1.95503992e-04  -2.17327412e-04\n",
      "   -2.09904938e-05  -1.31757333e-04  -1.29239255e-04   1.99280359e-04\n",
      "   -1.36791685e-04  -5.87526883e-05   1.25008315e-04   1.03612867e-04\n",
      "   -1.55671616e-04   2.11874692e-04  -1.85871031e-04   2.26985663e-04\n",
      "   -2.42493377e-04  -2.23613053e-04]\n",
      " [ -5.86065674e+00  -3.98786926e+01  -1.11381607e+02  -2.96854630e+01\n",
      "    6.57489395e+01  -5.03753738e+01  -4.13580275e+00  -1.89614906e+01\n",
      "   -7.23154449e+00  -1.40931654e+01  -6.15021095e+01  -7.77631283e+00\n",
      "   -4.20060349e+01  -2.27541027e+01  -1.66231575e+01  -4.52409134e+01\n",
      "    8.87143188e+02  -4.68428345e+01  -5.01945381e+01  -6.68804550e+00\n",
      "   -2.66233692e+01  -1.46739864e+01  -1.76184044e+01  -5.14938354e+01\n",
      "   -1.64324493e+01  -2.58624821e+01  -4.26956635e+01  -3.91206474e+01\n",
      "   -1.43176231e+01  -4.64982071e+01  -1.12244453e+01  -5.25545578e+01\n",
      "   -5.21650457e+00  -7.32703638e+00]\n",
      " [ -9.67770040e-01  -5.29990578e+00  -1.30165710e+01  -4.08804321e+00\n",
      "   -1.72025979e-01  -3.22713184e+00   7.97023296e-01   7.16090622e+01\n",
      "    3.19706768e-01  -2.01844311e+00  -1.65113773e+01  -7.07341194e-01\n",
      "   -5.32004070e+00  -2.77845550e+00  -4.07327935e-02  -5.26461029e+00\n",
      "   -8.21180344e-01   7.46842289e+00  -3.75809693e+00  -1.78935564e+00\n",
      "   -3.56290531e+00  -1.28689110e+00  -2.45185542e+00  -3.65842438e+00\n",
      "   -1.30071700e+00  -5.93928862e+00  -4.97053671e+00   2.88044662e+01\n",
      "   -1.45806742e+00  -1.11223364e+01  -1.17291558e+00  -4.41811705e+00\n",
      "   -8.61847818e-01  -1.01370311e+00]]\n",
      "200 nan [[ nan  nan  nan  nan  nan  nan  nan  nan  nan  nan  nan  nan  nan  nan\n",
      "   nan  nan  nan  nan  nan  nan  nan  nan  nan  nan  nan  nan  nan  nan\n",
      "   nan  nan  nan  nan  nan  nan]\n",
      " [ nan  nan  nan  nan  nan  nan  nan  nan  nan  nan  nan  nan  nan  nan\n",
      "   nan  nan  nan  nan  nan  nan  nan  nan  nan  nan  nan  nan  nan  nan\n",
      "   nan  nan  nan  nan  nan  nan]\n",
      " [ nan  nan  nan  nan  nan  nan  nan  nan  nan  nan  nan  nan  nan  nan\n",
      "   nan  nan  nan  nan  nan  nan  nan  nan  nan  nan  nan  nan  nan  nan\n",
      "   nan  nan  nan  nan  nan  nan]]\n",
      "400 nan [[ nan  nan  nan  nan  nan  nan  nan  nan  nan  nan  nan  nan  nan  nan\n",
      "   nan  nan  nan  nan  nan  nan  nan  nan  nan  nan  nan  nan  nan  nan\n",
      "   nan  nan  nan  nan  nan  nan]\n",
      " [ nan  nan  nan  nan  nan  nan  nan  nan  nan  nan  nan  nan  nan  nan\n",
      "   nan  nan  nan  nan  nan  nan  nan  nan  nan  nan  nan  nan  nan  nan\n",
      "   nan  nan  nan  nan  nan  nan]\n",
      " [ nan  nan  nan  nan  nan  nan  nan  nan  nan  nan  nan  nan  nan  nan\n",
      "   nan  nan  nan  nan  nan  nan  nan  nan  nan  nan  nan  nan  nan  nan\n",
      "   nan  nan  nan  nan  nan  nan]]\n",
      "600 nan [[ nan  nan  nan  nan  nan  nan  nan  nan  nan  nan  nan  nan  nan  nan\n",
      "   nan  nan  nan  nan  nan  nan  nan  nan  nan  nan  nan  nan  nan  nan\n",
      "   nan  nan  nan  nan  nan  nan]\n",
      " [ nan  nan  nan  nan  nan  nan  nan  nan  nan  nan  nan  nan  nan  nan\n",
      "   nan  nan  nan  nan  nan  nan  nan  nan  nan  nan  nan  nan  nan  nan\n",
      "   nan  nan  nan  nan  nan  nan]\n",
      " [ nan  nan  nan  nan  nan  nan  nan  nan  nan  nan  nan  nan  nan  nan\n",
      "   nan  nan  nan  nan  nan  nan  nan  nan  nan  nan  nan  nan  nan  nan\n",
      "   nan  nan  nan  nan  nan  nan]]\n",
      "800 nan [[ nan  nan  nan  nan  nan  nan  nan  nan  nan  nan  nan  nan  nan  nan\n",
      "   nan  nan  nan  nan  nan  nan  nan  nan  nan  nan  nan  nan  nan  nan\n",
      "   nan  nan  nan  nan  nan  nan]\n",
      " [ nan  nan  nan  nan  nan  nan  nan  nan  nan  nan  nan  nan  nan  nan\n",
      "   nan  nan  nan  nan  nan  nan  nan  nan  nan  nan  nan  nan  nan  nan\n",
      "   nan  nan  nan  nan  nan  nan]\n",
      " [ nan  nan  nan  nan  nan  nan  nan  nan  nan  nan  nan  nan  nan  nan\n",
      "   nan  nan  nan  nan  nan  nan  nan  nan  nan  nan  nan  nan  nan  nan\n",
      "   nan  nan  nan  nan  nan  nan]]\n",
      "1000 nan [[ nan  nan  nan  nan  nan  nan  nan  nan  nan  nan  nan  nan  nan  nan\n",
      "   nan  nan  nan  nan  nan  nan  nan  nan  nan  nan  nan  nan  nan  nan\n",
      "   nan  nan  nan  nan  nan  nan]\n",
      " [ nan  nan  nan  nan  nan  nan  nan  nan  nan  nan  nan  nan  nan  nan\n",
      "   nan  nan  nan  nan  nan  nan  nan  nan  nan  nan  nan  nan  nan  nan\n",
      "   nan  nan  nan  nan  nan  nan]\n",
      " [ nan  nan  nan  nan  nan  nan  nan  nan  nan  nan  nan  nan  nan  nan\n",
      "   nan  nan  nan  nan  nan  nan  nan  nan  nan  nan  nan  nan  nan  nan\n",
      "   nan  nan  nan  nan  nan  nan]]\n",
      "1200 nan [[ nan  nan  nan  nan  nan  nan  nan  nan  nan  nan  nan  nan  nan  nan\n",
      "   nan  nan  nan  nan  nan  nan  nan  nan  nan  nan  nan  nan  nan  nan\n",
      "   nan  nan  nan  nan  nan  nan]\n",
      " [ nan  nan  nan  nan  nan  nan  nan  nan  nan  nan  nan  nan  nan  nan\n",
      "   nan  nan  nan  nan  nan  nan  nan  nan  nan  nan  nan  nan  nan  nan\n",
      "   nan  nan  nan  nan  nan  nan]\n",
      " [ nan  nan  nan  nan  nan  nan  nan  nan  nan  nan  nan  nan  nan  nan\n",
      "   nan  nan  nan  nan  nan  nan  nan  nan  nan  nan  nan  nan  nan  nan\n",
      "   nan  nan  nan  nan  nan  nan]]\n",
      "1400 nan [[ nan  nan  nan  nan  nan  nan  nan  nan  nan  nan  nan  nan  nan  nan\n",
      "   nan  nan  nan  nan  nan  nan  nan  nan  nan  nan  nan  nan  nan  nan\n",
      "   nan  nan  nan  nan  nan  nan]\n",
      " [ nan  nan  nan  nan  nan  nan  nan  nan  nan  nan  nan  nan  nan  nan\n",
      "   nan  nan  nan  nan  nan  nan  nan  nan  nan  nan  nan  nan  nan  nan\n",
      "   nan  nan  nan  nan  nan  nan]\n",
      " [ nan  nan  nan  nan  nan  nan  nan  nan  nan  nan  nan  nan  nan  nan\n",
      "   nan  nan  nan  nan  nan  nan  nan  nan  nan  nan  nan  nan  nan  nan\n",
      "   nan  nan  nan  nan  nan  nan]]\n",
      "1600 nan [[ nan  nan  nan  nan  nan  nan  nan  nan  nan  nan  nan  nan  nan  nan\n",
      "   nan  nan  nan  nan  nan  nan  nan  nan  nan  nan  nan  nan  nan  nan\n",
      "   nan  nan  nan  nan  nan  nan]\n",
      " [ nan  nan  nan  nan  nan  nan  nan  nan  nan  nan  nan  nan  nan  nan\n",
      "   nan  nan  nan  nan  nan  nan  nan  nan  nan  nan  nan  nan  nan  nan\n",
      "   nan  nan  nan  nan  nan  nan]\n",
      " [ nan  nan  nan  nan  nan  nan  nan  nan  nan  nan  nan  nan  nan  nan\n",
      "   nan  nan  nan  nan  nan  nan  nan  nan  nan  nan  nan  nan  nan  nan\n",
      "   nan  nan  nan  nan  nan  nan]]\n",
      "1800 nan [[ nan  nan  nan  nan  nan  nan  nan  nan  nan  nan  nan  nan  nan  nan\n",
      "   nan  nan  nan  nan  nan  nan  nan  nan  nan  nan  nan  nan  nan  nan\n",
      "   nan  nan  nan  nan  nan  nan]\n",
      " [ nan  nan  nan  nan  nan  nan  nan  nan  nan  nan  nan  nan  nan  nan\n",
      "   nan  nan  nan  nan  nan  nan  nan  nan  nan  nan  nan  nan  nan  nan\n",
      "   nan  nan  nan  nan  nan  nan]\n",
      " [ nan  nan  nan  nan  nan  nan  nan  nan  nan  nan  nan  nan  nan  nan\n",
      "   nan  nan  nan  nan  nan  nan  nan  nan  nan  nan  nan  nan  nan  nan\n",
      "   nan  nan  nan  nan  nan  nan]]\n",
      "2000 nan [[ nan  nan  nan  nan  nan  nan  nan  nan  nan  nan  nan  nan  nan  nan\n",
      "   nan  nan  nan  nan  nan  nan  nan  nan  nan  nan  nan  nan  nan  nan\n",
      "   nan  nan  nan  nan  nan  nan]\n",
      " [ nan  nan  nan  nan  nan  nan  nan  nan  nan  nan  nan  nan  nan  nan\n",
      "   nan  nan  nan  nan  nan  nan  nan  nan  nan  nan  nan  nan  nan  nan\n",
      "   nan  nan  nan  nan  nan  nan]\n",
      " [ nan  nan  nan  nan  nan  nan  nan  nan  nan  nan  nan  nan  nan  nan\n",
      "   nan  nan  nan  nan  nan  nan  nan  nan  nan  nan  nan  nan  nan  nan\n",
      "   nan  nan  nan  nan  nan  nan]]\n"
     ]
    }
   ],
   "source": [
    "# Launch the Graph\n",
    "with tf.Session() as sess:\n",
    "    sess.run(init)\n",
    "    \n",
    "    for step in xrange(2001):\n",
    "        sess.run(optimizer, feed_dict={X:x_data, Y:y_data})\n",
    "        if step%200==0:\n",
    "            print step, sess.run(cost, feed_dict={X:x_data, Y:y_data}), sess.run(W)"
   ]
  },
  {
   "cell_type": "markdown",
   "metadata": {},
   "source": [
    "## 2)  모형의 평가"
   ]
  },
  {
   "cell_type": "code",
   "execution_count": 50,
   "metadata": {
    "collapsed": false
   },
   "outputs": [
    {
     "name": "stdout",
     "output_type": "stream",
     "text": [
      "mrna_20160125-200855_type3_00.pkl.gz\n",
      "500 500\n",
      "mrna_20160125-200855_type3_01.pkl.gz\n",
      "1000 1000\n",
      "mrna_20160125-200855_type3_02.pkl.gz\n",
      "1500 1500\n",
      "mrna_20160125-200855_type3_03.pkl.gz\n",
      "1679 1679\n"
     ]
    }
   ],
   "source": [
    "# 위의 함수를 이용하여 train data를 merge함.\n",
    "TestSets = dir_to_dataset('*type3*')"
   ]
  },
  {
   "cell_type": "markdown",
   "metadata": {},
   "source": [
    "### 이하는 동일..."
   ]
  },
  {
   "cell_type": "code",
   "execution_count": null,
   "metadata": {
    "collapsed": true
   },
   "outputs": [],
   "source": []
  }
 ],
 "metadata": {
  "kernelspec": {
   "display_name": "Python 2",
   "language": "python",
   "name": "python2"
  },
  "language_info": {
   "codemirror_mode": {
    "name": "ipython",
    "version": 2
   },
   "file_extension": ".py",
   "mimetype": "text/x-python",
   "name": "python",
   "nbconvert_exporter": "python",
   "pygments_lexer": "ipython2",
   "version": "2.7.11"
  }
 },
 "nbformat": 4,
 "nbformat_minor": 0
}
