{
 "cells": [
  {
   "cell_type": "markdown",
   "metadata": {},
   "source": [
    "# mRNA 데이터를 활용한 암종류 예측하기 (TensorFlow 활용)\n",
    "## - 일부 train data 활용, feature 전체 활용\n",
    "\n",
    "## 데이터의 이해 :\n",
    "\n",
    "* 마이크로어레이(micro-array)란? 기능 유전체학 연구에 혁명적인 발상의 전환을 가져온 기술이다. 기존의 방법이 개별 유전자 발현을 측정하는 반면, 마이크로어레이 기술은 한 번의 실험으로 수천에서 수만 개의 유전자 발현을 측정할 수 있다. 쉬나(Shena) 등은 1995년에 실험실에서 직접 제작한 마이크로어레이 기판을 이용하여  세포에서 발현하는 전사체(transcriptome)의 발현을 측정하였다. 이러한 유전자 발현 마이크로어레이(gene expression microarray)의 등장으로 한 세포에서 대용량의 유전체 정보를 손쉽게 측정할 수 있는 고효율 실험기법(high-throughput technolgy)이 발달하기 시작하였다. \n",
    "\n",
    "\n",
    "* 유전자료의 일반적인 형태는 'DNA 마이크로어레이 칩'으로 동시에 수천만 개의 유전자 양상을 관찰할 수 있는 방법이다. 마이크로어레이는 많은 자료를 가지고 질병 간 또는 유전자 간 어떤 특성을 찾아내어 방대한 서열정보를 바탕으로 유전체의 구조와 기능을 밝히는 필수적인 도구이다. 이것은 실제로 1cm 정도의 손톱만한 크기에 수천만의 자료가 집적되어 있어서 우리가 그것을 통해 질병 간, 유전자 간 정보 특성을 찾아낸다. DNA 분자를 고밀도로 배열해서 그것으로부터 얻은 메신저 RNA(mRNA)의 발현 정도를 관찰 실험을 통해서 찾아내는 것이 DNA 마이크로어레이 칩이다."
   ]
  },
  {
   "cell_type": "markdown",
   "metadata": {},
   "source": [
    "## 1. 데이터 준비"
   ]
  },
  {
   "cell_type": "code",
   "execution_count": 2,
   "metadata": {
    "collapsed": true
   },
   "outputs": [],
   "source": [
    "# 필요 모듈 로딩\n",
    "import os\n",
    "import tensorflow as tf\n",
    "import numpy as np\n",
    "import gzip, cPickle\n",
    "from glob import glob\n",
    "import matplotlib.pyplot as plt\n",
    "%matplotlib inline"
   ]
  },
  {
   "cell_type": "code",
   "execution_count": 3,
   "metadata": {
    "collapsed": false
   },
   "outputs": [
    {
     "data": {
      "text/plain": [
       "'/Users/joikyeon/Documents/BigBio/mRNA'"
      ]
     },
     "execution_count": 3,
     "metadata": {},
     "output_type": "execute_result"
    }
   ],
   "source": [
    "# 미리 데이터를 다운로드 받은 폴더를 작업폴더로 설정\n",
    "import os\n",
    "os.chdir('/Users/joikyeon/Documents/BigBio/mRNA')\n",
    "os.getcwd()"
   ]
  },
  {
   "cell_type": "code",
   "execution_count": 4,
   "metadata": {
    "collapsed": false
   },
   "outputs": [
    {
     "data": {
      "text/plain": [
       "['mrna_20160125-200855_type1_00.pkl.gz',\n",
       " 'mrna_20160125-200855_type1_01.pkl.gz',\n",
       " 'mrna_20160125-200855_type1_02.pkl.gz',\n",
       " 'mrna_20160125-200855_type1_03.pkl.gz',\n",
       " 'mrna_20160125-200855_type1_04.pkl.gz',\n",
       " 'mrna_20160125-200855_type1_05.pkl.gz',\n",
       " 'mrna_20160125-200855_type1_06.pkl.gz',\n",
       " 'mrna_20160125-200855_type1_07.pkl.gz',\n",
       " 'mrna_20160125-200855_type1_08.pkl.gz',\n",
       " 'mrna_20160125-200855_type1_09.pkl.gz',\n",
       " 'mrna_20160125-200855_type1_10.pkl.gz',\n",
       " 'mrna_20160125-200855_type1_11.pkl.gz',\n",
       " 'mrna_20160125-200855_type1_12.pkl.gz',\n",
       " 'mrna_20160125-200855_type1_13.pkl.gz',\n",
       " 'mrna_20160125-200855_type1_14.pkl.gz',\n",
       " 'mrna_20160125-200855_type1_15.pkl.gz',\n",
       " 'mrna_20160125-200855_type2_00.pkl.gz',\n",
       " 'mrna_20160125-200855_type2_01.pkl.gz',\n",
       " 'mrna_20160125-200855_type2_02.pkl.gz',\n",
       " 'mrna_20160125-200855_type2_03.pkl.gz',\n",
       " 'mrna_20160125-200855_type3_00.pkl.gz',\n",
       " 'mrna_20160125-200855_type3_01.pkl.gz',\n",
       " 'mrna_20160125-200855_type3_02.pkl.gz',\n",
       " 'mrna_20160125-200855_type3_03.pkl.gz']"
      ]
     },
     "execution_count": 4,
     "metadata": {},
     "output_type": "execute_result"
    }
   ],
   "source": [
    "# 파일 목록을 출력 (glob모듈 활용)\n",
    "\n",
    "# 파일종류는 아래와 같음\n",
    "# - Training set: *type1*\n",
    "# - Validation set: *type2*\n",
    "# - Test set : *type3*\n",
    "\n",
    "glob('*.*')"
   ]
  },
  {
   "cell_type": "markdown",
   "metadata": {},
   "source": [
    "## 2. 첫번째 training data으로 데이터 탐색"
   ]
  },
  {
   "cell_type": "code",
   "execution_count": 5,
   "metadata": {
    "collapsed": false
   },
   "outputs": [
    {
     "name": "stdout",
     "output_type": "stream",
     "text": [
      "(array([[  6.51879000e+01,   0.00000000e+00,   8.17000000e-01, ...,\n",
      "          1.80718950e+03,   1.55229000e+01,   0.00000000e+00],\n",
      "       [  1.10396900e+02,   0.00000000e+00,   2.09220000e+00, ...,\n",
      "          9.63975200e+02,   5.51814000e+01,   0.00000000e+00],\n",
      "       [  3.10196000e+01,   0.00000000e+00,   1.24340000e+00, ...,\n",
      "          1.05564190e+03,   3.53745700e+02,   0.00000000e+00],\n",
      "       ..., \n",
      "       [  1.69565000e+01,   2.79194000e+02,   0.00000000e+00, ...,\n",
      "          4.99610400e+02,   8.46040000e+00,   0.00000000e+00],\n",
      "       [  9.30870000e+01,   0.00000000e+00,   4.56200000e-01, ...,\n",
      "          1.01174590e+03,   1.36846000e+01,   0.00000000e+00],\n",
      "       [  3.94132000e+01,   0.00000000e+00,   6.17700000e-01, ...,\n",
      "          1.30667080e+03,   9.88260000e+00,   0.00000000e+00]]), array([32, 30,  3,  3, 32, 26, 11,  6,  3,  4, 18, 18, 14, 20, 13, 28, 27,\n",
      "        3, 21, 18, 30, 30,  3, 14, 18,  3, 31, 11, 24,  3, 19, 30, 13, 24,\n",
      "       24,  5,  3, 16,  6, 30,  5, 18, 23,  3, 13, 12, 11,  4, 18,  2, 10,\n",
      "       15, 24, 23,  8, 14, 15, 34, 19, 18, 13, 16, 19, 32, 19, 24,  6, 19,\n",
      "       30, 27, 24, 24, 23,  8,  3,  4,  2,  3,  3, 26, 23, 13, 18, 27, 25,\n",
      "        3,  3, 19, 18, 25, 24, 24, 23,  3, 31, 19, 11, 32, 29,  3, 17, 10,\n",
      "       27,  6, 25,  4,  2,  2, 24, 24, 17, 27, 18, 13, 27, 30, 27, 21, 27,\n",
      "       15, 29, 25, 19, 11, 16, 19, 26, 11, 21, 24,  3, 32,  5,  2,  3, 21,\n",
      "       19,  3, 21, 30, 13, 13, 19, 17,  4, 22,  6, 28, 30, 10,  6, 11, 17,\n",
      "       20, 32, 29,  7, 10, 17,  4,  3, 11, 16,  3, 33, 28, 21, 14, 21,  3,\n",
      "        3,  3, 32, 16,  3, 30, 10, 32, 28,  3, 21,  3, 13, 16, 16, 25,  6,\n",
      "       14, 16, 15, 32, 18, 11, 17, 16, 24, 26,  3,  6, 27, 23,  4, 14, 17,\n",
      "       15, 11, 28,  2, 32,  6, 24, 26,  2,  9, 28, 28, 13, 11, 10, 26, 12,\n",
      "        3, 24,  4, 17, 18, 27, 17, 13,  3, 26,  3, 16, 13, 24, 11, 30, 23,\n",
      "       21, 16,  3, 32, 16, 13, 32,  3, 30, 18, 17, 32,  3, 30, 19,  3, 25,\n",
      "       24, 16, 26,  3,  3, 33, 13, 13, 23,  6, 23, 30, 11, 23, 17,  3, 23,\n",
      "       19, 29, 30,  3, 24,  8, 16, 19, 24,  3, 15,  3, 30, 22, 17, 34, 24,\n",
      "        2, 10, 27, 25, 17, 18, 13, 13, 30,  3, 17,  3, 23, 29, 14,  3, 18,\n",
      "       13, 14, 27, 11, 29,  3, 23,  3,  6, 19, 13, 30, 24,  3, 27, 13, 18,\n",
      "       18, 13,  3, 32, 13,  3, 18,  2, 32, 12, 11, 30, 13, 30, 19, 16, 33,\n",
      "       24, 27, 25, 19, 17, 15, 20, 13,  3, 16, 13, 18, 18, 14,  3, 19,  8,\n",
      "       17, 19, 30, 34, 27,  3, 26, 18, 32, 24,  2, 11, 28, 28,  3,  8, 24,\n",
      "       28, 16, 19, 32, 32, 13, 29,  3,  2,  9, 30, 24, 18,  3, 32, 17,  6,\n",
      "        2, 30, 28, 32, 10,  6, 24, 14, 32, 16, 28,  4, 16, 11, 13, 30, 27,\n",
      "       12, 28, 23, 21, 25, 18,  6, 23, 24, 24,  4, 14, 28, 19,  3,  3, 32,\n",
      "       14, 13, 19, 19,  8, 17, 26,  6,  8, 27,  3,  3, 32,  8,  7, 30,  4,\n",
      "       32,  5,  3, 13, 30, 20, 11,  6, 16, 16, 32, 30,  4, 32, 25, 21, 16,\n",
      "       21, 13,  3, 11, 15, 22,  2, 25,  3, 28, 32,  3, 13, 27,  3, 21, 24,\n",
      "        6, 25, 30, 18, 13, 30, 19, 26, 30, 21, 27, 27, 17, 17, 24, 24, 18,\n",
      "        9, 23,  1, 25,  6, 32,  3]))\n"
     ]
    }
   ],
   "source": [
    "# 우선 첫번째 training set 파일만 열어 봄\n",
    "f=gzip.open('mrna_20160125-200855_type1_00.pkl.gz', 'rb') # gzip모듈로 압축 풀기\n",
    "train00=cPickle.load(f)   # cPickle모듈로 데이터 읽어오기\n",
    "f.close()\n",
    "\n",
    "print(train00)"
   ]
  },
  {
   "cell_type": "code",
   "execution_count": 6,
   "metadata": {
    "collapsed": false
   },
   "outputs": [
    {
     "data": {
      "text/plain": [
       "2"
      ]
     },
     "execution_count": 6,
     "metadata": {},
     "output_type": "execute_result"
    }
   ],
   "source": [
    "len(train00)"
   ]
  },
  {
   "cell_type": "code",
   "execution_count": 7,
   "metadata": {
    "collapsed": false
   },
   "outputs": [
    {
     "name": "stdout",
     "output_type": "stream",
     "text": [
      "(500, 20502)\n",
      "(500,)\n"
     ]
    }
   ],
   "source": [
    "# x(feature)와 y데이터(label)로 구분\n",
    "train0_x=train00[0] # feature : 유전자별 발현량(gene expressioon)\n",
    "train0_y=train00[1]-1 # 라벨변수(타겟변수) : 암의 종류(type of cancer)를 나타냄\n",
    "\n",
    "print(train0_x.shape)\n",
    "print(train0_y.shape)"
   ]
  },
  {
   "cell_type": "code",
   "execution_count": 8,
   "metadata": {
    "collapsed": false
   },
   "outputs": [
    {
     "name": "stdout",
     "output_type": "stream",
     "text": [
      "type of cancer: [ 0  1  2  3  4  5  6  7  8  9 10 11 12 13 14 15 16 17 18 19 20 21 22 23 24\n",
      " 25 26 27 28 29 30 31 32 33]\n"
     ]
    },
    {
     "data": {
      "image/png": "[encoded data removed]",
      "text/plain": [
       "<matplotlib.figure.Figure at 0x10e6928d0>"
      ]
     },
     "metadata": {},
     "output_type": "display_data"
    }
   ],
   "source": [
    "print \"type of cancer:\", np.unique(train0_y)\n",
    "plt.hist(train0_y)\n",
    "plt.show()"
   ]
  },
  {
   "cell_type": "code",
   "execution_count": 95,
   "metadata": {
    "collapsed": false
   },
   "outputs": [
    {
     "data": {
      "image/png": "[encoded data removed]",
      "text/plain": [
       "<matplotlib.figure.Figure at 0x110906210>"
      ]
     },
     "metadata": {},
     "output_type": "display_data"
    }
   ],
   "source": [
    "# 암 종류별 feaure들의 분포\n",
    "plt.plot(train0_y, train0_x, 'ro')\n",
    "plt.xlabel('type of cancer')\n",
    "plt.ylabel('gene expression')\n",
    "plt.show()"
   ]
  },
  {
   "cell_type": "markdown",
   "metadata": {},
   "source": [
    "## 3. Tensorflow 활용하기\n",
    "## 1) 모형 훈련시키기 (by training set)"
   ]
  },
  {
   "cell_type": "markdown",
   "metadata": {},
   "source": [
    "### 현재 상황은 MNIST 숫자인식 문제와 유사!!!\n",
    "> **참고자료: **  (https://www.tensorflow.org/versions/r0.8/tutorials/mnist/beginners/index.html#softmax-regressions)\n",
    " "
   ]
  },
  {
   "cell_type": "code",
   "execution_count": 9,
   "metadata": {
    "collapsed": false
   },
   "outputs": [
    {
     "name": "stdout",
     "output_type": "stream",
     "text": [
      "[[ 0.  0.  0. ...,  1.  0.  0.]\n",
      " [ 0.  0.  0. ...,  0.  0.  0.]\n",
      " [ 0.  0.  1. ...,  0.  0.  0.]\n",
      " ..., \n",
      " [ 0.  0.  0. ...,  0.  0.  0.]\n",
      " [ 0.  0.  0. ...,  1.  0.  0.]\n",
      " [ 0.  0.  1. ...,  0.  0.  0.]]\n"
     ]
    }
   ],
   "source": [
    "# label 변수의 one-hot encoding\n",
    "# pandas 모듈의 get_dummies() 함수 이용 <- 혹시 다른 함수가?\n",
    "\n",
    "import pandas as pd\n",
    "print(pd.get_dummies(train0_y).values)\n",
    "train0_y_onehot=pd.get_dummies(train0_y).values"
   ]
  },
  {
   "cell_type": "code",
   "execution_count": 10,
   "metadata": {
    "collapsed": false
   },
   "outputs": [
    {
     "data": {
      "text/plain": [
       "(500, 34)"
      ]
     },
     "execution_count": 10,
     "metadata": {},
     "output_type": "execute_result"
    }
   ],
   "source": [
    "train0_y_onehot.shape"
   ]
  },
  {
   "cell_type": "code",
   "execution_count": 11,
   "metadata": {
    "collapsed": false
   },
   "outputs": [],
   "source": [
    "bias=np.ones((train0_x.shape[0],1))"
   ]
  },
  {
   "cell_type": "code",
   "execution_count": 12,
   "metadata": {
    "collapsed": false
   },
   "outputs": [
    {
     "data": {
      "text/plain": [
       "(500, 1)"
      ]
     },
     "execution_count": 12,
     "metadata": {},
     "output_type": "execute_result"
    }
   ],
   "source": [
    "bias.shape"
   ]
  },
  {
   "cell_type": "code",
   "execution_count": 13,
   "metadata": {
    "collapsed": false
   },
   "outputs": [],
   "source": [
    "train0_x_final=np.hstack((bias,train0_x))   "
   ]
  },
  {
   "cell_type": "code",
   "execution_count": 14,
   "metadata": {
    "collapsed": false
   },
   "outputs": [
    {
     "name": "stdout",
     "output_type": "stream",
     "text": [
      "(500, 20503)\n"
     ]
    }
   ],
   "source": [
    "print train0_x_final.shape"
   ]
  },
  {
   "cell_type": "code",
   "execution_count": 15,
   "metadata": {
    "collapsed": false
   },
   "outputs": [
    {
     "name": "stdout",
     "output_type": "stream",
     "text": [
      "[[  1.00000000e+00   6.51879000e+01   0.00000000e+00 ...,   1.80718950e+03\n",
      "    1.55229000e+01   0.00000000e+00]\n",
      " [  1.00000000e+00   1.10396900e+02   0.00000000e+00 ...,   9.63975200e+02\n",
      "    5.51814000e+01   0.00000000e+00]\n",
      " [  1.00000000e+00   3.10196000e+01   0.00000000e+00 ...,   1.05564190e+03\n",
      "    3.53745700e+02   0.00000000e+00]\n",
      " ..., \n",
      " [  1.00000000e+00   1.69565000e+01   2.79194000e+02 ...,   4.99610400e+02\n",
      "    8.46040000e+00   0.00000000e+00]\n",
      " [  1.00000000e+00   9.30870000e+01   0.00000000e+00 ...,   1.01174590e+03\n",
      "    1.36846000e+01   0.00000000e+00]\n",
      " [  1.00000000e+00   3.94132000e+01   0.00000000e+00 ...,   1.30667080e+03\n",
      "    9.88260000e+00   0.00000000e+00]]\n"
     ]
    }
   ],
   "source": [
    "print train0_x_final"
   ]
  },
  {
   "cell_type": "code",
   "execution_count": 16,
   "metadata": {
    "collapsed": false
   },
   "outputs": [],
   "source": [
    "x_data=train0_x_final\n",
    "y_data=train0_y_onehot"
   ]
  },
  {
   "cell_type": "code",
   "execution_count": 17,
   "metadata": {
    "collapsed": false
   },
   "outputs": [
    {
     "name": "stdout",
     "output_type": "stream",
     "text": [
      "(500, 20503)\n",
      "(500, 34)\n"
     ]
    }
   ],
   "source": [
    "print x_data.shape ; print y_data.shape"
   ]
  },
  {
   "cell_type": "code",
   "execution_count": 18,
   "metadata": {
    "collapsed": false
   },
   "outputs": [],
   "source": [
    "# tf Graph Input\n",
    "X=tf.placeholder(\"float\", [None,20503]) \n",
    "Y=tf.placeholder(\"float\", [None,34])"
   ]
  },
  {
   "cell_type": "code",
   "execution_count": 19,
   "metadata": {
    "collapsed": true
   },
   "outputs": [],
   "source": [
    "# 모델의 가중치(weight) 설정\n",
    "W=tf.Variable(tf.zeros([20503,34]))"
   ]
  },
  {
   "cell_type": "code",
   "execution_count": 20,
   "metadata": {
    "collapsed": true
   },
   "outputs": [],
   "source": [
    "# 모델 구축\n",
    "hypothesis=tf.nn.softmax(tf.matmul(X,W))  # softmax 함수 사용. 이 때, X와 W의 순서에 주의할 것!!! "
   ]
  },
  {
   "cell_type": "code",
   "execution_count": 21,
   "metadata": {
    "collapsed": true
   },
   "outputs": [],
   "source": [
    "# learning rate\n",
    "learning_rate=0.01"
   ]
  },
  {
   "cell_type": "code",
   "execution_count": 22,
   "metadata": {
    "collapsed": false
   },
   "outputs": [],
   "source": [
    "# cross entropy cost function 세팅\n",
    "cost = tf.reduce_mean(-tf.reduce_sum(Y*tf.log(hypothesis), reduction_indices=[1]))"
   ]
  },
  {
   "cell_type": "code",
   "execution_count": 23,
   "metadata": {
    "collapsed": true
   },
   "outputs": [],
   "source": [
    "# Gradient Descent\n",
    "optimizer=tf.train.GradientDescentOptimizer(learning_rate).minimize(cost)"
   ]
  },
  {
   "cell_type": "code",
   "execution_count": 24,
   "metadata": {
    "collapsed": true
   },
   "outputs": [],
   "source": [
    "# 변수 초기화(Initialize variable)\n",
    "init=tf.initialize_all_variables()"
   ]
  },
  {
   "cell_type": "code",
   "execution_count": 25,
   "metadata": {
    "collapsed": false
   },
   "outputs": [
    {
     "name": "stdout",
     "output_type": "stream",
     "text": [
      "0 nan [[ -2.74117745e-04  -3.41175619e-05   1.00588333e-03 ...,   2.65882321e-04\n",
      "   -2.34117659e-04  -2.34117615e-04]\n",
      " [ -4.02310014e-01  -3.76395643e-01  -1.21127144e-01 ...,  -3.38238209e-01\n",
      "   -3.61247659e-01  -3.83493841e-01]\n",
      " [ -2.83396095e-02  -2.82128714e-02  -2.81442422e-02 ...,  -2.82366946e-02\n",
      "   -2.83396076e-02  -2.83396076e-02]\n",
      " ..., \n",
      " [ -2.18175992e-01   2.02028193e-02   9.52400625e-01 ...,   1.69208258e-01\n",
      "   -1.91159248e-01  -1.85680658e-01]\n",
      " [ -3.93528640e-02  -3.26615199e-02   2.52928585e-01 ...,  -2.84527559e-02\n",
      "   -4.70195524e-02  -4.40529585e-02]\n",
      " [ -8.26291041e-04  -7.90165039e-04  -7.72064959e-04 ...,  -8.27475102e-04\n",
      "   -8.54407088e-04  -8.54407088e-04]]\n",
      "200 nan [[ nan  nan  nan ...,  nan  nan  nan]\n",
      " [ nan  nan  nan ...,  nan  nan  nan]\n",
      " [ nan  nan  nan ...,  nan  nan  nan]\n",
      " ..., \n",
      " [ nan  nan  nan ...,  nan  nan  nan]\n",
      " [ nan  nan  nan ...,  nan  nan  nan]\n",
      " [ nan  nan  nan ...,  nan  nan  nan]]\n",
      "400 nan [[ nan  nan  nan ...,  nan  nan  nan]\n",
      " [ nan  nan  nan ...,  nan  nan  nan]\n",
      " [ nan  nan  nan ...,  nan  nan  nan]\n",
      " ..., \n",
      " [ nan  nan  nan ...,  nan  nan  nan]\n",
      " [ nan  nan  nan ...,  nan  nan  nan]\n",
      " [ nan  nan  nan ...,  nan  nan  nan]]\n",
      "600 nan [[ nan  nan  nan ...,  nan  nan  nan]\n",
      " [ nan  nan  nan ...,  nan  nan  nan]\n",
      " [ nan  nan  nan ...,  nan  nan  nan]\n",
      " ..., \n",
      " [ nan  nan  nan ...,  nan  nan  nan]\n",
      " [ nan  nan  nan ...,  nan  nan  nan]\n",
      " [ nan  nan  nan ...,  nan  nan  nan]]\n",
      "800 nan [[ nan  nan  nan ...,  nan  nan  nan]\n",
      " [ nan  nan  nan ...,  nan  nan  nan]\n",
      " [ nan  nan  nan ...,  nan  nan  nan]\n",
      " ..., \n",
      " [ nan  nan  nan ...,  nan  nan  nan]\n",
      " [ nan  nan  nan ...,  nan  nan  nan]\n",
      " [ nan  nan  nan ...,  nan  nan  nan]]\n",
      "1000 nan [[ nan  nan  nan ...,  nan  nan  nan]\n",
      " [ nan  nan  nan ...,  nan  nan  nan]\n",
      " [ nan  nan  nan ...,  nan  nan  nan]\n",
      " ..., \n",
      " [ nan  nan  nan ...,  nan  nan  nan]\n",
      " [ nan  nan  nan ...,  nan  nan  nan]\n",
      " [ nan  nan  nan ...,  nan  nan  nan]]\n",
      "1200 nan [[ nan  nan  nan ...,  nan  nan  nan]\n",
      " [ nan  nan  nan ...,  nan  nan  nan]\n",
      " [ nan  nan  nan ...,  nan  nan  nan]\n",
      " ..., \n",
      " [ nan  nan  nan ...,  nan  nan  nan]\n",
      " [ nan  nan  nan ...,  nan  nan  nan]\n",
      " [ nan  nan  nan ...,  nan  nan  nan]]\n",
      "1400 nan [[ nan  nan  nan ...,  nan  nan  nan]\n",
      " [ nan  nan  nan ...,  nan  nan  nan]\n",
      " [ nan  nan  nan ...,  nan  nan  nan]\n",
      " ..., \n",
      " [ nan  nan  nan ...,  nan  nan  nan]\n",
      " [ nan  nan  nan ...,  nan  nan  nan]\n",
      " [ nan  nan  nan ...,  nan  nan  nan]]\n",
      "1600 nan [[ nan  nan  nan ...,  nan  nan  nan]\n",
      " [ nan  nan  nan ...,  nan  nan  nan]\n",
      " [ nan  nan  nan ...,  nan  nan  nan]\n",
      " ..., \n",
      " [ nan  nan  nan ...,  nan  nan  nan]\n",
      " [ nan  nan  nan ...,  nan  nan  nan]\n",
      " [ nan  nan  nan ...,  nan  nan  nan]]\n",
      "1800 nan [[ nan  nan  nan ...,  nan  nan  nan]\n",
      " [ nan  nan  nan ...,  nan  nan  nan]\n",
      " [ nan  nan  nan ...,  nan  nan  nan]\n",
      " ..., \n",
      " [ nan  nan  nan ...,  nan  nan  nan]\n",
      " [ nan  nan  nan ...,  nan  nan  nan]\n",
      " [ nan  nan  nan ...,  nan  nan  nan]]\n",
      "2000 nan [[ nan  nan  nan ...,  nan  nan  nan]\n",
      " [ nan  nan  nan ...,  nan  nan  nan]\n",
      " [ nan  nan  nan ...,  nan  nan  nan]\n",
      " ..., \n",
      " [ nan  nan  nan ...,  nan  nan  nan]\n",
      " [ nan  nan  nan ...,  nan  nan  nan]\n",
      " [ nan  nan  nan ...,  nan  nan  nan]]\n"
     ]
    }
   ],
   "source": [
    "# Launch the Graph\n",
    "sess=tf.Session()\n",
    "sess.run(init)\n",
    "    \n",
    "for step in xrange(2001):\n",
    "    sess.run(optimizer, feed_dict={X:x_data, Y:y_data})\n",
    "    if step%200==0:\n",
    "            print step, sess.run(cost, feed_dict={X:x_data, Y:y_data}), sess.run(W)"
   ]
  },
  {
   "cell_type": "markdown",
   "metadata": {
    "collapsed": true
   },
   "source": [
    "## 2) 모형의 평가(by test set)"
   ]
  },
  {
   "cell_type": "code",
   "execution_count": 26,
   "metadata": {
    "collapsed": false
   },
   "outputs": [
    {
     "name": "stdout",
     "output_type": "stream",
     "text": [
      "(array([[  6.51879000e+01,   0.00000000e+00,   8.17000000e-01, ...,\n",
      "          1.80718950e+03,   1.55229000e+01,   0.00000000e+00],\n",
      "       [  3.17549700e+02,   0.00000000e+00,   0.00000000e+00, ...,\n",
      "          1.11243050e+03,   3.29469400e+02,   0.00000000e+00],\n",
      "       [  3.78209000e+01,   4.70600000e-01,   0.00000000e+00, ...,\n",
      "          1.08483350e+03,   5.64770000e+00,   0.00000000e+00],\n",
      "       ..., \n",
      "       [  1.17023600e+02,   2.01508200e+02,   0.00000000e+00, ...,\n",
      "          4.61298800e+02,   3.78215000e+01,   6.20000000e-01],\n",
      "       [  7.55637000e+01,   0.00000000e+00,   8.74400000e-01, ...,\n",
      "          1.02951250e+03,   6.83232500e+02,   0.00000000e+00],\n",
      "       [  5.25580000e+01,   1.11830000e+00,   0.00000000e+00, ...,\n",
      "          3.95862500e+02,   1.56556000e+01,   5.59100000e-01]]), array([ 9, 34, 19,  6,  4,  9,  9, 14, 15, 13,  3, 32, 15, 18, 16, 28,  4,\n",
      "       11, 27,  3,  2, 27, 32, 16, 30, 24, 14, 19, 19,  3, 12,  8, 14, 18,\n",
      "       28, 19, 18, 29, 10, 16, 17, 30, 24,  3, 24, 11, 33,  3, 17,  3, 21,\n",
      "       30,  4, 27, 13, 19, 10, 11,  2, 14, 32, 29, 17, 14, 10, 18, 29,  3,\n",
      "        2, 28, 24,  6, 28,  4, 19, 32, 24, 18, 16, 17, 25,  8,  8, 27, 18,\n",
      "        3, 14, 32, 11,  6,  3, 11, 13,  3, 19, 11, 11, 30,  3, 22, 21,  3,\n",
      "       30, 25, 32, 11,  8, 32,  2, 21, 12, 16, 24, 32, 14, 16, 18, 25, 16,\n",
      "       14, 32, 11, 24, 26,  3, 19, 20, 21,  3,  3,  3,  8, 13, 32, 16,  2,\n",
      "       24, 19, 21, 11, 14, 18, 27, 27,  6,  4, 16, 19, 26, 24, 11, 32, 19,\n",
      "       19, 23, 14, 11, 26, 27,  6, 28,  6, 17, 24, 31, 11, 17,  4, 24, 21,\n",
      "        3, 11, 14,  3,  3, 11, 13, 26, 27, 21,  3, 19, 17, 30, 12,  3, 34,\n",
      "       27, 27, 26, 32, 32, 32, 13, 30,  3,  3, 21, 30,  3, 16, 22,  8, 23,\n",
      "       21, 29, 15, 11, 11, 10,  2, 17,  6, 11, 21, 27, 17, 14,  3, 11, 13,\n",
      "       34, 22,  1, 24, 19,  2, 11, 24,  3,  3, 28, 18,  4, 16, 18, 17, 17,\n",
      "       18, 16, 15, 17, 30, 25, 20, 17,  3,  3, 19, 28, 25,  2, 26, 28,  3,\n",
      "       26, 17,  3, 21, 18, 27, 19, 31, 16, 16, 18, 32,  4, 19, 11, 18, 16,\n",
      "        3, 16, 27, 25,  8, 13,  3, 28, 11, 25, 28, 24,  6, 30, 16, 13, 19,\n",
      "       23, 32, 32, 28, 26, 30,  3,  2,  3, 16,  6, 18, 10, 32, 28,  6, 24,\n",
      "       21, 24, 23, 11,  3, 10, 24,  6,  3, 23,  3, 14, 14, 32, 11, 30,  2,\n",
      "        6, 30,  2,  6, 16, 28, 18, 28,  6, 19, 32, 26,  4, 18,  3,  3, 32,\n",
      "        3, 13, 17,  4, 14, 24, 14, 24, 24,  3, 18, 32,  3, 26,  3, 12, 27,\n",
      "       17, 17, 11,  6, 21,  3, 13, 30, 24,  6, 30,  8, 19, 31,  3,  4,  4,\n",
      "       11, 24, 18, 26, 24,  4,  3, 13, 13,  2, 19, 21,  6, 14,  3,  6,  2,\n",
      "        3, 27, 11, 24,  3, 32,  8, 25, 24,  2,  6,  8,  3, 25, 16, 24, 22,\n",
      "        3,  6, 30, 13,  3, 23,  6, 24,  3, 19, 17, 32, 17, 11,  2, 22, 13,\n",
      "       32, 30, 23, 23, 19,  3, 19,  2,  3,  3, 17,  3, 23, 19,  4, 15, 17,\n",
      "       18, 13, 18,  3, 29, 18, 12, 18, 13, 29, 11, 17, 33, 34, 21, 32, 14,\n",
      "       18, 11, 26,  3, 18, 18, 32, 15, 13,  3, 23, 31, 32, 32, 30, 10,  4,\n",
      "       31,  3, 22, 24, 30,  2, 30, 13, 30, 13, 30, 16, 18, 21, 28, 11,  2,\n",
      "       28, 13,  4, 18, 28,  3,  2]))\n"
     ]
    }
   ],
   "source": [
    "# 첫번째 test set만 열어 봄\n",
    "f=gzip.open('mrna_20160125-200855_type3_00.pkl.gz', 'rb') # gzip모듈로 압축 풀기\n",
    "test00=cPickle.load(f)   # cPickle모듈로 데이터 읽어오기\n",
    "f.close()\n",
    "\n",
    "print(test00)"
   ]
  },
  {
   "cell_type": "code",
   "execution_count": 27,
   "metadata": {
    "collapsed": false
   },
   "outputs": [
    {
     "name": "stdout",
     "output_type": "stream",
     "text": [
      "(500, 20502)\n",
      "(500,)\n"
     ]
    }
   ],
   "source": [
    "test0_x=test00[0] # feature : 유전자별 발현량(gene expressioon)\n",
    "test0_y=test00[1]-1 # 라벨변수(타겟변수) : 암의 종류(type of cancer)를 나타냄\n",
    "\n",
    "print(test0_x.shape)\n",
    "print(test0_y.shape)"
   ]
  },
  {
   "cell_type": "code",
   "execution_count": 28,
   "metadata": {
    "collapsed": false
   },
   "outputs": [
    {
     "name": "stdout",
     "output_type": "stream",
     "text": [
      "(500, 20503)\n"
     ]
    }
   ],
   "source": [
    "bias=np.ones((test0_x.shape[0],1))\n",
    "test0_x_final=np.hstack((bias,test0_x)) \n",
    "print test0_x_final.shape"
   ]
  },
  {
   "cell_type": "code",
   "execution_count": 29,
   "metadata": {
    "collapsed": false
   },
   "outputs": [
    {
     "name": "stdout",
     "output_type": "stream",
     "text": [
      "[[ 0.  0.  0. ...,  0.  0.  0.]\n",
      " [ 0.  0.  0. ...,  0.  0.  1.]\n",
      " [ 0.  0.  0. ...,  0.  0.  0.]\n",
      " ..., \n",
      " [ 0.  0.  0. ...,  0.  0.  0.]\n",
      " [ 0.  0.  1. ...,  0.  0.  0.]\n",
      " [ 0.  1.  0. ...,  0.  0.  0.]]\n"
     ]
    }
   ],
   "source": [
    "print(pd.get_dummies(test0_y).values)\n",
    "test0_y_onehot=pd.get_dummies(test0_y).values"
   ]
  },
  {
   "cell_type": "code",
   "execution_count": 30,
   "metadata": {
    "collapsed": true
   },
   "outputs": [],
   "source": [
    "x_test=test0_x_final\n",
    "y_test=test0_y_onehot"
   ]
  },
  {
   "cell_type": "code",
   "execution_count": 31,
   "metadata": {
    "collapsed": false
   },
   "outputs": [
    {
     "name": "stdout",
     "output_type": "stream",
     "text": [
      "---------------- test  ------------------\n"
     ]
    },
    {
     "ename": "ValueError",
     "evalue": "Cannot feed value of shape (500, 32) for Tensor u'Placeholder_1:0', which has shape (Dimension(None), Dimension(34))",
     "output_type": "error",
     "traceback": [
      "\u001b[0;31m---------------------------------------------------------------------------\u001b[0m",
      "\u001b[0;31mValueError\u001b[0m                                Traceback (most recent call last)",
      "\u001b[0;32m<ipython-input-31-bbe3afba186b>\u001b[0m in \u001b[0;36m<module>\u001b[0;34m()\u001b[0m\n\u001b[1;32m      1\u001b[0m \u001b[0;32mprint\u001b[0m \u001b[0;34m'---------------- test  ------------------'\u001b[0m\u001b[0;34m\u001b[0m\u001b[0m\n\u001b[1;32m      2\u001b[0m \u001b[0;34m\u001b[0m\u001b[0m\n\u001b[0;32m----> 3\u001b[0;31m \u001b[0ma\u001b[0m\u001b[0;34m=\u001b[0m\u001b[0msess\u001b[0m\u001b[0;34m.\u001b[0m\u001b[0mrun\u001b[0m\u001b[0;34m(\u001b[0m\u001b[0mhypothesis\u001b[0m\u001b[0;34m,\u001b[0m \u001b[0mfeed_dict\u001b[0m\u001b[0;34m=\u001b[0m\u001b[0;34m{\u001b[0m\u001b[0mX\u001b[0m\u001b[0;34m:\u001b[0m\u001b[0mx_test\u001b[0m\u001b[0;34m,\u001b[0m \u001b[0mY\u001b[0m\u001b[0;34m:\u001b[0m\u001b[0my_test\u001b[0m\u001b[0;34m}\u001b[0m\u001b[0;34m)\u001b[0m\u001b[0;34m\u001b[0m\u001b[0m\n\u001b[0m\u001b[1;32m      4\u001b[0m \u001b[0;32mprint\u001b[0m \u001b[0ma\u001b[0m\u001b[0;34m,\u001b[0m \u001b[0msess\u001b[0m\u001b[0;34m.\u001b[0m\u001b[0mrun\u001b[0m\u001b[0;34m(\u001b[0m\u001b[0mtf\u001b[0m\u001b[0;34m.\u001b[0m\u001b[0marg_max\u001b[0m\u001b[0;34m(\u001b[0m\u001b[0ma\u001b[0m\u001b[0;34m,\u001b[0m\u001b[0;36m1\u001b[0m\u001b[0;34m)\u001b[0m\u001b[0;34m)\u001b[0m\u001b[0;34m\u001b[0m\u001b[0m\n",
      "\u001b[0;32m/Users/joikyeon/anaconda/lib/python2.7/site-packages/tensorflow/python/client/session.pyc\u001b[0m in \u001b[0;36mrun\u001b[0;34m(self, fetches, feed_dict)\u001b[0m\n\u001b[1;32m    339\u001b[0m                   \u001b[0;34m'which has shape %r'\u001b[0m\u001b[0;34m\u001b[0m\u001b[0m\n\u001b[1;32m    340\u001b[0m                   % (np_val.shape, subfeed_t.name,\n\u001b[0;32m--> 341\u001b[0;31m                      tuple(subfeed_t.get_shape().dims)))\n\u001b[0m\u001b[1;32m    342\u001b[0m           \u001b[0mfeed_dict_string\u001b[0m\u001b[0;34m[\u001b[0m\u001b[0mstr\u001b[0m\u001b[0;34m(\u001b[0m\u001b[0msubfeed_t\u001b[0m\u001b[0;34m.\u001b[0m\u001b[0mname\u001b[0m\u001b[0;34m)\u001b[0m\u001b[0;34m]\u001b[0m \u001b[0;34m=\u001b[0m \u001b[0mnp_val\u001b[0m\u001b[0;34m\u001b[0m\u001b[0m\n\u001b[1;32m    343\u001b[0m \u001b[0;34m\u001b[0m\u001b[0m\n",
      "\u001b[0;31mValueError\u001b[0m: Cannot feed value of shape (500, 32) for Tensor u'Placeholder_1:0', which has shape (Dimension(None), Dimension(34))"
     ]
    }
   ],
   "source": [
    "print '---------------- test  ------------------'\n",
    "\n",
    "a=sess.run(hypothesis, feed_dict={X:x_test, Y:y_test})\n",
    "print a, sess.run(tf.arg_max(a,1))"
   ]
  },
  {
   "cell_type": "code",
   "execution_count": 32,
   "metadata": {
    "collapsed": false
   },
   "outputs": [
    {
     "ename": "ValueError",
     "evalue": "Cannot feed value of shape (500, 32) for Tensor u'Placeholder_1:0', which has shape (Dimension(None), Dimension(34))",
     "output_type": "error",
     "traceback": [
      "\u001b[0;31m---------------------------------------------------------------------------\u001b[0m",
      "\u001b[0;31mValueError\u001b[0m                                Traceback (most recent call last)",
      "\u001b[0;32m<ipython-input-32-313c1a1f5b79>\u001b[0m in \u001b[0;36m<module>\u001b[0;34m()\u001b[0m\n\u001b[1;32m      3\u001b[0m \u001b[0mcorrect_prediction\u001b[0m \u001b[0;34m=\u001b[0m \u001b[0mtf\u001b[0m\u001b[0;34m.\u001b[0m\u001b[0mequal\u001b[0m\u001b[0;34m(\u001b[0m\u001b[0mtf\u001b[0m\u001b[0;34m.\u001b[0m\u001b[0margmax\u001b[0m\u001b[0;34m(\u001b[0m\u001b[0mhypothesis\u001b[0m\u001b[0;34m,\u001b[0m\u001b[0;36m1\u001b[0m\u001b[0;34m)\u001b[0m\u001b[0;34m,\u001b[0m \u001b[0mtf\u001b[0m\u001b[0;34m.\u001b[0m\u001b[0margmax\u001b[0m\u001b[0;34m(\u001b[0m\u001b[0mY\u001b[0m\u001b[0;34m,\u001b[0m\u001b[0;36m1\u001b[0m\u001b[0;34m)\u001b[0m\u001b[0;34m)\u001b[0m\u001b[0;34m\u001b[0m\u001b[0m\n\u001b[1;32m      4\u001b[0m \u001b[0maccuracy\u001b[0m \u001b[0;34m=\u001b[0m \u001b[0mtf\u001b[0m\u001b[0;34m.\u001b[0m\u001b[0mreduce_mean\u001b[0m\u001b[0;34m(\u001b[0m\u001b[0mtf\u001b[0m\u001b[0;34m.\u001b[0m\u001b[0mcast\u001b[0m\u001b[0;34m(\u001b[0m\u001b[0mcorrect_prediction\u001b[0m\u001b[0;34m,\u001b[0m \u001b[0mtf\u001b[0m\u001b[0;34m.\u001b[0m\u001b[0mfloat32\u001b[0m\u001b[0;34m)\u001b[0m\u001b[0;34m)\u001b[0m\u001b[0;34m\u001b[0m\u001b[0m\n\u001b[0;32m----> 5\u001b[0;31m \u001b[0;32mprint\u001b[0m\u001b[0;34m(\u001b[0m\u001b[0msess\u001b[0m\u001b[0;34m.\u001b[0m\u001b[0mrun\u001b[0m\u001b[0;34m(\u001b[0m\u001b[0maccuracy\u001b[0m\u001b[0;34m,\u001b[0m \u001b[0mfeed_dict\u001b[0m\u001b[0;34m=\u001b[0m\u001b[0;34m{\u001b[0m\u001b[0mX\u001b[0m\u001b[0;34m:\u001b[0m \u001b[0mx_test\u001b[0m\u001b[0;34m,\u001b[0m \u001b[0mY\u001b[0m\u001b[0;34m:\u001b[0m \u001b[0my_test\u001b[0m\u001b[0;34m}\u001b[0m\u001b[0;34m)\u001b[0m\u001b[0;34m)\u001b[0m\u001b[0;34m\u001b[0m\u001b[0m\n\u001b[0m",
      "\u001b[0;32m/Users/joikyeon/anaconda/lib/python2.7/site-packages/tensorflow/python/client/session.pyc\u001b[0m in \u001b[0;36mrun\u001b[0;34m(self, fetches, feed_dict)\u001b[0m\n\u001b[1;32m    339\u001b[0m                   \u001b[0;34m'which has shape %r'\u001b[0m\u001b[0;34m\u001b[0m\u001b[0m\n\u001b[1;32m    340\u001b[0m                   % (np_val.shape, subfeed_t.name,\n\u001b[0;32m--> 341\u001b[0;31m                      tuple(subfeed_t.get_shape().dims)))\n\u001b[0m\u001b[1;32m    342\u001b[0m           \u001b[0mfeed_dict_string\u001b[0m\u001b[0;34m[\u001b[0m\u001b[0mstr\u001b[0m\u001b[0;34m(\u001b[0m\u001b[0msubfeed_t\u001b[0m\u001b[0;34m.\u001b[0m\u001b[0mname\u001b[0m\u001b[0;34m)\u001b[0m\u001b[0;34m]\u001b[0m \u001b[0;34m=\u001b[0m \u001b[0mnp_val\u001b[0m\u001b[0;34m\u001b[0m\u001b[0m\n\u001b[1;32m    343\u001b[0m \u001b[0;34m\u001b[0m\u001b[0m\n",
      "\u001b[0;31mValueError\u001b[0m: Cannot feed value of shape (500, 32) for Tensor u'Placeholder_1:0', which has shape (Dimension(None), Dimension(34))"
     ]
    }
   ],
   "source": [
    "# (www.tensorflow.org와의 notation 차이점) x,y_,y ==> X,Y,hypothesis\n",
    "\n",
    "correct_prediction = tf.equal(tf.argmax(hypothesis,1), tf.argmax(Y,1))\n",
    "accuracy = tf.reduce_mean(tf.cast(correct_prediction, tf.float32))\n",
    "print(sess.run(accuracy, feed_dict={X: x_test, Y: y_test}))"
   ]
  },
  {
   "cell_type": "code",
   "execution_count": null,
   "metadata": {
    "collapsed": true
   },
   "outputs": [],
   "source": []
  }
 ],
 "metadata": {
  "kernelspec": {
   "display_name": "Python 2",
   "language": "python",
   "name": "python2"
  },
  "language_info": {
   "codemirror_mode": {
    "name": "ipython",
    "version": 2
   },
   "file_extension": ".py",
   "mimetype": "text/x-python",
   "name": "python",
   "nbconvert_exporter": "python",
   "pygments_lexer": "ipython2",
   "version": "2.7.11"
  }
 },
 "nbformat": 4,
 "nbformat_minor": 0
}
