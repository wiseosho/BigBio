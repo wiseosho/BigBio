{
 "cells": [
  {
   "cell_type": "markdown",
   "metadata": {},
   "source": [
    "# CHAPTER 14.Naive Bayes  "
   ]
  },
  {
   "cell_type": "markdown",
   "metadata": {},
   "source": [
    "- Naive Bayes classifier(NBC)는 단순하고 효율적인 분류알고리즘.\n",
    "- NBC는 지도학습 방법과 통계적인 분류기( 기초확률과 조건부확률 )를 조합함.\n",
    "- K-Means, k-Nearest Neighbors과 같은 군집화 기술보다 더 많이 사용됨.\n",
    "\n",
    "\n",
    "- Bayes' Theorem과 Mahout를 활용한 스팸 필터링\n",
    "    - http://www.mimul.com/pebble/default/2012/04/03/1333431077222.html\n"
   ]
  },
  {
   "cell_type": "markdown",
   "metadata": {},
   "source": [
    "![](chap14_01.jpg)"
   ]
  },
  {
   "cell_type": "markdown",
   "metadata": {
    "collapsed": true
   },
   "source": [
    "## Training and Learning Examples"
   ]
  },
  {
   "cell_type": "markdown",
   "metadata": {},
   "source": [
    "![](chap14_02.jpg)\n",
    "\n",
    "- (X = (x_1, x_2, ..., x_m))  => 데이터셋은 m개의 속성을 갖음.\n",
    "- 학습 데이터의 사이즈는 n 개\n",
    "- {C_1, C_2, ..., C_k} => k개의 다른 카테고리를 분류\n",
    "- k ≤ n 임."
   ]
  },
  {
   "cell_type": "markdown",
   "metadata": {},
   "source": [
    "### Numeric Training Data\n",
    "\n",
    "![](chap14_03.jpg)\n",
    "\n",
    "Numeric training data 에 대한 설명\n",
    "- Gender 컬럼이 분류 컬럼으로,  k=2 인 분류 클래스 {male, female}이고, C_1 = male, C_2 = female 임.\n",
    "- 이 데이터셋에서는 3개의 속성( m =3, height, weight, foot size )을 갖음.  이 속성값들은 m-차원의 벡터로 표현 : X = (X_1, X_2, ..., X_m)\n",
    "- 학습 데이터의 사이즈는 8 ( n = 8 )임.\n",
    "- 우리의 목표는 학습용 데이터를 이용해서 남, 여를 결정할 수 있는  분류시스템을 만듬. 이 분류는 height, weight, foot size 3가지 속성값을 기반함."
   ]
  },
  {
   "cell_type": "markdown",
   "metadata": {
    "collapsed": true
   },
   "source": [
    "### Symbolic Training Data\n",
    "\n",
    "![](chap14_04.jpg)\n",
    "\n",
    "Symbolic training data에 대한 설명\n",
    "- PlayTennis컬럼이 분류 컬럼으로, k=2 인 분류 클래스 {Yes, No}이고, C_1 = Yes, C_2 = No 임.\n",
    "- 이 데이터셋에서는 4개의 속성( m =4, outlook, temperature, humidity, wind )을 갖음. \n",
    "- 학습 데이터의 사이즈는 14 ( n = 14 )임.\n",
    "- 우리의 목표는 4개의 속성(outlook, temperature, humidity,  windy )을 가지고 Play‐Tennis에 대한 Yes나 No을 분류하는 분류시스템을 만듬.\n",
    "- 입력데이터는 아래와 같음.\n",
    "```\n",
    "X = (X1 = u1, X2=u2, X3=u3, X4=u4)\n",
    "    = (Outlook = Overcast,\n",
    "     Temperature = Hot,\n",
    "     Humidity = High,\n",
    "     Wind = Strong)\n",
    "```\n"
   ]
  },
  {
   "cell_type": "markdown",
   "metadata": {},
   "source": [
    "### Conditional Probability ( 조건부 확률 )\n",
    "\n",
    "- Naive Bayes은 조건부 확률을 기반함.\n",
    "- B 사건이 주어졌을때, A 사건이 발생할 확률을 조건부 확률이라고 하고, 아래와 같이 표시\n",
    "![](chap14_05.jpg)"
   ]
  },
  {
   "cell_type": "markdown",
   "metadata": {},
   "source": [
    "## The Naive Bayes Classifier 에 대한 상세설명"
   ]
  },
  {
   "cell_type": "markdown",
   "metadata": {},
   "source": [
    "- Bayes’s theorem\n",
    "    - 상호 배타적인 사건 {A_1, A_2, ..., A_n} 들의 sequence을 A 라 하자.\n",
    "    - E는 어떤 사건.\n",
    "    - 모든 사건을 0이 아는 확률값을 갖음( P(E) > 0 and P(A_i) > 0 for all i).\n",
    "\n",
    "![](chap14_06.jpg)\n",
    "\n",
    "- Bayes’s theorem을 단순하게 표현하기 위해서, 2개의 사건만으로 하고 각각을 A, B 라고 하자. \n",
    "\n",
    "![](chap14_07.jpg)\n",
    "\n",
    "- 분류를 위한 Bayes’ theorem 전개\n",
    "    - X = (X_1 = u_1, ..., X_m = u_m)을 분류에 필요한 데이터\n",
    "    - C = {C_1, C_2, ..., C_k} 유한개의 클래스\n",
    "    - Bayes’ theorem을 사용해서 X가 주어졌을때, C^predict ε {C_1, C_2, ..., C_k} class을 예측함.\n",
    "\n",
    "![](chap14_08.jpg)\n",
    "- 위에서 P(X_1 = u_1, ..., X_m = u_m) 제거된 이유는 분류 알고리즘에서 모드 계산에서 상수값으로 사용되어 결과에 영향을 주지 않음.\n",
    "- 그러므로, 확률모형으로부터 분류기를 아래와 같이 표현할 수 있음.\n",
    "![](chap14_09.jpg)\n",
    "\n",
    "- 결론\n",
    "    - (X = (x_1, x_2, ..., x_m)) : C = (c_i)  여러가지 패턴을 학습해서  P( x_i : c_k ) 확률을 구하면,  학습데이터에 없는 패턴도  확률을 구할 수 있음."
   ]
  },
  {
   "cell_type": "markdown",
   "metadata": {
    "collapsed": true
   },
   "source": [
    "## Naive Bayes Classifier Example"
   ]
  },
  {
   "cell_type": "markdown",
   "metadata": {},
   "source": [
    "아래와 같이 입력이 주어졌을때, 어떻게 분류되는지 알아보자.\n",
    "```\n",
    "X = (Outlook = Overcast,\n",
    "    Temperature = Hot,\n",
    "    Humidity = High,\n",
    "    Wind = Strong)\n",
    "X = (Overcast, Hot, High, Strong)\n",
    "X = (X1, X2, X3, X4)\n",
    "```\n",
    "\n",
    "- C = (C1, C2) = (Yes, No)\n",
    "- P(C1) = P(Yes) = 9/14\n",
    "- P(C2) = P(No) = 5/14\n",
    "\n",
    "\n",
    "- Bayes classifier를 따르면 아래와 같이 표현함.\n",
    "![](chap14_10.jpg)\n",
    "\n",
    "- 만약 V_1 > V_2 이다면,  입력값 X일때의 분류는 C_1 = Yes이고, 반대이면 C_2 = No임."
   ]
  },
  {
   "cell_type": "markdown",
   "metadata": {},
   "source": [
    "### Calculations of conditional probabilities for C1 = Yes:\n",
    "\n",
    "![](chap14_11.jpg)"
   ]
  },
  {
   "cell_type": "markdown",
   "metadata": {},
   "source": [
    "### Calculations of conditional probabilities for C2 = No:\n",
    "\n",
    "![](chap14_12.jpg)"
   ]
  },
  {
   "cell_type": "markdown",
   "metadata": {
    "collapsed": true
   },
   "source": [
    "## The Naive Bayes Classifier: MapReduce Solution for Symbolic Data"
   ]
  },
  {
   "cell_type": "markdown",
   "metadata": {},
   "source": [
    "### Stage 1: Building a Classifier Using Symbolic Training Data\n",
    "\n",
    "- X = (X_1 = u_1, ..., X_m = u_m) 데이터를 사용해서 P(X_i = u_i|C = C_j)을 계산하자\n",
    "\n",
    "![](chap14_13.jpg)\n",
    "\n",
    "\n",
    "- mapper의 출력\n",
    "```\n",
    "map(Sunny, Hot, High, Weak, No) will generate:\n",
    "    <Sunny,No>, <1>\n",
    "    <Hot,No>, <1>\n",
    "    <High,No>, <1>\n",
    "    <Weak,No>, <1>\n",
    "    <CLASS,No>, <1>\n",
    "map(Sunny, Hot, High, Strong, No) generates:\n",
    "    <Sunny,No>, <1>\n",
    "    <Hot,No>, <1>\n",
    "    <High,No>, <1>\n",
    "```\n",
    "\n",
    "![](chap14_14.jpg)"
   ]
  },
  {
   "cell_type": "markdown",
   "metadata": {
    "collapsed": true
   },
   "source": [
    "![](chap14_15.jpg)\n",
    "\n",
    "![](chap14_16.jpg)"
   ]
  },
  {
   "cell_type": "markdown",
   "metadata": {
    "collapsed": true
   },
   "source": [
    "## Stage 2: Using the Classifier to Classify New Symbolic Data\n",
    "\n",
    "\n",
    "![](chap14_17.jpg)\n",
    "\n",
    "![](chap14_18.jpg)"
   ]
  },
  {
   "cell_type": "markdown",
   "metadata": {
    "collapsed": true
   },
   "source": [
    "## The Naive Bayes Classifier: MapReduce Solution for Numeric Data"
   ]
  },
  {
   "cell_type": "markdown",
   "metadata": {
    "collapsed": true
   },
   "source": [
    "- 숫자형 속성일 경우 특정값에 대한 확률은 어떤 분포(여기서는 정규분포)인지를 가정하고 계산함.\n",
    "- 정규분포를 모양을 결정하는 것은 평균( Mean )과 분산( Variance )임.\n",
    "\n",
    "![](chap14_19.jpg)\n",
    "- 예제 데이터에서는 P(male) = P(female) = 0.5  임.\n",
    "\n",
    "\n",
    "- 정규분포의 확률 계산 방법\n",
    "    - 숫자형 속성이 x 값이라면, 아래 공식에  x 속성의 mean (μ) and variance (σ2) 을 아래에 대입함. \n",
    "    - μ_c is the mean of values in x associated with class c.\n",
    "    - σ^2_c is the variance of values in x associated with class c\n",
    "![](chap14_20.jpg)"
   ]
  },
  {
   "cell_type": "markdown",
   "metadata": {},
   "source": [
    "새로운 데이터에서 class인 남과 여를 구분해보자\n",
    "\n",
    "|Height (feet) | Weight (lbs) | Foot size (inches) | Gender\n",
    "|--------------|--------------|--------------------|---------\n",
    "|   6.00       |  130         |   8                |   ???\n",
    "\n",
    "\n",
    "- 베이지안 통계에서의 사후확률( posterior probability )은 주어진 증거 X 에서 파라메터 T의 확률임.\n",
    "- P(T | X)  표시함.\n",
    "- 우리의 목표는 현재 가지고 있는 데이터로 male/female을 구분이므로 아래와 같이 표현 가능함.\n",
    "    - posterior(male) = evidenceMale / evidence\n",
    "    - posterior(female) = evidenceFemale / evidence\n",
    "- evidenceMale, evidenceFemale, and evidence 값들은 아래와 같이 구할 수 있음.\n",
    "\n",
    "```\n",
    "evidenceMale = P(male) *\n",
    "    P(height|male) *\n",
    "    P(weight|male) *\n",
    "    P(footsize|male)\n",
    "\n",
    "evidenceFemale = P(female) *\n",
    "    P(height|female) *\n",
    "    P(weight|female) *\n",
    "    P(footsize|female)\n",
    "\n",
    "evidence = evidenceMale + evidenceFemale\n",
    "```\n",
    "\n",
    "- evidence은 양의 상수값으로 무시가 가능하고, 아래와 같이 계산됨.\n",
    "\n",
    "```\n",
    "P(male) = 0.5\n",
    "P(height|male) = 1.5789\n",
    "P(weight|male) = 5.9881e-06\n",
    "P(footsize|male) = 1.3112e-3\n",
    "\n",
    "posterior numerator (male) =\n",
    "    P(male) *\n",
    "    P(height|male) *\n",
    "    P(weight|male) *\n",
    "    P(footsize|male)\n",
    "        = 6.1984e-09\n",
    "\n",
    "P(female) = 0.5\n",
    "P(height|female) = 2.2346e-1\n",
    "P(weight|female) = 1.6789e-2\n",
    "P(footsize|female) = 2.8669e-1\n",
    "\n",
    "posterior numerator (female) =\n",
    "    P(female) *\n",
    "    P(height|female) *\n",
    "    P(weight|female) *\n",
    "    P(footsize|female)\n",
    "        = 5.3778e-04\n",
    "    \n",
    "```\n",
    "\n",
    "\n",
    "posterior numerator (female) > posterior numerator (male) 이므로 female이라고 예측할 수 있음 "
   ]
  },
  {
   "cell_type": "markdown",
   "metadata": {},
   "source": [
    "## Naive Bayes Classifier Implementation in Spark"
   ]
  },
  {
   "cell_type": "markdown",
   "metadata": {},
   "source": [
    "![](chap14_21.jpg)"
   ]
  },
  {
   "cell_type": "markdown",
   "metadata": {
    "collapsed": true
   },
   "source": [
    "### Stage 1: Building a Classifier Using Training Data\n",
    "\n",
    "\n",
    "```\n",
    "Step 2: handle input parameters\n",
    "Step 3: create a Spark context object (ctx)\n",
    "Step 4: read training data\n",
    "Step 5: implement map() function for all elements of training data\n",
    "Step 6: implement reduce() function for all elements of training data\n",
    "Step 7: collect reduced data as Map\n",
    "Step 8: build the classifier\n",
    "Step 9: save the classifier\n",
    "         9.1: the PT (probability table) for classification of new entries\n",
    "         9.2: the classification list (CLASSIFICATIONS)  \n",
    "```"
   ]
  },
  {
   "cell_type": "markdown",
   "metadata": {},
   "source": [
    "#### Step 3: Create a Spark context object"
   ]
  },
  {
   "cell_type": "code",
   "execution_count": 2,
   "metadata": {
    "collapsed": false
   },
   "outputs": [
    {
     "data": {
      "text/plain": [
       "<pyspark.context.SparkContext at 0x7f1b845a01d0>"
      ]
     },
     "execution_count": 2,
     "metadata": {},
     "output_type": "execute_result"
    }
   ],
   "source": [
    "from pyspark import SparkContext\n",
    "sc = SparkContext() \n",
    "sc"
   ]
  },
  {
   "cell_type": "markdown",
   "metadata": {},
   "source": [
    "#### Step 4: Read training data\n",
    "\n",
    "- naivebayes_training_data.txt\n",
    "\n",
    "```\n",
    "Sunny,Hot,High,Weak,No\n",
    "Sunny,Hot,High,Strong,No\n",
    "Overcast,Hot,High,Weak,Yes\n",
    "Rain,Mild,High,Weak,Yes\n",
    "Rain,Cool,Normal,Weak,Yes\n",
    "Rain,Cool,Normal,Strong,No\n",
    "Overcast,Cool,Normal,Strong,Yes\n",
    "Sunny,Mild,High,Weak,No\n",
    "Sunny,Cool,Normal,Weak,Yes\n",
    "Rain,Mild,Normal,Weak,Yes\n",
    "Sunny,Mild,Normal,Strong,Yes\n",
    "Overcast,Mild,High,Strong,Yes\n",
    "Overcast,Hot,Normal,Weak,Yes\n",
    "Rain,Mild,High,Strong,No\n",
    "```"
   ]
  },
  {
   "cell_type": "code",
   "execution_count": 5,
   "metadata": {
    "collapsed": true
   },
   "outputs": [],
   "source": [
    "training = sc.textFile('naivebayes_training_data.txt', 1);"
   ]
  },
  {
   "cell_type": "code",
   "execution_count": 6,
   "metadata": {
    "collapsed": false
   },
   "outputs": [
    {
     "name": "stdout",
     "output_type": "stream",
     "text": [
      "debug0 record: Sunny,Hot,High,Weak,No\n",
      "debug0 record: Sunny,Hot,High,Strong,No\n",
      "debug0 record: Overcast,Hot,High,Weak,Yes\n",
      "debug0 record: Rain,Mild,High,Weak,Yes\n",
      "debug0 record: Rain,Cool,Normal,Weak,Yes\n",
      "debug0 record: Rain,Cool,Normal,Strong,No\n",
      "debug0 record: Overcast,Cool,Normal,Strong,Yes\n",
      "debug0 record: Sunny,Mild,High,Weak,No\n",
      "debug0 record: Sunny,Cool,Normal,Weak,Yes\n",
      "debug0 record: Rain,Mild,Normal,Weak,Yes\n",
      "debug0 record: Sunny,Mild,Normal,Strong,Yes\n",
      "debug0 record: Overcast,Mild,High,Strong,Yes\n",
      "debug0 record: Overcast,Hot,Normal,Weak,Yes\n",
      "debug0 record: Rain,Mild,High,Strong,No\n"
     ]
    }
   ],
   "source": [
    "for t in training.collect():\n",
    "    print \"debug0 record:\", t"
   ]
  },
  {
   "cell_type": "markdown",
   "metadata": {},
   "source": [
    "#### Step 5: Implement the map() function for all elements of the training data"
   ]
  },
  {
   "cell_type": "code",
   "execution_count": 7,
   "metadata": {
    "collapsed": false
   },
   "outputs": [
    {
     "name": "stdout",
     "output_type": "stream",
     "text": [
      "Sunny\n",
      "Hot\n",
      "High\n",
      "Weak\n",
      "[(('Sunny', 'No'), 1), (('Hot', 'No'), 1), (('High', 'No'), 1), (('Weak', 'No'), 1), (('CLASS', 'No'), 1)]\n"
     ]
    }
   ],
   "source": [
    "result = []  ## LIST형\n",
    "rec = 'Sunny,Hot,High,Weak,No'\n",
    "tokens = rec.split(\",\");\n",
    "classificationIndex = len(tokens) -1;\n",
    "classificationIndex\n",
    "theClassification = tokens[classificationIndex];\n",
    "theClassification\n",
    "for i  in range( classificationIndex ) :\n",
    "    attr = tokens[i]\n",
    "    print attr\n",
    "    K = (attr ,  theClassification)\n",
    "    result.append( (K, 1) )\n",
    "    \n",
    "K = ( \"CLASS\",  theClassification); \n",
    "result.append( (K, 1) )\n",
    "\n",
    "print result"
   ]
  },
  {
   "cell_type": "code",
   "execution_count": 8,
   "metadata": {
    "collapsed": false
   },
   "outputs": [],
   "source": [
    "def class_count( rec ) :\n",
    "    result = []  ## LIST형\n",
    "    tokens = rec.split(\",\");\n",
    "    # tokens[0] = A1\n",
    "    # tokens[1] = A2\n",
    "    # ...\n",
    "    # tokens[m-1] = Am\n",
    "    # token[m] = classification\n",
    "    classificationIndex = len(tokens) -1;\n",
    "    theClassification = tokens[classificationIndex];\n",
    "    for i  in range( classificationIndex ) : ## 교재에 오류 \n",
    "        attr = tokens[i]\n",
    "        K = (attr ,  theClassification);  ## 교재에 오류\n",
    "        result.append( (K, 1) )\n",
    "        \n",
    "    K = ( \"CLASS\",  theClassification); \n",
    "    result.append( (K, 1) )\n",
    "    return result"
   ]
  },
  {
   "cell_type": "code",
   "execution_count": 9,
   "metadata": {
    "collapsed": true
   },
   "outputs": [],
   "source": [
    "pairs = training.flatMap( class_count )"
   ]
  },
  {
   "cell_type": "code",
   "execution_count": 10,
   "metadata": {
    "collapsed": false
   },
   "outputs": [
    {
     "data": {
      "text/plain": [
       "[((u'Sunny', u'No'), 1),\n",
       " ((u'Hot', u'No'), 1),\n",
       " ((u'High', u'No'), 1),\n",
       " ((u'Weak', u'No'), 1),\n",
       " (('CLASS', u'No'), 1),\n",
       " ((u'Sunny', u'No'), 1),\n",
       " ((u'Hot', u'No'), 1),\n",
       " ((u'High', u'No'), 1),\n",
       " ((u'Strong', u'No'), 1),\n",
       " (('CLASS', u'No'), 1),\n",
       " ((u'Overcast', u'Yes'), 1),\n",
       " ((u'Hot', u'Yes'), 1),\n",
       " ((u'High', u'Yes'), 1),\n",
       " ((u'Weak', u'Yes'), 1),\n",
       " (('CLASS', u'Yes'), 1),\n",
       " ((u'Rain', u'Yes'), 1),\n",
       " ((u'Mild', u'Yes'), 1),\n",
       " ((u'High', u'Yes'), 1),\n",
       " ((u'Weak', u'Yes'), 1),\n",
       " (('CLASS', u'Yes'), 1),\n",
       " ((u'Rain', u'Yes'), 1),\n",
       " ((u'Cool', u'Yes'), 1),\n",
       " ((u'Normal', u'Yes'), 1),\n",
       " ((u'Weak', u'Yes'), 1),\n",
       " (('CLASS', u'Yes'), 1),\n",
       " ((u'Rain', u'No'), 1),\n",
       " ((u'Cool', u'No'), 1),\n",
       " ((u'Normal', u'No'), 1),\n",
       " ((u'Strong', u'No'), 1),\n",
       " (('CLASS', u'No'), 1),\n",
       " ((u'Overcast', u'Yes'), 1),\n",
       " ((u'Cool', u'Yes'), 1),\n",
       " ((u'Normal', u'Yes'), 1),\n",
       " ((u'Strong', u'Yes'), 1),\n",
       " (('CLASS', u'Yes'), 1),\n",
       " ((u'Sunny', u'No'), 1),\n",
       " ((u'Mild', u'No'), 1),\n",
       " ((u'High', u'No'), 1),\n",
       " ((u'Weak', u'No'), 1),\n",
       " (('CLASS', u'No'), 1),\n",
       " ((u'Sunny', u'Yes'), 1),\n",
       " ((u'Cool', u'Yes'), 1),\n",
       " ((u'Normal', u'Yes'), 1),\n",
       " ((u'Weak', u'Yes'), 1),\n",
       " (('CLASS', u'Yes'), 1),\n",
       " ((u'Rain', u'Yes'), 1),\n",
       " ((u'Mild', u'Yes'), 1),\n",
       " ((u'Normal', u'Yes'), 1),\n",
       " ((u'Weak', u'Yes'), 1),\n",
       " (('CLASS', u'Yes'), 1),\n",
       " ((u'Sunny', u'Yes'), 1),\n",
       " ((u'Mild', u'Yes'), 1),\n",
       " ((u'Normal', u'Yes'), 1),\n",
       " ((u'Strong', u'Yes'), 1),\n",
       " (('CLASS', u'Yes'), 1),\n",
       " ((u'Overcast', u'Yes'), 1),\n",
       " ((u'Mild', u'Yes'), 1),\n",
       " ((u'High', u'Yes'), 1),\n",
       " ((u'Strong', u'Yes'), 1),\n",
       " (('CLASS', u'Yes'), 1),\n",
       " ((u'Overcast', u'Yes'), 1),\n",
       " ((u'Hot', u'Yes'), 1),\n",
       " ((u'Normal', u'Yes'), 1),\n",
       " ((u'Weak', u'Yes'), 1),\n",
       " (('CLASS', u'Yes'), 1),\n",
       " ((u'Rain', u'No'), 1),\n",
       " ((u'Mild', u'No'), 1),\n",
       " ((u'High', u'No'), 1),\n",
       " ((u'Strong', u'No'), 1),\n",
       " (('CLASS', u'No'), 1)]"
      ]
     },
     "execution_count": 10,
     "metadata": {},
     "output_type": "execute_result"
    }
   ],
   "source": [
    "pairs.collect()"
   ]
  },
  {
   "cell_type": "markdown",
   "metadata": {},
   "source": [
    "#### Step 6: Implement reduce() function"
   ]
  },
  {
   "cell_type": "code",
   "execution_count": 11,
   "metadata": {
    "collapsed": true
   },
   "outputs": [],
   "source": [
    "counts = pairs.reduceByKey( lambda x, y :  x + y )"
   ]
  },
  {
   "cell_type": "code",
   "execution_count": 12,
   "metadata": {
    "collapsed": false
   },
   "outputs": [
    {
     "data": {
      "text/plain": [
       "[((u'Hot', u'No'), 2),\n",
       " ((u'Strong', u'Yes'), 3),\n",
       " (('CLASS', u'No'), 5),\n",
       " ((u'Cool', u'No'), 1),\n",
       " ((u'Normal', u'Yes'), 6),\n",
       " ((u'Weak', u'Yes'), 6),\n",
       " ((u'Sunny', u'No'), 3),\n",
       " ((u'Rain', u'No'), 2),\n",
       " ((u'Normal', u'No'), 1),\n",
       " ((u'Cool', u'Yes'), 3),\n",
       " ((u'Hot', u'Yes'), 2),\n",
       " ((u'Mild', u'No'), 2),\n",
       " ((u'Strong', u'No'), 3),\n",
       " ((u'Overcast', u'Yes'), 4),\n",
       " ((u'Rain', u'Yes'), 3),\n",
       " ((u'High', u'Yes'), 3),\n",
       " ((u'Sunny', u'Yes'), 2),\n",
       " ((u'Mild', u'Yes'), 4),\n",
       " (('CLASS', u'Yes'), 9),\n",
       " ((u'Weak', u'No'), 2),\n",
       " ((u'High', u'No'), 4)]"
      ]
     },
     "execution_count": 12,
     "metadata": {},
     "output_type": "execute_result"
    }
   ],
   "source": [
    "counts.collect()"
   ]
  },
  {
   "cell_type": "markdown",
   "metadata": {},
   "source": [
    "#### Step 7: Collect reduced data as Map"
   ]
  },
  {
   "cell_type": "code",
   "execution_count": 13,
   "metadata": {
    "collapsed": true
   },
   "outputs": [],
   "source": [
    "countsAsMap = counts.collectAsMap();"
   ]
  },
  {
   "cell_type": "code",
   "execution_count": 14,
   "metadata": {
    "collapsed": false
   },
   "outputs": [
    {
     "data": {
      "text/plain": [
       "{('CLASS', u'No'): 5,\n",
       " ('CLASS', u'Yes'): 9,\n",
       " (u'Cool', u'No'): 1,\n",
       " (u'Cool', u'Yes'): 3,\n",
       " (u'High', u'No'): 4,\n",
       " (u'High', u'Yes'): 3,\n",
       " (u'Hot', u'No'): 2,\n",
       " (u'Hot', u'Yes'): 2,\n",
       " (u'Mild', u'No'): 2,\n",
       " (u'Mild', u'Yes'): 4,\n",
       " (u'Normal', u'No'): 1,\n",
       " (u'Normal', u'Yes'): 6,\n",
       " (u'Overcast', u'Yes'): 4,\n",
       " (u'Rain', u'No'): 2,\n",
       " (u'Rain', u'Yes'): 3,\n",
       " (u'Strong', u'No'): 3,\n",
       " (u'Strong', u'Yes'): 3,\n",
       " (u'Sunny', u'No'): 3,\n",
       " (u'Sunny', u'Yes'): 2,\n",
       " (u'Weak', u'No'): 2,\n",
       " (u'Weak', u'Yes'): 6}"
      ]
     },
     "execution_count": 14,
     "metadata": {},
     "output_type": "execute_result"
    }
   ],
   "source": [
    "countsAsMap"
   ]
  },
  {
   "cell_type": "markdown",
   "metadata": {},
   "source": [
    "#### Step 8: Build the classifier data structures\n",
    "\n",
    "- The probability table (PT)\n",
    "- The classification list (CLASSIFICATIONS)"
   ]
  },
  {
   "cell_type": "code",
   "execution_count": 27,
   "metadata": {
    "collapsed": false
   },
   "outputs": [
    {
     "data": {
      "text/plain": [
       "{('CLASS', u'No'): 0.35714285714285715,\n",
       " ('CLASS', u'Yes'): 0.6428571428571429,\n",
       " (u'Cool', u'No'): 0.2,\n",
       " (u'Cool', u'Yes'): 0.3333333333333333,\n",
       " (u'High', u'No'): 0.8,\n",
       " (u'High', u'Yes'): 0.3333333333333333,\n",
       " (u'Hot', u'No'): 0.4,\n",
       " (u'Hot', u'Yes'): 0.2222222222222222,\n",
       " (u'Mild', u'No'): 0.4,\n",
       " (u'Mild', u'Yes'): 0.4444444444444444,\n",
       " (u'Normal', u'No'): 0.2,\n",
       " (u'Normal', u'Yes'): 0.6666666666666666,\n",
       " (u'Overcast', u'Yes'): 0.4444444444444444,\n",
       " (u'Rain', u'No'): 0.4,\n",
       " (u'Rain', u'Yes'): 0.3333333333333333,\n",
       " (u'Strong', u'No'): 0.6,\n",
       " (u'Strong', u'Yes'): 0.3333333333333333,\n",
       " (u'Sunny', u'No'): 0.6,\n",
       " (u'Sunny', u'Yes'): 0.2222222222222222,\n",
       " (u'Weak', u'No'): 0.4,\n",
       " (u'Weak', u'Yes'): 0.6666666666666666}"
      ]
     },
     "execution_count": 27,
     "metadata": {},
     "output_type": "execute_result"
    }
   ],
   "source": [
    "trainingDataSize =  14\n",
    "\n",
    "PT = {}  # HashMap \n",
    "CLASSIFICATIONS = []  ## LIST형\n",
    "for k  in countsAsMap.keys():\n",
    "    classification = k[1];\n",
    "    if 'CLASS' == k[0] :\n",
    "        value = countsAsMap[ k ]\n",
    "        PT[ k ] = float(value) / float(trainingDataSize)\n",
    "        CLASSIFICATIONS.append( k[1] )\n",
    "    else :\n",
    "        k2 = ( 'CLASS', classification);\n",
    "        count = countsAsMap[ k2 ];\n",
    "        if count == None :\n",
    "            PT[ k ] = 0.0\n",
    "        else :\n",
    "            value = countsAsMap[ k ] \n",
    "            PT[ k ] = float(value) / float(count)\n",
    "\n",
    "PT"
   ]
  },
  {
   "cell_type": "markdown",
   "metadata": {
    "collapsed": true
   },
   "source": [
    "#### Classify new data"
   ]
  },
  {
   "cell_type": "code",
   "execution_count": 41,
   "metadata": {
    "collapsed": false
   },
   "outputs": [],
   "source": [
    "def classify_newdata( rec ) :\n",
    "    CLASSES = ['Yes', 'No']\n",
    "    \n",
    "    attributes = rec.split(\",\");\n",
    "    selectedClass = '';\n",
    "    maxPosterior = 0.0;\n",
    "    for aClass in CLASSES :\n",
    "        posterior = PT[ ('CLASS', aClass) ]\n",
    "        for attr in attributes :\n",
    "            if (( attr, aClass  ) in PT) == False :\n",
    "                posterior = 0.0\n",
    "                break\n",
    "            else : \n",
    "                probability = PT[ ( attr, aClass  ) ]\n",
    "                posterior *=  probability\n",
    "        \n",
    "        print  aClass, posterior\n",
    "        if selectedClass == '' :\n",
    "            selectedClass = aClass;\n",
    "            maxPosterior = posterior;\n",
    "        else :\n",
    "            if  posterior > maxPosterior :\n",
    "                selectedClass = aClass;\n",
    "                maxPosterior = posterior;\n",
    "    return ( rec , selectedClass )"
   ]
  },
  {
   "cell_type": "code",
   "execution_count": 42,
   "metadata": {
    "collapsed": false
   },
   "outputs": [
    {
     "name": "stdout",
     "output_type": "stream",
     "text": [
      "Yes 0.00529100529101\n",
      "No 0.0274285714286\n",
      "('Rain,Hot,High,Strong', 'No')\n",
      "Yes 0.0564373897707\n",
      "No 0.0\n",
      "('Overcast,Mild,Normal,Weak', 'Yes')\n",
      "Yes 0.0\n",
      "No 0.0\n",
      "('Sunny,Mild,Normal,Week', 'Yes')\n"
     ]
    }
   ],
   "source": [
    "recs = [\"Rain,Hot,High,Strong\",\n",
    "        \"Overcast,Mild,Normal,Weak\",\n",
    "        \"Sunny,Mild,Normal,Week\" ]\n",
    "for rec in recs :\n",
    "    print classify_newdata( rec )"
   ]
  },
  {
   "cell_type": "code",
   "execution_count": null,
   "metadata": {
    "collapsed": true
   },
   "outputs": [],
   "source": []
  }
 ],
 "metadata": {
  "kernelspec": {
   "display_name": "Python 2",
   "language": "python",
   "name": "python2"
  },
  "language_info": {
   "codemirror_mode": {
    "name": "ipython",
    "version": 2
   },
   "file_extension": ".py",
   "mimetype": "text/x-python",
   "name": "python",
   "nbconvert_exporter": "python",
   "pygments_lexer": "ipython2",
   "version": "2.7.11"
  },
  "widgets": {
   "state": {},
   "version": "1.1.2"
  }
 },
 "nbformat": 4,
 "nbformat_minor": 0
}
