{
 "cells": [
  {
   "cell_type": "markdown",
   "metadata": {},
   "source": [
    "# Chapter 16. Finding, Counting, and Listing All Triangles in Large Graphs"
   ]
  },
  {
   "cell_type": "markdown",
   "metadata": {},
   "source": [
    "[그래프 이론 - 위키피디아](https://ko.wikipedia.org/wiki/%EA%B7%B8%EB%9E%98%ED%94%84_%EC%9D%B4%EB%A1%A0)\n",
    "- 유한개의 노드인 vertice와 노드간의 연결인 edges로 이루어짐.\n",
    "![](https://upload.wikimedia.org/wikipedia/commons/thumb/5/5b/6n-graf.svg/333px-6n-graf.svg.png)\n",
    "\n",
    "Triangles count 하기 전에 triad 와 triangle 을 정의하자.\n",
    "    - G( graph )에서 3개의 다른 node,  T= (a, b, c)가 있다고 하자.\n",
    "    - 만약, 2개의 노드가 연결( {(a,b), (a,c)} ) 되어 있으면, T 를 triad 라 한다.\n",
    "    - 만약, 3개의 노드가 연결( {(a,b), (a,c), (b,c)} )되어 있으면, triangle 이라 한다.\n",
    "    \n",
    "그래프 분석에서,  3개의 중요한 metrics가 있음.\n",
    "    - Global clustering coefficient\n",
    "    - Transitivity ratio, defined as\n",
    "![](chap16_01.jpg)\n",
    "    - Local clustering coefficient\n",
    "\n",
    "이 3가지 metrics을 계산하기 위해서는, 그래프에서 triangles의 개수를 알 필요가 있음.\n",
    "\n",
    "그래프에서 triangle을 찾고, 세고, 리스트를 뽑는 것을 2가지 MapReduce solutions을 제공함\n",
    "- MapReduce/Hadoop solution은 3개의 분리된 MapReduce job으로 구성됨.\n",
    "- Spark solution은 map()와 reduce() 와 같은 고차함수를 이용해서 하나의 Driver로 구성되고, Spark는 GraphX라는 graph-parallel API가 제공됨.\n"
   ]
  },
  {
   "cell_type": "markdown",
   "metadata": {
    "collapsed": true
   },
   "source": [
    "## Basic Graph Concepts"
   ]
  },
  {
   "cell_type": "markdown",
   "metadata": {
    "collapsed": true
   },
   "source": [
    "- V 는 유한개의 노드의 집합이라고 하자.\n",
    "- E 는 노드간의 연결인  edge의 유한개의 집합라고 하자. \n",
    "- 비방향성 그래프를  G = (V, E) 라고 정의함.\n",
    "- 노드의 개수를 n,  edge의 개수를 m 이라고 함.\n",
    "- v의 차수, d(v)는 v와 인접해 있는 노드들의 개수로 정의함.\n",
    "    - d( 1 ) =  ?\n",
    "    - d( 2 ) =  ?\n",
    "    - d( 3 ) =  ?\n",
    "- 아래 그래프에서  triangles의 개수는 2개.\n",
    "    - {{2, 3}, {3, 4}, {4, 2}}\n",
    "    - {{2, 4}, {4, 5}, {5, 2}}\n",
    "![](chap16_02.jpg)"
   ]
  },
  {
   "cell_type": "markdown",
   "metadata": {},
   "source": [
    "## Importance of Counting Triangles"
   ]
  },
  {
   "cell_type": "markdown",
   "metadata": {
    "collapsed": true
   },
   "source": [
    "- 2개의 중요한 metrics (clustering coefficients and transitive ratios)을 측정에 필요.\n",
    "- Social graphs에서 침입탐지, communities 와 spamming 식별에 사용됨.\n",
    "- biological networks에서는 protein–protein interaction networks을 찾는데 도움을 줌.\n",
    "- triangles와 high clustering coefficient은 social, biological, web와 other networks의 중요한 특성을 나타냄."
   ]
  },
  {
   "cell_type": "markdown",
   "metadata": {
    "collapsed": true
   },
   "source": [
    "## MapReduce/Hadoop Solution"
   ]
  },
  {
   "cell_type": "markdown",
   "metadata": {},
   "source": [
    "### Step 1: MapReduce in Action"
   ]
  },
  {
   "cell_type": "markdown",
   "metadata": {},
   "source": [
    "![](chap16_03.jpg)\n",
    "\n",
    "![](chap16_04.jpg)"
   ]
  },
  {
   "cell_type": "markdown",
   "metadata": {
    "collapsed": true
   },
   "source": [
    "### Step 2: Identify Triangles"
   ]
  },
  {
   "cell_type": "markdown",
   "metadata": {},
   "source": [
    "![](chap16_05.jpg)"
   ]
  },
  {
   "cell_type": "markdown",
   "metadata": {},
   "source": [
    "### Step 3: Remove Duplicate Triangles"
   ]
  },
  {
   "cell_type": "markdown",
   "metadata": {},
   "source": [
    "Mapper\n",
    "```\n",
    "(1, 2, 3) will emit (1, 2, 3)\n",
    "(1, 3, 2) will emit (1, 2, 3)\n",
    "(2, 1, 3) will emit (1, 2, 3)\n",
    "(2, 3, 1) will emit (1, 2, 3)\n",
    "(3, 1, 2) will emit (1, 2, 3)\n",
    "(3, 2, 1) will emit (1, 2, 3)\n",
    "```\n",
    "\n",
    "Reducer\n",
    "```\n",
    "1 // key is a triangle (a, b, c)\n",
    "2 // where a < b < c\n",
    "3 // values = list of nulls\n",
    "4 reduce(key, values) {\n",
    "5 emit(key, null)\n",
    "6 }\n",
    "```"
   ]
  },
  {
   "cell_type": "markdown",
   "metadata": {},
   "source": [
    "## Spark Solution"
   ]
  },
  {
   "cell_type": "markdown",
   "metadata": {},
   "source": [
    "### Step 3: Create a Spark context object"
   ]
  },
  {
   "cell_type": "code",
   "execution_count": 3,
   "metadata": {
    "collapsed": false
   },
   "outputs": [
    {
     "data": {
      "text/plain": [
       "<pyspark.context.SparkContext at 0x7fce7040cc10>"
      ]
     },
     "execution_count": 3,
     "metadata": {},
     "output_type": "execute_result"
    }
   ],
   "source": [
    "from pyspark import SparkContext\n",
    "sc = SparkContext() \n",
    "sc"
   ]
  },
  {
   "cell_type": "markdown",
   "metadata": {},
   "source": [
    "### Step 4: Read graph via HDFS input"
   ]
  },
  {
   "cell_type": "markdown",
   "metadata": {},
   "source": [
    "sample_graph.txt\n",
    "```\n",
    "1 2\n",
    "2 3\n",
    "2 4\n",
    "2 5\n",
    "3 4\n",
    "4 5\n",
    "```"
   ]
  },
  {
   "cell_type": "code",
   "execution_count": 4,
   "metadata": {
    "collapsed": true
   },
   "outputs": [],
   "source": [
    "lines = sc.textFile('sample_graph.txt', 1);"
   ]
  },
  {
   "cell_type": "code",
   "execution_count": 6,
   "metadata": {
    "collapsed": false
   },
   "outputs": [
    {
     "data": {
      "text/plain": [
       "[u'1 2', u'2 3', u'2 4', u'2 5', u'3 4', u'4 5']"
      ]
     },
     "execution_count": 6,
     "metadata": {},
     "output_type": "execute_result"
    }
   ],
   "source": [
    "lines.collect()"
   ]
  },
  {
   "cell_type": "markdown",
   "metadata": {},
   "source": [
    "### Step 5: Create all graph edges\n",
    "\n",
    "(nodeA, nodeB) 의 출력을\n",
    "\n",
    "- (nodeA, nodeB)\n",
    "- (nodeB, nodeA)"
   ]
  },
  {
   "cell_type": "code",
   "execution_count": 7,
   "metadata": {
    "collapsed": true
   },
   "outputs": [],
   "source": [
    "def all_edges(s) :\n",
    "    nodes = s.split(\" \");\n",
    "    start = long(nodes[0]);\n",
    "    end = long(nodes[1]);\n",
    "    list = []\n",
    "    list.append( (start, end) )\n",
    "    list.append( (end,   start) )\n",
    "    return list"
   ]
  },
  {
   "cell_type": "code",
   "execution_count": 8,
   "metadata": {
    "collapsed": true
   },
   "outputs": [],
   "source": [
    "edges = lines.flatMap( all_edges )"
   ]
  },
  {
   "cell_type": "code",
   "execution_count": 9,
   "metadata": {
    "collapsed": false
   },
   "outputs": [
    {
     "data": {
      "text/plain": [
       "[(1L, 2L),\n",
       " (2L, 1L),\n",
       " (2L, 3L),\n",
       " (3L, 2L),\n",
       " (2L, 4L),\n",
       " (4L, 2L),\n",
       " (2L, 5L),\n",
       " (5L, 2L),\n",
       " (3L, 4L),\n",
       " (4L, 3L),\n",
       " (4L, 5L),\n",
       " (5L, 4L)]"
      ]
     },
     "execution_count": 9,
     "metadata": {},
     "output_type": "execute_result"
    }
   ],
   "source": [
    "edges.collect()"
   ]
  },
  {
   "cell_type": "markdown",
   "metadata": {},
   "source": [
    "### Step 6: Create RDD to generate triads"
   ]
  },
  {
   "cell_type": "code",
   "execution_count": 14,
   "metadata": {
    "collapsed": true
   },
   "outputs": [],
   "source": [
    "triads = edges.groupByKey();"
   ]
  },
  {
   "cell_type": "code",
   "execution_count": 27,
   "metadata": {
    "collapsed": false
   },
   "outputs": [
    {
     "name": "stdout",
     "output_type": "stream",
     "text": [
      "debug1 t1[0]  1 , t1[1]  2\n",
      "debug1 t1[0]  2 , t1[1]  1 3 4 5\n",
      "debug1 t1[0]  3 , t1[1]  2 4\n",
      "debug1 t1[0]  4 , t1[1]  2 3 5\n",
      "debug1 t1[0]  5 , t1[1]  2 4\n"
     ]
    }
   ],
   "source": [
    "debug1 = triads.collect();\n",
    "for t1 in debug1 :\n",
    "    print \"debug1 t1[0] \", t1[0], \", t1[1] \", \" \".join([str(x) for x in t1[1]] )"
   ]
  },
  {
   "cell_type": "markdown",
   "metadata": {},
   "source": [
    "### Step 7: Create all possible triads"
   ]
  },
  {
   "cell_type": "code",
   "execution_count": 32,
   "metadata": {
    "collapsed": false
   },
   "outputs": [],
   "source": [
    "def all_triads( s ) :\n",
    "    # s[0] = Long (as a key)\n",
    "    # s[1] = Iterable<Long> (as values)\n",
    "    values = s[1]  \n",
    "    result = [] \n",
    "    # Generate possible triads.\n",
    "    for value in values :\n",
    "        k2 = ( s[0], value )\n",
    "        k2v2 = (k2, 0l);  # 직접 연결됨을 표시함.\n",
    "        result.append( k2v2 )\n",
    "    \n",
    "    valuesCopy = []\n",
    "    for item in values :\n",
    "        valuesCopy.append( item )\n",
    "        \n",
    "    valuesCopy.sort()\n",
    "    \n",
    "    ## Generate possible triads.\n",
    "    for i in range( len(valuesCopy)-1 ) :\n",
    "        for j in range( i+1, len(valuesCopy) ) :\n",
    "            k2 = (valuesCopy[i], valuesCopy[j] );\n",
    "            k2v2 = ( k2, s[0] )\n",
    "            result.append( k2v2 )\n",
    "            \n",
    "    return result"
   ]
  },
  {
   "cell_type": "code",
   "execution_count": 33,
   "metadata": {
    "collapsed": true
   },
   "outputs": [],
   "source": [
    "possibleTriads = triads.flatMap( all_triads  ) "
   ]
  },
  {
   "cell_type": "code",
   "execution_count": 35,
   "metadata": {
    "collapsed": false
   },
   "outputs": [
    {
     "name": "stdout",
     "output_type": "stream",
     "text": [
      " debug2 t2[0] = (1L, 2L) t2[1]= 0\n",
      "debug2 t2[0] = (2L, 1L) t2[1]= 0\n",
      "debug2 t2[0] = (2L, 3L) t2[1]= 0\n",
      "debug2 t2[0] = (2L, 4L) t2[1]= 0\n",
      "debug2 t2[0] = (2L, 5L) t2[1]= 0\n",
      "debug2 t2[0] = (1L, 3L) t2[1]= 2\n",
      "debug2 t2[0] = (1L, 4L) t2[1]= 2\n",
      "debug2 t2[0] = (1L, 5L) t2[1]= 2\n",
      "debug2 t2[0] = (3L, 4L) t2[1]= 2\n",
      "debug2 t2[0] = (3L, 5L) t2[1]= 2\n",
      "debug2 t2[0] = (4L, 5L) t2[1]= 2\n",
      "debug2 t2[0] = (3L, 2L) t2[1]= 0\n",
      "debug2 t2[0] = (3L, 4L) t2[1]= 0\n",
      "debug2 t2[0] = (2L, 4L) t2[1]= 3\n",
      "debug2 t2[0] = (4L, 2L) t2[1]= 0\n",
      "debug2 t2[0] = (4L, 3L) t2[1]= 0\n",
      "debug2 t2[0] = (4L, 5L) t2[1]= 0\n",
      "debug2 t2[0] = (2L, 3L) t2[1]= 4\n",
      "debug2 t2[0] = (2L, 5L) t2[1]= 4\n",
      "debug2 t2[0] = (3L, 5L) t2[1]= 4\n",
      "debug2 t2[0] = (5L, 2L) t2[1]= 0\n",
      "debug2 t2[0] = (5L, 4L) t2[1]= 0\n",
      "debug2 t2[0] = (2L, 4L) t2[1]= 5\n"
     ]
    }
   ],
   "source": [
    "debug2 = possibleTriads.collect();\n",
    "for t2 in debug2 :\n",
    "    print \"debug2 t2[0] =\", t2[0], \"t2[1]=\", t2[1]\n"
   ]
  },
  {
   "cell_type": "markdown",
   "metadata": {},
   "source": [
    "### Step 8: Create RDD to generate triangles"
   ]
  },
  {
   "cell_type": "code",
   "execution_count": 36,
   "metadata": {
    "collapsed": true
   },
   "outputs": [],
   "source": [
    "triadsGrouped = possibleTriads.groupByKey();"
   ]
  },
  {
   "cell_type": "code",
   "execution_count": 38,
   "metadata": {
    "collapsed": false
   },
   "outputs": [
    {
     "name": "stdout",
     "output_type": "stream",
     "text": [
      "debug3 t2[0] = (1L, 2L) t3[1]= 0\n",
      "debug3 t2[0] = (3L, 2L) t3[1]= 0\n",
      "debug3 t2[0] = (1L, 3L) t3[1]= 2\n",
      "debug3 t2[0] = (4L, 5L) t3[1]= 2 0\n",
      "debug3 t2[0] = (3L, 4L) t3[1]= 2 0\n",
      "debug3 t2[0] = (5L, 4L) t3[1]= 0\n",
      "debug3 t2[0] = (2L, 1L) t3[1]= 0\n",
      "debug3 t2[0] = (1L, 5L) t3[1]= 2\n",
      "debug3 t2[0] = (2L, 3L) t3[1]= 0 4\n",
      "debug3 t2[0] = (1L, 4L) t3[1]= 2\n",
      "debug3 t2[0] = (4L, 3L) t3[1]= 0\n",
      "debug3 t2[0] = (4L, 2L) t3[1]= 0\n",
      "debug3 t2[0] = (2L, 5L) t3[1]= 0 4\n",
      "debug3 t2[0] = (5L, 2L) t3[1]= 0\n",
      "debug3 t2[0] = (2L, 4L) t3[1]= 0 3 5\n",
      "debug3 t2[0] = (3L, 5L) t3[1]= 2 4\n"
     ]
    }
   ],
   "source": [
    "debug3 = triadsGrouped.collect();\n",
    "for t3 in debug3 :\n",
    "    print \"debug3 t2[0] =\", t3[0], \"t3[1]=\", \" \".join([str(x) for x in t3[1]] )"
   ]
  },
  {
   "cell_type": "markdown",
   "metadata": {},
   "source": [
    "### Step 9: Create all triangles"
   ]
  },
  {
   "cell_type": "code",
   "execution_count": 50,
   "metadata": {
    "collapsed": true
   },
   "outputs": [],
   "source": [
    "def all_triangles(s) :\n",
    "    # s[0] = Tuple2<Long,Long> (as a key) = \"<nodeA><,><nodeB>\"\n",
    "    # s[1] = Iterable<Long> (as values) = {0, n1, n2, n3, ...} or\n",
    "    #                                     {n1, n2, n3, ...}\n",
    "    key = s[0];\n",
    "    values = s[1];\n",
    "    \n",
    "    mylist = []\n",
    "    haveSeenSpecialNodeZero = False;\n",
    "    for node in values :\n",
    "        if 0L == node :\n",
    "            haveSeenSpecialNodeZero = True\n",
    "        else :\n",
    "            mylist.append(node);\n",
    "            \n",
    "    result = []\n",
    "    if haveSeenSpecialNodeZero :\n",
    "        if len(mylist) == 0 :\n",
    "            return result\n",
    "        \n",
    "        for node in mylist :\n",
    "            aTriangle = [ key[0], key[1], node ]\n",
    "            aTriangle.sort()\n",
    "            t3 = ( aTriangle[0], aTriangle[1], aTriangle[2]  )\n",
    "            result.append( t3 )\n",
    "    \n",
    "    return result"
   ]
  },
  {
   "cell_type": "code",
   "execution_count": 51,
   "metadata": {
    "collapsed": true
   },
   "outputs": [],
   "source": [
    "trianglesWithDuplicates = triadsGrouped.flatMap( all_triangles )"
   ]
  },
  {
   "cell_type": "code",
   "execution_count": 52,
   "metadata": {
    "collapsed": false
   },
   "outputs": [
    {
     "name": "stdout",
     "output_type": "stream",
     "text": [
      "=== Triangles with Duplicates ===\n",
      "t4 (2L, 4L, 5L)\n",
      "t4 (2L, 3L, 4L)\n",
      "t4 (2L, 3L, 4L)\n",
      "t4 (2L, 4L, 5L)\n",
      "t4 (2L, 3L, 4L)\n",
      "t4 (2L, 4L, 5L)\n"
     ]
    }
   ],
   "source": [
    "print \"=== Triangles with Duplicates ===\"\n",
    "debug4 = trianglesWithDuplicates.collect();\n",
    "for t4 in  debug4 :\n",
    "    print \"t4\", t4"
   ]
  },
  {
   "cell_type": "markdown",
   "metadata": {},
   "source": [
    "### Step 10: Create unique triangles"
   ]
  },
  {
   "cell_type": "code",
   "execution_count": 53,
   "metadata": {
    "collapsed": true
   },
   "outputs": [],
   "source": [
    "uniqueTriangles = trianglesWithDuplicates.distinct();"
   ]
  },
  {
   "cell_type": "code",
   "execution_count": 54,
   "metadata": {
    "collapsed": false
   },
   "outputs": [
    {
     "data": {
      "text/plain": [
       "[(2L, 3L, 4L), (2L, 4L, 5L)]"
      ]
     },
     "execution_count": 54,
     "metadata": {},
     "output_type": "execute_result"
    }
   ],
   "source": [
    "uniqueTriangles.collect()"
   ]
  },
  {
   "cell_type": "code",
   "execution_count": null,
   "metadata": {
    "collapsed": true
   },
   "outputs": [],
   "source": []
  }
 ],
 "metadata": {
  "kernelspec": {
   "display_name": "Python 2",
   "language": "python",
   "name": "python2"
  },
  "language_info": {
   "codemirror_mode": {
    "name": "ipython",
    "version": 2
   },
   "file_extension": ".py",
   "mimetype": "text/x-python",
   "name": "python",
   "nbconvert_exporter": "python",
   "pygments_lexer": "ipython2",
   "version": "2.7.11"
  },
  "widgets": {
   "state": {},
   "version": "1.1.2"
  }
 },
 "nbformat": 4,
 "nbformat_minor": 0
}
