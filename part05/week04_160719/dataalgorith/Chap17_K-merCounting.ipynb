{
 "cells": [
  {
   "cell_type": "markdown",
   "metadata": {},
   "source": [
    "# 7장 K-mer Counting"
   ]
  },
  {
   "cell_type": "markdown",
   "metadata": {},
   "source": [
    "- K-mer는 길이가 K 개인 substring임.\n",
    "- K-mer의 빈도 측정은 DNA 서열 데이터 분석에서 중요한 단계임.\n",
    "- K-mer Counting은 유전자와 전사체의 결합, sequence의 error correction 을 위해서 사용됨.\n",
    "- K-mer Counting 단순하지만, bigdata의 경우 큰 도전임.\n",
    "- 수십억의 DNA 서열에서 K-mer Counting은 어려운 문제임.\n",
    "\n",
    "\n",
    "- 이장의 목표 \n",
    "    - K > 0 주어졌을때 모든 K-mers을 탐색\n",
    "    - N > 0 이상의 K-mers 중에서 top N을 찾기\n",
    "    \n",
    "    \n",
    "```\n",
    "\n",
    "original sequence: CACACACAGT\n",
    "3-mers:            CAC\n",
    "                    ACA\n",
    "                     CAC\n",
    "                      ACA\n",
    "                       CAC\n",
    "                        ACA\n",
    "                         CAG\n",
    "                          AGT\n",
    "                          \n",
    "original sequence: CACACACAGT\n",
    "5-mers:            CACAC\n",
    "                    ACACA\n",
    "                     CACAC\n",
    "                      ACACA\n",
    "                       CACAG\n",
    "                        ACAGT\n",
    "```"
   ]
  },
  {
   "cell_type": "markdown",
   "metadata": {},
   "source": [
    "## Input Data for K-mer Counting"
   ]
  },
  {
   "cell_type": "markdown",
   "metadata": {},
   "source": [
    "- FASTQ 파일 포맷을 입력값으로 사용함.\n",
    "```\n",
    "@EAS54_6_R7_30800\n",
    "GTTGCTTCCCGCGTGGGTGGGTCGGGG\n",
    "+EAS54_6_R7\n",
    ";;;;;;;33;;;;9;7;;.7;393333\n",
    "```\n",
    "\n",
    "- FASTQ file format은 첫번째 라인이 @로 시작되고, 세번째 라인은 + 시작, 네번째 라인은 서열의 품질을 표현함.\n",
    "- 두번째 라인이 우리의 분석 대상임."
   ]
  },
  {
   "cell_type": "markdown",
   "metadata": {},
   "source": [
    "## Sample Data for K-mer Counting"
   ]
  },
  {
   "cell_type": "markdown",
   "metadata": {},
   "source": [
    "K-mer counting을 위한 테스트용 샘플\n",
    "- E. coli genome from http://bit.ly/e_coli_genome.\n",
    "- Human genome from http://bit.ly/hum_genome. Note that hg19 means human genome, build 19\n",
    "\n",
    "K-mer counting은 아래와 같은 질문에 답변을 줄 수 있음.\n",
    "- What are the top 10 most frequently occurring 9-mers in E. coli?\n",
    "- What are the top 10 most frequently occurring 9-mers in hg19?\n",
    "- What are the top 10 most frequently occurring 21-mers in hg19?"
   ]
  },
  {
   "cell_type": "markdown",
   "metadata": {},
   "source": [
    "##  K-mer Counting의 응용\n",
    "\n",
    "- reads들간의 misalignment가 sequencing error 인지, 선천적인 차이인지 구분할때. \n",
    "- 생물학적으로 중요한 역할을 하는 transposons 같은 반복적인 서열을 찾을때 \n",
    "- Correcting short-read assembly errors\n",
    "- Computing metrics such as relatedness(관계성) and unique enough(충분한 고유성) (useful in metagenomic applications)"
   ]
  },
  {
   "cell_type": "markdown",
   "metadata": {},
   "source": [
    "## K-mer Counting Solution in MapReduce/Hadoop\n",
    "\n",
    "### The map() Function\n",
    "\n",
    "![](chap17_01.jpg)\n",
    "\n",
    "### The reduce() Function\n",
    "\n",
    "![](chap17_02.jpg)\n",
    "\n",
    "```\n",
    "CACACACAGT   의 K = 3\n",
    "\n",
    "\n",
    "CAC 1\n",
    "ACA 1\n",
    "CAC 1\n",
    "ACA 1\n",
    "CAC 1\n",
    "ACA 1\n",
    "CAG 1\n",
    "AGT 1\n",
    "\n",
    "\n",
    "ACA 3\n",
    "CAC 3\n",
    "CAG 1\n",
    "AGT 1\n",
    "```"
   ]
  },
  {
   "cell_type": "markdown",
   "metadata": {
    "collapsed": true
   },
   "source": [
    "## K-mer Counting Solution in Spark\n",
    "\n",
    "![](chap17_03.jpg)"
   ]
  },
  {
   "cell_type": "markdown",
   "metadata": {},
   "source": [
    "### Step 3: Create a Spark context Object"
   ]
  },
  {
   "cell_type": "code",
   "execution_count": 3,
   "metadata": {
    "collapsed": false
   },
   "outputs": [
    {
     "data": {
      "text/plain": [
       "<pyspark.context.SparkContext at 0x7f807447cad0>"
      ]
     },
     "execution_count": 3,
     "metadata": {},
     "output_type": "execute_result"
    }
   ],
   "source": [
    "from pyspark import SparkContext\n",
    "sc = SparkContext() \n",
    "sc"
   ]
  },
  {
   "cell_type": "markdown",
   "metadata": {},
   "source": [
    "### Step 4: Broadcast global shared objects\n",
    "\n",
    "- 여러 노드에서 설정값을 공유하기 위해서 spark에서는 broadcast 라는 공유변수를 지원함."
   ]
  },
  {
   "cell_type": "code",
   "execution_count": 29,
   "metadata": {
    "collapsed": false
   },
   "outputs": [],
   "source": [
    "K = 3  # to find K-mers\n",
    "N = 5  # to find top N\n",
    "\n",
    "broadcastK = sc.broadcast(K)\n",
    "broadcastN = sc.broadcast(N)"
   ]
  },
  {
   "cell_type": "markdown",
   "metadata": {},
   "source": [
    "### Step 5: Read the FASTQ file from HDFS and create the first RDD"
   ]
  },
  {
   "cell_type": "markdown",
   "metadata": {},
   "source": [
    "sample.fastq\n",
    "\n",
    "```\n",
    "@EAS54_6_R1_2_1_413_324\n",
    "CCCTTCTTGTCCCCAGCGTTTCTCC\n",
    "+\n",
    ";;3;;;;;;;;;;;;7;;;;;;;88\n",
    "@EAS54_6_R1_2_1_540_792\n",
    "TTGGCAGGCCAAGGCCGATGGATCA\n",
    "+\n",
    ";;;;;;;;;;;7;;;;;-;;;3;83\n",
    "@EAS54_6_R1_2_1_443_348\n",
    "GTTGCTTCTGGCGTGGGTGGGGGGG\n",
    "+EAS54_6_R1_2_1_443_348\n",
    ";;;;;;;;;;;9;7;;.7;393333\n",
    "@EAS54_6_R1_2_1_413_324\n",
    "CCCCCCTTGTCTTCAGCCCTTCTCC\n",
    "+\n",
    ";;3;;;;;;;;;;;;7;;;;;;;88\n",
    "@EAS54_6_R1_2_1_540_792\n",
    "TTTTCAGGCCAAGGCCGATGGATCA\n",
    "+\n",
    ";;;;;;;;;;;7;;;;;-;;;3;83\n",
    "@EAS54_6_R1_2_1_443_348\n",
    "GTTGTTTCTGGCGTGGGTGGGGGGG\n",
    "+EAS54_6_R1_2_1_443_348\n",
    ";;;;;;;;;;;9;7;;.7;393333\n",
    "@EAS54_6_R1_2_1_443_348\n",
    "GTTGTTTCTGGCGTGGGTGGCCCCC\n",
    "+EAS54_6_R1_2_1_443_348\n",
    ";;;;;;;;;;;9;7;;.7;393333\n",
    "```"
   ]
  },
  {
   "cell_type": "code",
   "execution_count": 9,
   "metadata": {
    "collapsed": true
   },
   "outputs": [],
   "source": [
    "records = sc.textFile('sample.fastq', 1);"
   ]
  },
  {
   "cell_type": "code",
   "execution_count": null,
   "metadata": {
    "collapsed": true
   },
   "outputs": [],
   "source": [
    "records.collect()"
   ]
  },
  {
   "cell_type": "markdown",
   "metadata": {},
   "source": [
    "### Step 6: Filter redundant records"
   ]
  },
  {
   "cell_type": "code",
   "execution_count": 18,
   "metadata": {
    "collapsed": false
   },
   "outputs": [],
   "source": [
    "def is_redundant_records( record ) :\n",
    "    firstChar = record[ 0 : 1 ]\n",
    "    if  \"@\" == firstChar  or  \"+\" == firstChar  or  \";\" == firstChar  or  \"~\" == firstChar  : \n",
    "        return False\n",
    "    else :\n",
    "        return True"
   ]
  },
  {
   "cell_type": "code",
   "execution_count": 19,
   "metadata": {
    "collapsed": true
   },
   "outputs": [],
   "source": [
    "filteredRDD = records.filter( is_redundant_records  ) "
   ]
  },
  {
   "cell_type": "code",
   "execution_count": null,
   "metadata": {
    "collapsed": true
   },
   "outputs": [],
   "source": [
    "filteredRDD.collect()"
   ]
  },
  {
   "cell_type": "markdown",
   "metadata": {},
   "source": [
    "### Step 7: Generate K-mers"
   ]
  },
  {
   "cell_type": "code",
   "execution_count": 30,
   "metadata": {
    "collapsed": true
   },
   "outputs": [],
   "source": [
    "def generate_Kmers( sequence )  :\n",
    "    K = broadcastK.value\n",
    "    mylist = []\n",
    "    for i in range( 0,  len(sequence)-K+1 ) :\n",
    "        kmer = sequence[ i : K + i ] \n",
    "        mylist.append( ( kmer, 1 ) )\n",
    "    return mylist"
   ]
  },
  {
   "cell_type": "code",
   "execution_count": 31,
   "metadata": {
    "collapsed": true
   },
   "outputs": [],
   "source": [
    "kmers = filteredRDD.flatMap( generate_Kmers )"
   ]
  },
  {
   "cell_type": "code",
   "execution_count": null,
   "metadata": {
    "collapsed": true
   },
   "outputs": [],
   "source": [
    "kmers.collect()"
   ]
  },
  {
   "cell_type": "markdown",
   "metadata": {},
   "source": [
    "### Step 8: Combine/reduce frequent K-mers"
   ]
  },
  {
   "cell_type": "code",
   "execution_count": 45,
   "metadata": {
    "collapsed": false
   },
   "outputs": [],
   "source": [
    "kmersGrouped = kmers.reduceByKey( lambda a, b: a + b  )"
   ]
  },
  {
   "cell_type": "code",
   "execution_count": 46,
   "metadata": {
    "collapsed": false
   },
   "outputs": [
    {
     "data": {
      "text/plain": [
       "[(u'CTT', 6),\n",
       " (u'ATG', 2),\n",
       " (u'AAG', 2),\n",
       " (u'ATC', 2),\n",
       " (u'AGG', 4),\n",
       " (u'CCT', 3),\n",
       " (u'AGC', 2),\n",
       " (u'CTG', 3),\n",
       " (u'CTC', 2),\n",
       " (u'CAA', 2),\n",
       " (u'CAG', 4),\n",
       " (u'CCG', 2),\n",
       " (u'CCC', 11),\n",
       " (u'GGT', 3),\n",
       " (u'TGT', 4),\n",
       " (u'CGA', 2),\n",
       " (u'CCA', 3),\n",
       " (u'TCT', 7),\n",
       " (u'GAT', 4),\n",
       " (u'TTT', 5),\n",
       " (u'TGC', 1),\n",
       " (u'GGG', 13),\n",
       " (u'GGA', 2),\n",
       " (u'TGG', 12),\n",
       " (u'GGC', 9),\n",
       " (u'TTC', 8),\n",
       " (u'TTG', 6),\n",
       " (u'CGT', 4),\n",
       " (u'TCA', 4),\n",
       " (u'GCA', 1),\n",
       " (u'GCC', 6),\n",
       " (u'GTC', 2),\n",
       " (u'GCG', 4),\n",
       " (u'GTG', 6),\n",
       " (u'GTT', 6),\n",
       " (u'GCT', 1),\n",
       " (u'TCC', 3)]"
      ]
     },
     "execution_count": 46,
     "metadata": {},
     "output_type": "execute_result"
    }
   ],
   "source": [
    "kmersGrouped.collect()"
   ]
  },
  {
   "cell_type": "markdown",
   "metadata": {},
   "source": [
    "### Step 9: Create a local top N for each partition"
   ]
  },
  {
   "cell_type": "code",
   "execution_count": 61,
   "metadata": {
    "collapsed": true
   },
   "outputs": [],
   "source": [
    "def getKey(item):\n",
    "    return item[1]\n",
    "\n",
    "\n",
    "def local_topN( iter ) :\n",
    "    N = broadcastN.value\n",
    "    topN = []\n",
    "    kmerslist = list(iter)\n",
    "    for i in xrange(len(kmerslist)):\n",
    "        tup = kmerslist[i] \n",
    "        topN.append( tup )\n",
    "        if len( topN )  > N :\n",
    "            topN = sorted( topN, key=getKey, reverse=True)   # 비효율적인 방식임.\n",
    "            topN.pop()\n",
    "\n",
    "    return topN"
   ]
  },
  {
   "cell_type": "code",
   "execution_count": 62,
   "metadata": {
    "collapsed": true
   },
   "outputs": [],
   "source": [
    "partitions = kmersGrouped.mapPartitions( local_topN )"
   ]
  },
  {
   "cell_type": "code",
   "execution_count": 63,
   "metadata": {
    "collapsed": false
   },
   "outputs": [
    {
     "data": {
      "text/plain": [
       "[(u'GGG', 13), (u'TGG', 12), (u'CCC', 11), (u'GGC', 9), (u'TTC', 8)]"
      ]
     },
     "execution_count": 63,
     "metadata": {},
     "output_type": "execute_result"
    }
   ],
   "source": [
    "partitions.collect()"
   ]
  },
  {
   "cell_type": "markdown",
   "metadata": {},
   "source": [
    "### Step 10: Find the final top N"
   ]
  },
  {
   "cell_type": "code",
   "execution_count": 64,
   "metadata": {
    "collapsed": false
   },
   "outputs": [
    {
     "data": {
      "text/plain": [
       "[(u'GGG', 13), (u'TGG', 12), (u'CCC', 11), (u'GGC', 9), (u'TTC', 8)]"
      ]
     },
     "execution_count": 64,
     "metadata": {},
     "output_type": "execute_result"
    }
   ],
   "source": [
    "alltopN = partitions.collect()\n",
    "sorted( alltopN, key=getKey, reverse=True) "
   ]
  },
  {
   "cell_type": "code",
   "execution_count": null,
   "metadata": {
    "collapsed": true
   },
   "outputs": [],
   "source": []
  }
 ],
 "metadata": {
  "kernelspec": {
   "display_name": "Python 2",
   "language": "python",
   "name": "python2"
  },
  "language_info": {
   "codemirror_mode": {
    "name": "ipython",
    "version": 2
   },
   "file_extension": ".py",
   "mimetype": "text/x-python",
   "name": "python",
   "nbconvert_exporter": "python",
   "pygments_lexer": "ipython2",
   "version": "2.7.11"
  },
  "widgets": {
   "state": {},
   "version": "1.1.2"
  }
 },
 "nbformat": 4,
 "nbformat_minor": 0
}
