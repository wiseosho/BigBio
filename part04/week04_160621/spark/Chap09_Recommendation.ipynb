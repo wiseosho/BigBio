{
 "cells": [
  {
   "cell_type": "markdown",
   "metadata": {},
   "source": [
    "# 9장 Recommendation Engines Using MapReduce"
   ]
  },
  {
   "cell_type": "markdown",
   "metadata": {},
   "source": [
    "## Friendship connection\n",
    "\n",
    "![](spark09_01.jpg)"
   ]
  },
  {
   "cell_type": "markdown",
   "metadata": {
    "collapsed": true
   },
   "source": [
    "### Input Data"
   ]
  },
  {
   "cell_type": "markdown",
   "metadata": {},
   "source": [
    "![](spark09_02.jpg)\n",
    "\n",
    "- friends2.txt\n",
    "```\n",
    "1 2,3,4,5,6,7,8\n",
    "2 1,3,4,5,7\n",
    "3 1,2\n",
    "4 1,2,6\n",
    "5 1,2\n",
    "6 1,4\n",
    "7 1,2\n",
    "8 1\n",
    "```"
   ]
  },
  {
   "cell_type": "markdown",
   "metadata": {},
   "source": [
    "### Output \n",
    "\n",
    "- USER :  F(M: [I1, I2, I3, ...]), ...\n",
    "    - F : USER에게 친구로 추천하는 사람의 ID\n",
    "    - M : 같이 친구의 명수 \n",
    "    - I1, I2, I3,  : 같이 친구인 사람의 ID\n",
    "\n",
    "```\n",
    "4: 3 (2: [1, 2]),5 (2: [1, 2]),7 (2: [1, 2]),8 (1: [1]),\n",
    "2: 6 (2: [1, 4]),8 (1: [1]),\n",
    "6: 2 (2: [1, 4]),3 (1: [1]),5 (1: [1]),7 (1: [1]),8 (1: [1]),\n",
    "8: 2 (1: [1]),3 (1: [1]),4 (1: [1]),5 (1: [1]),6 (1: [1]),7 (1: [1]),\n",
    "3: 4 (2: [1, 2]),5 (2: [1, 2]),6 (1: [1]),7 (2: [1, 2]),8 (1: [1]),\n",
    "1:\n",
    "7: 3 (2: [1, 2]),4 (2: [1, 2]),5 (2: [1, 2]),6 (1: [1]),8 (1: [1]),\n",
    "5: 3 (2: [1, 2]),4 (2: [1, 2]),6 (1: [1]),7 (2: [1, 2]),8 (1: [1]),\n",
    "```"
   ]
  },
  {
   "cell_type": "markdown",
   "metadata": {
    "collapsed": true
   },
   "source": [
    "## Spark Implementation"
   ]
  },
  {
   "cell_type": "markdown",
   "metadata": {},
   "source": [
    "![](spark09_03.jpg)"
   ]
  },
  {
   "cell_type": "markdown",
   "metadata": {},
   "source": [
    "### Step 3: Create a Spark context object"
   ]
  },
  {
   "cell_type": "code",
   "execution_count": 2,
   "metadata": {
    "collapsed": false
   },
   "outputs": [
    {
     "data": {
      "text/plain": [
       "<pyspark.context.SparkContext at 0x7f8e5db3da50>"
      ]
     },
     "execution_count": 2,
     "metadata": {},
     "output_type": "execute_result"
    }
   ],
   "source": [
    "from pyspark import SparkContext\n",
    "sc = SparkContext() \n",
    "sc"
   ]
  },
  {
   "cell_type": "markdown",
   "metadata": {},
   "source": [
    "### Step 4: Read the HDFS input file and create an RDD"
   ]
  },
  {
   "cell_type": "code",
   "execution_count": 36,
   "metadata": {
    "collapsed": true
   },
   "outputs": [],
   "source": [
    "records = sc.textFile(\"friends2.txt\", 1);"
   ]
  },
  {
   "cell_type": "code",
   "execution_count": 38,
   "metadata": {
    "collapsed": false
   },
   "outputs": [
    {
     "name": "stdout",
     "output_type": "stream",
     "text": [
      "debug0 record: 1\t2,3,4,5,6,7,8\n",
      "debug0 record: 2\t1,3,4,5,7\n",
      "debug0 record: 3\t1,2\n",
      "debug0 record: 4\t1,2,6\n",
      "debug0 record: 5\t1,2\n",
      "debug0 record: 6\t1,4\n",
      "debug0 record: 7\t1,2\n",
      "debug0 record: 8\t1\n"
     ]
    }
   ],
   "source": [
    "for t in records.collect():\n",
    "    print \"debug0 record:\", t"
   ]
  },
  {
   "cell_type": "markdown",
   "metadata": {},
   "source": [
    "### Step 5: Implement the map() function"
   ]
  },
  {
   "cell_type": "code",
   "execution_count": 39,
   "metadata": {
    "collapsed": true
   },
   "outputs": [],
   "source": [
    "def make_pairs( record ) :\n",
    "    # // record=<person><TAB><friend1><,><friend2><,><friend3><,>...\n",
    "    tokens = record.split(\"\\t\")\n",
    "    person = long( tokens[0] )\n",
    "    friendsAsString = tokens[1]\n",
    "    friendsTokenized = friendsAsString.split(\",\");\n",
    "    \n",
    "    friends = []  ## LIST형\n",
    "    mapperOutput = [] ## LIST형\n",
    "    for friendAsString in  friendsTokenized :\n",
    "        toUser = long( friendAsString )\n",
    "        friends.append( toUser  ) \n",
    "        directFriend = ( toUser, -1L )  # 튜플형\n",
    "        mapperOutput.append( ( person, directFriend )  )\n",
    "        \n",
    "    for i  in range( len(friends) )  :\n",
    "        for j in range( i+1,  len(friends) )  :\n",
    "            possibleFriend1 = ( friends[j], person )\n",
    "            mapperOutput.append( (friends[i], possibleFriend1)  ) \n",
    "            \n",
    "            possibleFriend2 = ( friends[i], person )\n",
    "            mapperOutput.append( (friends[j], possibleFriend2) ) \n",
    "            \n",
    "    return mapperOutput"
   ]
  },
  {
   "cell_type": "code",
   "execution_count": 40,
   "metadata": {
    "collapsed": true
   },
   "outputs": [],
   "source": [
    "pairs = records.flatMap( make_pairs  )"
   ]
  },
  {
   "cell_type": "code",
   "execution_count": 41,
   "metadata": {
    "collapsed": false
   },
   "outputs": [
    {
     "name": "stdout",
     "output_type": "stream",
     "text": [
      "debug1 key=1\t value=(2L, -1L)\n",
      "debug1 key=1\t value=(3L, -1L)\n",
      "debug1 key=1\t value=(4L, -1L)\n",
      "debug1 key=1\t value=(5L, -1L)\n",
      "debug1 key=1\t value=(6L, -1L)\n",
      "debug1 key=1\t value=(7L, -1L)\n",
      "debug1 key=1\t value=(8L, -1L)\n",
      "debug1 key=2\t value=(3L, 1L)\n",
      "debug1 key=3\t value=(2L, 1L)\n",
      "debug1 key=2\t value=(4L, 1L)\n",
      "debug1 key=4\t value=(2L, 1L)\n",
      "debug1 key=2\t value=(5L, 1L)\n",
      "debug1 key=5\t value=(2L, 1L)\n",
      "debug1 key=2\t value=(6L, 1L)\n",
      "debug1 key=6\t value=(2L, 1L)\n",
      "debug1 key=2\t value=(7L, 1L)\n",
      "debug1 key=7\t value=(2L, 1L)\n",
      "debug1 key=2\t value=(8L, 1L)\n",
      "debug1 key=8\t value=(2L, 1L)\n",
      "debug1 key=3\t value=(4L, 1L)\n",
      "debug1 key=4\t value=(3L, 1L)\n",
      "debug1 key=3\t value=(5L, 1L)\n",
      "debug1 key=5\t value=(3L, 1L)\n",
      "debug1 key=3\t value=(6L, 1L)\n",
      "debug1 key=6\t value=(3L, 1L)\n",
      "debug1 key=3\t value=(7L, 1L)\n",
      "debug1 key=7\t value=(3L, 1L)\n",
      "debug1 key=3\t value=(8L, 1L)\n",
      "debug1 key=8\t value=(3L, 1L)\n",
      "debug1 key=4\t value=(5L, 1L)\n",
      "debug1 key=5\t value=(4L, 1L)\n",
      "debug1 key=4\t value=(6L, 1L)\n",
      "debug1 key=6\t value=(4L, 1L)\n",
      "debug1 key=4\t value=(7L, 1L)\n",
      "debug1 key=7\t value=(4L, 1L)\n",
      "debug1 key=4\t value=(8L, 1L)\n",
      "debug1 key=8\t value=(4L, 1L)\n",
      "debug1 key=5\t value=(6L, 1L)\n",
      "debug1 key=6\t value=(5L, 1L)\n",
      "debug1 key=5\t value=(7L, 1L)\n",
      "debug1 key=7\t value=(5L, 1L)\n",
      "debug1 key=5\t value=(8L, 1L)\n",
      "debug1 key=8\t value=(5L, 1L)\n",
      "debug1 key=6\t value=(7L, 1L)\n",
      "debug1 key=7\t value=(6L, 1L)\n",
      "debug1 key=6\t value=(8L, 1L)\n",
      "debug1 key=8\t value=(6L, 1L)\n",
      "debug1 key=7\t value=(8L, 1L)\n",
      "debug1 key=8\t value=(7L, 1L)\n",
      "debug1 key=2\t value=(1L, -1L)\n",
      "debug1 key=2\t value=(3L, -1L)\n",
      "debug1 key=2\t value=(4L, -1L)\n",
      "debug1 key=2\t value=(5L, -1L)\n",
      "debug1 key=2\t value=(7L, -1L)\n",
      "debug1 key=1\t value=(3L, 2L)\n",
      "debug1 key=3\t value=(1L, 2L)\n",
      "debug1 key=1\t value=(4L, 2L)\n",
      "debug1 key=4\t value=(1L, 2L)\n",
      "debug1 key=1\t value=(5L, 2L)\n",
      "debug1 key=5\t value=(1L, 2L)\n",
      "debug1 key=1\t value=(7L, 2L)\n",
      "debug1 key=7\t value=(1L, 2L)\n",
      "debug1 key=3\t value=(4L, 2L)\n",
      "debug1 key=4\t value=(3L, 2L)\n",
      "debug1 key=3\t value=(5L, 2L)\n",
      "debug1 key=5\t value=(3L, 2L)\n",
      "debug1 key=3\t value=(7L, 2L)\n",
      "debug1 key=7\t value=(3L, 2L)\n",
      "debug1 key=4\t value=(5L, 2L)\n",
      "debug1 key=5\t value=(4L, 2L)\n",
      "debug1 key=4\t value=(7L, 2L)\n",
      "debug1 key=7\t value=(4L, 2L)\n",
      "debug1 key=5\t value=(7L, 2L)\n",
      "debug1 key=7\t value=(5L, 2L)\n",
      "debug1 key=3\t value=(1L, -1L)\n",
      "debug1 key=3\t value=(2L, -1L)\n",
      "debug1 key=1\t value=(2L, 3L)\n",
      "debug1 key=2\t value=(1L, 3L)\n",
      "debug1 key=4\t value=(1L, -1L)\n",
      "debug1 key=4\t value=(2L, -1L)\n",
      "debug1 key=4\t value=(6L, -1L)\n",
      "debug1 key=1\t value=(2L, 4L)\n",
      "debug1 key=2\t value=(1L, 4L)\n",
      "debug1 key=1\t value=(6L, 4L)\n",
      "debug1 key=6\t value=(1L, 4L)\n",
      "debug1 key=2\t value=(6L, 4L)\n",
      "debug1 key=6\t value=(2L, 4L)\n",
      "debug1 key=5\t value=(1L, -1L)\n",
      "debug1 key=5\t value=(2L, -1L)\n",
      "debug1 key=1\t value=(2L, 5L)\n",
      "debug1 key=2\t value=(1L, 5L)\n",
      "debug1 key=6\t value=(1L, -1L)\n",
      "debug1 key=6\t value=(4L, -1L)\n",
      "debug1 key=1\t value=(4L, 6L)\n",
      "debug1 key=4\t value=(1L, 6L)\n",
      "debug1 key=7\t value=(1L, -1L)\n",
      "debug1 key=7\t value=(2L, -1L)\n",
      "debug1 key=1\t value=(2L, 7L)\n",
      "debug1 key=2\t value=(1L, 7L)\n",
      "debug1 key=8\t value=(1L, -1L)\n"
     ]
    }
   ],
   "source": [
    "debug2 = pairs.collect()\n",
    "for t2 in debug2 :\n",
    "    print \"debug1 key={}\\t value={}\".format( t2[0],  t2[1] ) ; "
   ]
  },
  {
   "cell_type": "markdown",
   "metadata": {},
   "source": [
    "### Step 6: Implement the reduce() function"
   ]
  },
  {
   "cell_type": "code",
   "execution_count": 42,
   "metadata": {
    "collapsed": true
   },
   "outputs": [],
   "source": [
    "grouped = pairs.groupByKey()"
   ]
  },
  {
   "cell_type": "code",
   "execution_count": 43,
   "metadata": {
    "collapsed": false
   },
   "outputs": [
    {
     "name": "stdout",
     "output_type": "stream",
     "text": [
      "debug2 key=1\t value=(2L, -1L)(3L, -1L)(4L, -1L)(5L, -1L)(6L, -1L)(7L, -1L)(8L, -1L)(3L, 2L)(4L, 2L)(5L, 2L)(7L, 2L)(2L, 3L)(2L, 4L)(6L, 4L)(2L, 5L)(4L, 6L)(2L, 7L)\n",
      "debug2 key=2\t value=(3L, 1L)(4L, 1L)(5L, 1L)(6L, 1L)(7L, 1L)(8L, 1L)(1L, -1L)(3L, -1L)(4L, -1L)(5L, -1L)(7L, -1L)(1L, 3L)(1L, 4L)(6L, 4L)(1L, 5L)(1L, 7L)\n",
      "debug2 key=3\t value=(2L, 1L)(4L, 1L)(5L, 1L)(6L, 1L)(7L, 1L)(8L, 1L)(1L, 2L)(4L, 2L)(5L, 2L)(7L, 2L)(1L, -1L)(2L, -1L)\n",
      "debug2 key=4\t value=(2L, 1L)(3L, 1L)(5L, 1L)(6L, 1L)(7L, 1L)(8L, 1L)(1L, 2L)(3L, 2L)(5L, 2L)(7L, 2L)(1L, -1L)(2L, -1L)(6L, -1L)(1L, 6L)\n",
      "debug2 key=5\t value=(2L, 1L)(3L, 1L)(4L, 1L)(6L, 1L)(7L, 1L)(8L, 1L)(1L, 2L)(3L, 2L)(4L, 2L)(7L, 2L)(1L, -1L)(2L, -1L)\n",
      "debug2 key=6\t value=(2L, 1L)(3L, 1L)(4L, 1L)(5L, 1L)(7L, 1L)(8L, 1L)(1L, 4L)(2L, 4L)(1L, -1L)(4L, -1L)\n",
      "debug2 key=7\t value=(2L, 1L)(3L, 1L)(4L, 1L)(5L, 1L)(6L, 1L)(8L, 1L)(1L, 2L)(3L, 2L)(4L, 2L)(5L, 2L)(1L, -1L)(2L, -1L)\n",
      "debug2 key=8\t value=(2L, 1L)(3L, 1L)(4L, 1L)(5L, 1L)(6L, 1L)(7L, 1L)(1L, -1L)\n"
     ]
    }
   ],
   "source": [
    "debug3 = grouped.collect()\n",
    "for t3 in debug3 :\n",
    "    print \"debug3 key={}\\t value={}\".format( t3[0],  \"\".join([str(x) for x in t3[1]] )   )"
   ]
  },
  {
   "cell_type": "markdown",
   "metadata": {},
   "source": [
    "### Step 7: Generate final output"
   ]
  },
  {
   "cell_type": "code",
   "execution_count": 57,
   "metadata": {
    "collapsed": false
   },
   "outputs": [],
   "source": [
    "def buildRecommendations( mutualFriends)  :\n",
    "    from cStringIO import StringIO\n",
    "    strIOs = StringIO()\n",
    "    \n",
    "    for key in mutualFriends.keys() :\n",
    "        values = mutualFriends[key]\n",
    "        if values == None :\n",
    "            continue\n",
    "        \n",
    "        strIOs.write( \"%s(%d:%s),\" \n",
    "                     %(key, len( values ), values)\n",
    "                     )\n",
    "        \n",
    "    return strIOs.getvalue()"
   ]
  },
  {
   "cell_type": "code",
   "execution_count": 58,
   "metadata": {
    "collapsed": true
   },
   "outputs": [],
   "source": [
    "def make_recommend( values )  :\n",
    "    mutualFriends = {}  # HashMap \n",
    "    for t2 in values :\n",
    "        toUser = t2[ 0 ]\n",
    "        mutualFriend = t2[ 1 ]\n",
    "        alreadyFriend = (mutualFriend == -1L )\n",
    "        \n",
    "        if toUser in mutualFriends :\n",
    "            if alreadyFriend :\n",
    "                mutualFriends[  toUser ] = None\n",
    "            elif mutualFriends[  toUser ] != None :\n",
    "                mutualFriends[  toUser ].append(  mutualFriend )\n",
    "        else :\n",
    "            if alreadyFriend :\n",
    "                mutualFriends[ toUser ] = None\n",
    "            else :\n",
    "                list1 = [ mutualFriend ]\n",
    "                mutualFriends[ toUser ] = list1\n",
    "    \n",
    "    return buildRecommendations( mutualFriends )"
   ]
  },
  {
   "cell_type": "code",
   "execution_count": 59,
   "metadata": {
    "collapsed": true
   },
   "outputs": [],
   "source": [
    "recommendations = grouped.mapValues( make_recommend )"
   ]
  },
  {
   "cell_type": "code",
   "execution_count": 60,
   "metadata": {
    "collapsed": false
   },
   "outputs": [
    {
     "name": "stdout",
     "output_type": "stream",
     "text": [
      "debug4 key=1\t value=\n",
      "debug4 key=2\t value=6(2:[1L, 4L]),8(1:[1L]),\n",
      "debug4 key=3\t value=4(2:[1L, 2L]),5(2:[1L, 2L]),6(1:[1L]),7(2:[1L, 2L]),8(1:[1L]),\n",
      "debug4 key=4\t value=3(2:[1L, 2L]),5(2:[1L, 2L]),7(2:[1L, 2L]),8(1:[1L]),\n",
      "debug4 key=5\t value=3(2:[1L, 2L]),4(2:[1L, 2L]),6(1:[1L]),7(2:[1L, 2L]),8(1:[1L]),\n",
      "debug4 key=6\t value=2(2:[1L, 4L]),3(1:[1L]),5(1:[1L]),7(1:[1L]),8(1:[1L]),\n",
      "debug4 key=7\t value=3(2:[1L, 2L]),4(2:[1L, 2L]),5(2:[1L, 2L]),6(1:[1L]),8(1:[1L]),\n",
      "debug4 key=8\t value=2(1:[1L]),3(1:[1L]),4(1:[1L]),5(1:[1L]),6(1:[1L]),7(1:[1L]),\n"
     ]
    }
   ],
   "source": [
    "debug4 = recommendations.collect()\n",
    "for t4 in debug4 :\n",
    "    print \"debug4 key={}\\t value={}\".format( t4[0],  \"\".join([str(x) for x in t4[1]] )   )"
   ]
  },
  {
   "cell_type": "code",
   "execution_count": null,
   "metadata": {
    "collapsed": true
   },
   "outputs": [],
   "source": []
  }
 ],
 "metadata": {
  "kernelspec": {
   "display_name": "Python 2",
   "language": "python",
   "name": "python2"
  },
  "language_info": {
   "codemirror_mode": {
    "name": "ipython",
    "version": 2
   },
   "file_extension": ".py",
   "mimetype": "text/x-python",
   "name": "python",
   "nbconvert_exporter": "python",
   "pygments_lexer": "ipython2",
   "version": "2.7.11"
  },
  "widgets": {
   "state": {},
   "version": "1.1.2"
  }
 },
 "nbformat": 4,
 "nbformat_minor": 0
}
