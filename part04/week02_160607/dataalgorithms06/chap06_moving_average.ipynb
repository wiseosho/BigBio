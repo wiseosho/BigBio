{
 "cells": [
  {
   "cell_type": "markdown",
   "metadata": {},
   "source": [
    "# CHAPTER 6 Moving Average"
   ]
  },
  {
   "cell_type": "markdown",
   "metadata": {},
   "source": [
    "- MapReduce로 이동평균을 계산하는 방법을 살펴봄\n",
    "- 이동평균에 대한 개념을 알아보자\n",
    "    - 먼저, time series 데이터에 대해서 이해가 필요.\n",
    "    - time series는 초, 분, 시간, 일, 주, 월과 같이 시간 주기로 변수값을 표현함.\n",
    "    - ( k, t, v )와 같이 튜플형식으로 표기\n",
    "        - k : 키값, 예) stock symbol\n",
    "        - t : 시간, 예) 시, 분, 초\n",
    "        - v : 연관된 값, 예) t 시점의 주가\n",
    "\n",
    "![](chap06_01.jpg)\n",
    "![](chap06_02.jpg)"
   ]
  },
  {
   "cell_type": "markdown",
   "metadata": {},
   "source": [
    "## Example 1: Time Series Data (Stock Prices)"
   ]
  },
  {
   "cell_type": "markdown",
   "metadata": {},
   "source": [
    "![](chap06_03.jpg)"
   ]
  },
  {
   "cell_type": "markdown",
   "metadata": {},
   "source": [
    "## POJO Moving Average Solutions\n",
    "\n",
    "- POJO : plain old Java object"
   ]
  },
  {
   "cell_type": "markdown",
   "metadata": {},
   "source": [
    "### Solution 1: Using a Queue"
   ]
  },
  {
   "cell_type": "markdown",
   "metadata": {},
   "source": [
    "![](chap06_04.jpg)"
   ]
  },
  {
   "cell_type": "markdown",
   "metadata": {},
   "source": [
    "### Solution 2: Using an Array"
   ]
  },
  {
   "cell_type": "markdown",
   "metadata": {},
   "source": [
    "![](chap06_05.jpg)"
   ]
  },
  {
   "cell_type": "markdown",
   "metadata": {},
   "source": [
    "### Testing the Moving Average"
   ]
  },
  {
   "cell_type": "markdown",
   "metadata": {},
   "source": [
    "![](chap06_06.jpg)"
   ]
  },
  {
   "cell_type": "markdown",
   "metadata": {},
   "source": [
    "## MapReduce/Hadoop Moving Average Solution"
   ]
  },
  {
   "cell_type": "markdown",
   "metadata": {},
   "source": [
    "### Option #1: Sorting in Memory\n",
    "\n",
    "- reducer에서 RAM 메모리에 time series 데이터를 정렬하는 방법\n",
    "- 문제점 : 데이터가 많으면,  Out Of Memory 발생\n",
    "\n",
    "\n",
    "- Mapper의 입력값 : name-as-string, timestamp, value-as-double\n",
    "- Mapper의 출력값 : Key => name-as-string, Val=> 정렬 안된 {timestamp , value-as-double}\n",
    "- Reducer : 정렬 안된 리스트를 정렬함.\n",
    "\n",
    "![](chap06_07.jpg)\n",
    "\n",
    "![](chap06_09.jpg)\n",
    "\n",
    "![](chap06_10.jpg)"
   ]
  },
  {
   "cell_type": "markdown",
   "metadata": {
    "collapsed": true
   },
   "source": [
    "### Option #2: Sorting Using the MapReduce Framework\n",
    "\n",
    "- key-value pairs 변경해서 1장의 secondary sorting을 수행하여 정렬후에 이동평균을 계산\n",
    "\n",
    "![](chap06_08.jpg)\n",
    "\n",
    "![](chap06_11.jpg)"
   ]
  },
  {
   "cell_type": "markdown",
   "metadata": {
    "collapsed": true
   },
   "source": [
    "- [SortByMRF_MovingAverageReducer ](https://github.com/mahmoudparsian/data-algorithms-book/blob/master/src/main/java/org/dataalgorithms/chap06/secondarysort/SortByMRF_MovingAverageReducer.java)"
   ]
  },
  {
   "cell_type": "code",
   "execution_count": null,
   "metadata": {
    "collapsed": true
   },
   "outputs": [],
   "source": []
  }
 ],
 "metadata": {
  "kernelspec": {
   "display_name": "Python 2",
   "language": "python",
   "name": "python2"
  },
  "language_info": {
   "codemirror_mode": {
    "name": "ipython",
    "version": 2
   },
   "file_extension": ".py",
   "mimetype": "text/x-python",
   "name": "python",
   "nbconvert_exporter": "python",
   "pygments_lexer": "ipython2",
   "version": "2.7.11"
  }
 },
 "nbformat": 4,
 "nbformat_minor": 0
}
