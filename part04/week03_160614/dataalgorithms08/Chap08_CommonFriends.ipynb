{
 "cells": [
  {
   "cell_type": "markdown",
   "metadata": {},
   "source": [
    "# Chapter 08  Common Friends"
   ]
  },
  {
   "cell_type": "markdown",
   "metadata": {},
   "source": [
    "- 친구목록에 있는 친구와 동통된 Friend을 찾는 것을 mapReduce 구현\n",
    "\n",
    "- 3가지 방법으로 구현 \n",
    "    - MapReduce/Hadoop using primitive data types\n",
    "    - MapReduce/Hadoop using custom data types\n",
    "    - Spark using RDDs\n",
    "\n",
    "\n",
    "- Facebook과 hi5, LinkedIn의 주요 기능\n",
    "- Social network 서비스에서 이 기능을 구현하는 방법은 2가지가 가능함.\n",
    "    - Use a caching strategy and save the common friends in a cache (such as Redis or memcached).\n",
    "    - Use MapReduce to calculate everyone’s common friends once a day and store those results."
   ]
  },
  {
   "cell_type": "markdown",
   "metadata": {},
   "source": [
    "## Input\n",
    "\n",
    "```\n",
    "<person><,><friend1 ><friend2 >...<friendN> \n",
    "    => <person> 사람의 친구목록은 <friend1 ><friend2 >...<friendN> 임\n",
    "\n",
    "100, 200 300 400 500 600\n",
    "200, 100 300 400\n",
    "300, 100 200 400 500\n",
    "400, 100 200 300\n",
    "500, 100 300\n",
    "600, 100\n",
    "```\n",
    "\n",
    "\n",
    "500 번 사람은 100, 300과 친구이고,   600번 사람은 100과 친구,    공통된 친구는 100번"
   ]
  },
  {
   "cell_type": "markdown",
   "metadata": {},
   "source": [
    "## POJO Common Friends Solution\n",
    "\n",
    "![](chap08_01.jpg)"
   ]
  },
  {
   "cell_type": "markdown",
   "metadata": {},
   "source": [
    "## MapReduce Algorithm\n",
    "\n",
    "- Mapper 의 Input\n",
    "    - key1 : person\n",
    "    - value1 : list of associated friends of that person\n",
    "    \n",
    "- Mapper 의 Output\n",
    "    - key2 : Tuple2( key1, friend_i )\n",
    "    - value2 : value1과 같은 값\n",
    "    \n",
    "- Reduce 의 Input \n",
    "    - key2 : Tuple2( key1, friend_i )\n",
    "    - value3 : List(  value2 ) \n",
    "    \n",
    "- Reduce 의 Out\n",
    "    - key3 : input인 Key2와 동일\n",
    "    - Value3 : 공통 친구리스트\n",
    "    \n",
    "    \n",
    "![](chap08_02.jpg)"
   ]
  },
  {
   "cell_type": "markdown",
   "metadata": {},
   "source": [
    "## The MapReduce Algorithm in Action"
   ]
  },
  {
   "cell_type": "markdown",
   "metadata": {},
   "source": [
    "![](chap08_03.jpg)\n",
    "![](chap08_04.jpg)"
   ]
  },
  {
   "cell_type": "markdown",
   "metadata": {},
   "source": [
    "## Solution 1: Hadoop Implementation Using Text\n",
    "\n",
    "```\n",
    "\tstatic String getFriends(String[] tokens) {\n",
    "\t\tif (tokens.length == 2) {\n",
    "\t\t\treturn \"\";\n",
    "\t\t}\n",
    "\t\tStringBuilder builder = new StringBuilder();\n",
    "\t\tfor (int i=1; i < tokens.length; i++) {\n",
    "\t\t\tbuilder.append(tokens[i]);\n",
    "\t\t\tif (i < (tokens.length -1)) {\n",
    "\t\t\t\tbuilder.append(\",\");\n",
    "\t\t\t}\n",
    "\t\t}\n",
    "\t\treturn builder.toString();\n",
    "\t}\n",
    "    \n",
    "    \n",
    "   \tstatic void addFriends(Map<String, Integer> map, String friendsList) {\n",
    "\t\tString[] friends = StringUtils.split(friendsList, \",\");\n",
    "\t\tfor (String friend : friends) {\n",
    "\t\t\tInteger count = map.get(friend);\n",
    "\t\t\tif (count == null) {\n",
    "\t\t\t\tmap.put(friend, 1);\n",
    "\t\t\t}\n",
    "\t\t\telse {\n",
    "\t\t\t\tmap.put(friend, ++count);\n",
    "\t\t\t}\n",
    "\t\t}\n",
    "   \t}\n",
    "```\n",
    "\n",
    "## Solution 2: Hadoop Implementation Using ArrayListOfLongsWritable\n",
    "\n",
    "```\n",
    "    static ArrayListOfLongsWritable getFriends(String[] tokens) {\n",
    "        if (tokens.length == 2) {\n",
    "            return new ArrayListOfLongsWritable();\n",
    "        }\n",
    "        \n",
    "        ArrayListOfLongsWritable list = new ArrayListOfLongsWritable();\n",
    "        for (int i=1; i < tokens.length; i++) {\n",
    "            list.add(Long.parseLong(tokens[i]));\n",
    "        }\n",
    "        return list;\n",
    "    }\n",
    "    \n",
    "    \n",
    "    \n",
    "    static void addFriends(Map<Long, Integer> map, ArrayListOfLongsWritable friendsList) {\n",
    "        Iterator<Long> iterator = friendsList.iterator();       \n",
    "        while (iterator.hasNext()) {\n",
    "            long id = iterator.next();\n",
    "            Integer count = map.get(id);\n",
    "            if (count == null) {\n",
    "                map.put(id, 1);\n",
    "            }\n",
    "            else {\n",
    "                map.put(id, ++count);\n",
    "            }\n",
    "        }\n",
    "    }    \n",
    "```\n"
   ]
  },
  {
   "cell_type": "markdown",
   "metadata": {},
   "source": [
    "## Spark Program\n",
    "\n",
    "![](chap08_05.jpg)"
   ]
  },
  {
   "cell_type": "markdown",
   "metadata": {},
   "source": [
    "#### Step 3: Create a JavaSparkContext object"
   ]
  },
  {
   "cell_type": "code",
   "execution_count": 1,
   "metadata": {
    "collapsed": false
   },
   "outputs": [],
   "source": [
    "from pyspark import SparkContext\n",
    "sc = SparkContext() "
   ]
  },
  {
   "cell_type": "code",
   "execution_count": 2,
   "metadata": {
    "collapsed": false
   },
   "outputs": [
    {
     "data": {
      "text/plain": [
       "<pyspark.context.SparkContext at 0x7f976c5c1110>"
      ]
     },
     "execution_count": 2,
     "metadata": {},
     "output_type": "execute_result"
    }
   ],
   "source": [
    "sc"
   ]
  },
  {
   "cell_type": "markdown",
   "metadata": {},
   "source": [
    "users_and_friends.txt\n",
    "\n",
    "```\n",
    "100,200 300 400 500\n",
    "200,100 300 400\n",
    "300,100 200 400 500\n",
    "400,100 200 300\n",
    "500,100 300\n",
    "600,100\n",
    "```"
   ]
  },
  {
   "cell_type": "markdown",
   "metadata": {},
   "source": [
    "#### Step 4: Read input file and create RDD"
   ]
  },
  {
   "cell_type": "code",
   "execution_count": 3,
   "metadata": {
    "collapsed": true
   },
   "outputs": [],
   "source": [
    "records =  sc.textFile( \"users_and_friends.txt\"  )"
   ]
  },
  {
   "cell_type": "code",
   "execution_count": 4,
   "metadata": {
    "collapsed": false
   },
   "outputs": [
    {
     "name": "stdout",
     "output_type": "stream",
     "text": [
      "debug0 record: 100,200 300 400 500\n",
      "debug0 record: 200,100 300 400\n",
      "debug0 record: 300,100 200 400 500\n",
      "debug0 record: 400,100 200 300\n",
      "debug0 record: 500,100 300\n",
      "debug0 record: 600,100\n"
     ]
    }
   ],
   "source": [
    "for t in records.collect():\n",
    "    print \"debug0 record:\", t"
   ]
  },
  {
   "cell_type": "markdown",
   "metadata": {},
   "source": [
    "#### Step 5: Apply a mapper"
   ]
  },
  {
   "cell_type": "code",
   "execution_count": 5,
   "metadata": {
    "collapsed": true
   },
   "outputs": [],
   "source": [
    "def buildSortedTuple( a , b ) :\n",
    "    if  a < b :\n",
    "        return ( a, b )\n",
    "    else :\n",
    "        return ( b, a )"
   ]
  },
  {
   "cell_type": "code",
   "execution_count": 25,
   "metadata": {
    "collapsed": false
   },
   "outputs": [
    {
     "name": "stdout",
     "output_type": "stream",
     "text": [
      " 100,200 300 400 500\n",
      "(100L, 200L) [200L, 300L, 400L, 500L]\n",
      "(100L, 300L) [200L, 300L, 400L, 500L]\n",
      "(100L, 400L) [200L, 300L, 400L, 500L]\n",
      "(100L, 500L) [200L, 300L, 400L, 500L]\n"
     ]
    }
   ],
   "source": [
    "def mapper_friends( line ) :\n",
    "    print line\n",
    "    tokens = line.split(',')\n",
    "    person = long( tokens[0] )\n",
    "    friendsTokenized = tokens[1].split(' ')\n",
    "    if len( friendsTokenized ) == 1 :\n",
    "        key = buildSortedTuple( person ,  long( friendsTokenized[0] )  )\n",
    "        return [ (key, [] ) ]\n",
    "    \n",
    "    friends = []\n",
    "    for f in friendsTokenized : \n",
    "        friends.append( long(f) )\n",
    "        \n",
    "    result = []\n",
    "    for f in friends :\n",
    "        key = buildSortedTuple( person ,  long( f )  )\n",
    "        result.append( (key, friends) )\n",
    "    \n",
    "    return result\n",
    "\n",
    "s = \"100,200 300 400 500\"\n",
    "for a in  mapper_friends( s ) :\n",
    "    print a[0], a[1]"
   ]
  },
  {
   "cell_type": "code",
   "execution_count": 33,
   "metadata": {
    "collapsed": true
   },
   "outputs": [],
   "source": [
    "pairs = records.flatMap(lambda s :  mapper_friends(s)  )"
   ]
  },
  {
   "cell_type": "code",
   "execution_count": 36,
   "metadata": {
    "collapsed": false
   },
   "outputs": [
    {
     "name": "stdout",
     "output_type": "stream",
     "text": [
      "debug1 key=(100L, 200L)\t value=[200L, 300L, 400L, 500L]\n",
      "debug1 key=(100L, 300L)\t value=[200L, 300L, 400L, 500L]\n",
      "debug1 key=(100L, 400L)\t value=[200L, 300L, 400L, 500L]\n",
      "debug1 key=(100L, 500L)\t value=[200L, 300L, 400L, 500L]\n",
      "debug1 key=(100L, 200L)\t value=[100L, 300L, 400L]\n",
      "debug1 key=(200L, 300L)\t value=[100L, 300L, 400L]\n",
      "debug1 key=(200L, 400L)\t value=[100L, 300L, 400L]\n",
      "debug1 key=(100L, 300L)\t value=[100L, 200L, 400L, 500L]\n",
      "debug1 key=(200L, 300L)\t value=[100L, 200L, 400L, 500L]\n",
      "debug1 key=(300L, 400L)\t value=[100L, 200L, 400L, 500L]\n",
      "debug1 key=(300L, 500L)\t value=[100L, 200L, 400L, 500L]\n",
      "debug1 key=(100L, 400L)\t value=[100L, 200L, 300L]\n",
      "debug1 key=(200L, 400L)\t value=[100L, 200L, 300L]\n",
      "debug1 key=(300L, 400L)\t value=[100L, 200L, 300L]\n",
      "debug1 key=(100L, 500L)\t value=[100L, 300L]\n",
      "debug1 key=(300L, 500L)\t value=[100L, 300L]\n",
      "debug1 key=(100L, 600L)\t value=[]\n"
     ]
    }
   ],
   "source": [
    "debug1 = pairs.collect()\n",
    "for t1 in debug1 :\n",
    "    print \"debug1 key={}\\t value={}\".format( t1[0],  t1[1] ) ; "
   ]
  },
  {
   "cell_type": "markdown",
   "metadata": {},
   "source": [
    "#### Step 6: Apply a reducer"
   ]
  },
  {
   "cell_type": "code",
   "execution_count": 37,
   "metadata": {
    "collapsed": true
   },
   "outputs": [],
   "source": [
    "grouped = pairs.groupByKey()"
   ]
  },
  {
   "cell_type": "code",
   "execution_count": 40,
   "metadata": {
    "collapsed": false
   },
   "outputs": [
    {
     "name": "stdout",
     "output_type": "stream",
     "text": [
      "debug2 key=(300L, 500L)\t value=[100L, 200L, 400L, 500L][100L, 300L]\n",
      "debug2 key=(100L, 200L)\t value=[200L, 300L, 400L, 500L][100L, 300L, 400L]\n",
      "debug2 key=(100L, 500L)\t value=[200L, 300L, 400L, 500L][100L, 300L]\n",
      "debug2 key=(300L, 400L)\t value=[100L, 200L, 400L, 500L][100L, 200L, 300L]\n",
      "debug2 key=(200L, 300L)\t value=[100L, 300L, 400L][100L, 200L, 400L, 500L]\n",
      "debug2 key=(100L, 400L)\t value=[200L, 300L, 400L, 500L][100L, 200L, 300L]\n",
      "debug2 key=(100L, 300L)\t value=[200L, 300L, 400L, 500L][100L, 200L, 400L, 500L]\n",
      "debug2 key=(100L, 600L)\t value=[]\n",
      "debug2 key=(200L, 400L)\t value=[100L, 300L, 400L][100L, 200L, 300L]\n"
     ]
    }
   ],
   "source": [
    "debug2 = grouped.collect()\n",
    "for t2 in  debug2 :\n",
    "    print \"debug2 key={}\\t value={}\".format( t2[0],  \"\".join([str(x) for x in t2[1]] )   )"
   ]
  },
  {
   "cell_type": "markdown",
   "metadata": {},
   "source": [
    "#### Step 7: Find common friends"
   ]
  },
  {
   "cell_type": "code",
   "execution_count": 52,
   "metadata": {
    "collapsed": false
   },
   "outputs": [],
   "source": [
    "def find_intersection( s ) :\n",
    "    countCommon = {}  # HashMap \n",
    "    size = 0\n",
    "    for  iter in s  :\n",
    "        size = size +1   \n",
    "        if len( iter ) == 0 :\n",
    "            continue        \n",
    "        for f in iter :\n",
    "            if f in countCommon :\n",
    "                count = countCommon[ f ]\n",
    "                countCommon[ f ] =  (count + 1 )\n",
    "            else :\n",
    "                countCommon[ f ] = 1\n",
    "    \n",
    "    finalCommonFriends = []\n",
    "    for key  in countCommon.keys():\n",
    "        if countCommon[ key ] == size :\n",
    "            finalCommonFriends.append( key )\n",
    "    \n",
    "    return finalCommonFriends"
   ]
  },
  {
   "cell_type": "code",
   "execution_count": 59,
   "metadata": {
    "collapsed": false
   },
   "outputs": [],
   "source": [
    "commonFriends = grouped.mapValues( find_intersection )"
   ]
  },
  {
   "cell_type": "code",
   "execution_count": 60,
   "metadata": {
    "collapsed": false
   },
   "outputs": [
    {
     "name": "stdout",
     "output_type": "stream",
     "text": [
      "debug3 key=(300L, 500L)\t value=[100L]\n",
      "debug3 key=(100L, 200L)\t value=[400L, 300L]\n",
      "debug3 key=(100L, 500L)\t value=[300L]\n",
      "debug3 key=(300L, 400L)\t value=[200L, 100L]\n",
      "debug3 key=(200L, 300L)\t value=[400L, 100L]\n",
      "debug3 key=(100L, 400L)\t value=[200L, 300L]\n",
      "debug3 key=(100L, 300L)\t value=[200L, 400L, 500L]\n",
      "debug3 key=(100L, 600L)\t value=[]\n",
      "debug3 key=(200L, 400L)\t value=[300L, 100L]\n"
     ]
    }
   ],
   "source": [
    "debug3 = commonFriends.collect() \n",
    "for t3 in debug3 :\n",
    "    print \"debug3 key={}\\t value={}\".format(  t3[0],   t3[1]  )"
   ]
  },
  {
   "cell_type": "markdown",
   "metadata": {},
   "source": [
    "#### Combining steps 6 and 7\n",
    "\n",
    "- steps 6 and 7 을 조합해서 하나의 step/operation으로 만들 수 있음\n",
    "- Spark에서는  combineByKey() 또는  reduceByKey() 함수를 지원\n",
    "- reduceByKey() :  reduces values of type V into V (the same data type)\n",
    "- combineByKey() : combine/transform values of type V into another type, C "
   ]
  },
  {
   "cell_type": "code",
   "execution_count": 61,
   "metadata": {
    "collapsed": true
   },
   "outputs": [],
   "source": [
    "def reduce_friends( a  ,  b ) :\n",
    "    x = set ( a )\n",
    "    intersection = set()\n",
    "    for item in b :\n",
    "        if item in x :\n",
    "            intersection.add( item )\n",
    "    return  intersection   "
   ]
  },
  {
   "cell_type": "code",
   "execution_count": 62,
   "metadata": {
    "collapsed": true
   },
   "outputs": [],
   "source": [
    "commonFriends2 = pairs.reduceByKey( reduce_friends )"
   ]
  },
  {
   "cell_type": "code",
   "execution_count": 67,
   "metadata": {
    "collapsed": false
   },
   "outputs": [
    {
     "name": "stdout",
     "output_type": "stream",
     "text": [
      "(300L, 500L), set([100L])\n",
      "(200L, 300L), set([400L, 100L])\n",
      "(100L, 200L), set([400L, 300L])\n",
      "(200L, 400L), set([300L, 100L])\n",
      "(100L, 400L), set([200L, 300L])\n",
      "(100L, 600L), []\n",
      "(100L, 300L), set([200L, 400L, 500L])\n",
      "(300L, 400L), set([200L, 100L])\n",
      "(100L, 500L), set([300L])\n"
     ]
    }
   ],
   "source": [
    "commonFriendsMap = commonFriends2.collectAsMap()\n",
    "for  key in commonFriendsMap.keys() :\n",
    "    print \"{}, {}\".format(  key, commonFriendsMap[key]  )"
   ]
  },
  {
   "cell_type": "code",
   "execution_count": null,
   "metadata": {
    "collapsed": true
   },
   "outputs": [],
   "source": []
  }
 ],
 "metadata": {
  "kernelspec": {
   "display_name": "Python 2",
   "language": "python",
   "name": "python2"
  },
  "language_info": {
   "codemirror_mode": {
    "name": "ipython",
    "version": 2
   },
   "file_extension": ".py",
   "mimetype": "text/x-python",
   "name": "python",
   "nbconvert_exporter": "python",
   "pygments_lexer": "ipython2",
   "version": "2.7.11"
  },
  "widgets": {
   "state": {},
   "version": "1.1.2"
  }
 },
 "nbformat": 4,
 "nbformat_minor": 0
}
